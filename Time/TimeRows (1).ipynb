{
 "cells": [
  {
   "cell_type": "markdown",
   "metadata": {
    "toc": true
   },
   "source": [
    "<h1>Содержание<span class=\"tocSkip\"></span></h1>\n",
    "<div class=\"toc\"><ul class=\"toc-item\"><li><span><a href=\"#Подготовка\" data-toc-modified-id=\"Подготовка-1\"><span class=\"toc-item-num\">1&nbsp;&nbsp;</span>Подготовка</a></span></li><li><span><a href=\"#Анализ\" data-toc-modified-id=\"Анализ-2\"><span class=\"toc-item-num\">2&nbsp;&nbsp;</span>Анализ</a></span><ul class=\"toc-item\"><li><span><a href=\"#Вывод\" data-toc-modified-id=\"Вывод-2.1\"><span class=\"toc-item-num\">2.1&nbsp;&nbsp;</span>Вывод</a></span></li></ul></li><li><span><a href=\"#Обучение\" data-toc-modified-id=\"Обучение-3\"><span class=\"toc-item-num\">3&nbsp;&nbsp;</span>Обучение</a></span></li><li><span><a href=\"#Тестирование\" data-toc-modified-id=\"Тестирование-4\"><span class=\"toc-item-num\">4&nbsp;&nbsp;</span>Тестирование</a></span></li>\n",
    "</ul></div>"
   ]
  },
  {
   "cell_type": "markdown",
   "metadata": {},
   "source": [
    "#  Прогнозирование заказов такси"
   ]
  },
  {
   "cell_type": "markdown",
   "metadata": {},
   "source": [
    "Компания «Чётенькое такси» собрала исторические данные о заказах такси в аэропортах. Чтобы привлекать больше водителей в период пиковой нагрузки, нужно спрогнозировать количество заказов такси на следующий час. Постройте модель для такого предсказания.\n",
    "\n",
    "Значение метрики *RMSE* на тестовой выборке должно быть не больше 48.\n",
    "\n",
    "Вам нужно:\n",
    "\n",
    "1. Загрузить данные и выполнить их ресемплирование по одному часу.\n",
    "2. Проанализировать данные.\n",
    "3. Обучить разные модели с различными гиперпараметрами. Сделать тестовую выборку размером 10% от исходных данных.\n",
    "4. Проверить данные на тестовой выборке и сделать выводы.\n",
    "\n",
    "\n",
    "Данные лежат в файле `taxi.csv`. Количество заказов находится в столбце `num_orders` (от англ. *number of orders*, «число заказов»)."
   ]
  },
  {
   "cell_type": "markdown",
   "metadata": {},
   "source": [
    "## Подготовка"
   ]
  },
  {
   "cell_type": "code",
   "execution_count": 1,
   "metadata": {},
   "outputs": [],
   "source": [
    "#!pip install --upgrade scikit-learn -q\n",
    "\n",
    "!pip install --upgrade imbalanced-learn -q"
   ]
  },
  {
   "cell_type": "code",
   "execution_count": 2,
   "metadata": {},
   "outputs": [],
   "source": [
    "import numpy as np\n",
    "import pandas as pd\n",
    "import matplotlib.pyplot as plt\n",
    "import seaborn as sns\n",
    "import warnings\n",
    "from sklearn.model_selection import train_test_split\n",
    "from imblearn.pipeline import Pipeline\n",
    "import sklearn\n",
    "from time import time\n",
    "\n",
    "from statsmodels.tsa.seasonal import seasonal_decompose\n",
    "\n",
    "# загружаем класс pipeline\n",
    "from sklearn.pipeline import Pipeline\n",
    "from sklearn.compose import ColumnTransformer\n",
    "\n",
    "# загружаем классы для подготовки данных\n",
    "from sklearn.preprocessing import OneHotEncoder, OrdinalEncoder, StandardScaler, MinMaxScaler, LabelEncoder\n",
    "\n",
    "# загружаем класс для работы с пропусками\n",
    "from sklearn.impute import SimpleImputer\n",
    "\n",
    "# загружаем функцию для работы с метриками\n",
    "from sklearn.metrics import root_mean_squared_error as RMSE\n",
    "\n",
    "# классы для перебора признаков\n",
    "from sklearn.model_selection import RandomizedSearchCV, GridSearchCV\n",
    "\n",
    "from sklearn.impute import KNNImputer\n",
    "\n",
    "# загружаем нужные модели\n",
    "from sklearn.linear_model import LinearRegression\n",
    "from sklearn.ensemble import RandomForestRegressor\n",
    "from lightgbm import LGBMRegressor\n",
    "from sklearn.dummy import DummyRegressor\n",
    "\n",
    "from sklearn.model_selection import cross_val_score\n",
    "from sklearn.model_selection import TimeSeriesSplit\n",
    "\n",
    "\n",
    "\n",
    "RS=42\n",
    "\n",
    "plt.rcParams[\"figure.figsize\"] = (18, 7)\n",
    "\n",
    "warnings.filterwarnings('ignore')\n",
    "warnings.filterwarnings(\"ignore\", category=FutureWarning)\n",
    "warnings.filterwarnings(\"ignore\", category=RuntimeWarning)"
   ]
  },
  {
   "cell_type": "code",
   "execution_count": 3,
   "metadata": {},
   "outputs": [
    {
     "data": {
      "text/html": [
       "<div>\n",
       "<style scoped>\n",
       "    .dataframe tbody tr th:only-of-type {\n",
       "        vertical-align: middle;\n",
       "    }\n",
       "\n",
       "    .dataframe tbody tr th {\n",
       "        vertical-align: top;\n",
       "    }\n",
       "\n",
       "    .dataframe thead th {\n",
       "        text-align: right;\n",
       "    }\n",
       "</style>\n",
       "<table border=\"1\" class=\"dataframe\">\n",
       "  <thead>\n",
       "    <tr style=\"text-align: right;\">\n",
       "      <th></th>\n",
       "      <th>num_orders</th>\n",
       "    </tr>\n",
       "    <tr>\n",
       "      <th>datetime</th>\n",
       "      <th></th>\n",
       "    </tr>\n",
       "  </thead>\n",
       "  <tbody>\n",
       "    <tr>\n",
       "      <th>2018-03-01 00:00:00</th>\n",
       "      <td>9</td>\n",
       "    </tr>\n",
       "    <tr>\n",
       "      <th>2018-03-01 00:10:00</th>\n",
       "      <td>14</td>\n",
       "    </tr>\n",
       "    <tr>\n",
       "      <th>2018-03-01 00:20:00</th>\n",
       "      <td>28</td>\n",
       "    </tr>\n",
       "    <tr>\n",
       "      <th>2018-03-01 00:30:00</th>\n",
       "      <td>20</td>\n",
       "    </tr>\n",
       "    <tr>\n",
       "      <th>2018-03-01 00:40:00</th>\n",
       "      <td>32</td>\n",
       "    </tr>\n",
       "  </tbody>\n",
       "</table>\n",
       "</div>"
      ],
      "text/plain": [
       "                     num_orders\n",
       "datetime                       \n",
       "2018-03-01 00:00:00           9\n",
       "2018-03-01 00:10:00          14\n",
       "2018-03-01 00:20:00          28\n",
       "2018-03-01 00:30:00          20\n",
       "2018-03-01 00:40:00          32"
      ]
     },
     "execution_count": 3,
     "metadata": {},
     "output_type": "execute_result"
    }
   ],
   "source": [
    "df = pd.read_csv('/datasets/taxi.csv', parse_dates=['datetime'], index_col=[0])\n",
    "df.head()"
   ]
  },
  {
   "cell_type": "code",
   "execution_count": 4,
   "metadata": {
    "scrolled": true
   },
   "outputs": [
    {
     "name": "stdout",
     "output_type": "stream",
     "text": [
      "<class 'pandas.core.frame.DataFrame'>\n",
      "DatetimeIndex: 26496 entries, 2018-03-01 00:00:00 to 2018-08-31 23:50:00\n",
      "Data columns (total 1 columns):\n",
      " #   Column      Non-Null Count  Dtype\n",
      "---  ------      --------------  -----\n",
      " 0   num_orders  26496 non-null  int64\n",
      "dtypes: int64(1)\n",
      "memory usage: 414.0 KB\n"
     ]
    }
   ],
   "source": [
    "df.info()"
   ]
  },
  {
   "cell_type": "code",
   "execution_count": 5,
   "metadata": {},
   "outputs": [],
   "source": [
    "df.sort_index(inplace=True)"
   ]
  },
  {
   "cell_type": "code",
   "execution_count": 6,
   "metadata": {
    "scrolled": true
   },
   "outputs": [
    {
     "data": {
      "text/html": [
       "<div>\n",
       "<style scoped>\n",
       "    .dataframe tbody tr th:only-of-type {\n",
       "        vertical-align: middle;\n",
       "    }\n",
       "\n",
       "    .dataframe tbody tr th {\n",
       "        vertical-align: top;\n",
       "    }\n",
       "\n",
       "    .dataframe thead th {\n",
       "        text-align: right;\n",
       "    }\n",
       "</style>\n",
       "<table border=\"1\" class=\"dataframe\">\n",
       "  <thead>\n",
       "    <tr style=\"text-align: right;\">\n",
       "      <th></th>\n",
       "      <th>num_orders</th>\n",
       "    </tr>\n",
       "    <tr>\n",
       "      <th>datetime</th>\n",
       "      <th></th>\n",
       "    </tr>\n",
       "  </thead>\n",
       "  <tbody>\n",
       "    <tr>\n",
       "      <th>2018-03-01 00:00:00</th>\n",
       "      <td>124</td>\n",
       "    </tr>\n",
       "    <tr>\n",
       "      <th>2018-03-01 01:00:00</th>\n",
       "      <td>85</td>\n",
       "    </tr>\n",
       "    <tr>\n",
       "      <th>2018-03-01 02:00:00</th>\n",
       "      <td>71</td>\n",
       "    </tr>\n",
       "    <tr>\n",
       "      <th>2018-03-01 03:00:00</th>\n",
       "      <td>66</td>\n",
       "    </tr>\n",
       "    <tr>\n",
       "      <th>2018-03-01 04:00:00</th>\n",
       "      <td>43</td>\n",
       "    </tr>\n",
       "  </tbody>\n",
       "</table>\n",
       "</div>"
      ],
      "text/plain": [
       "                     num_orders\n",
       "datetime                       \n",
       "2018-03-01 00:00:00         124\n",
       "2018-03-01 01:00:00          85\n",
       "2018-03-01 02:00:00          71\n",
       "2018-03-01 03:00:00          66\n",
       "2018-03-01 04:00:00          43"
      ]
     },
     "execution_count": 6,
     "metadata": {},
     "output_type": "execute_result"
    }
   ],
   "source": [
    "df = df.resample('1H').sum()\n",
    "df.head()"
   ]
  },
  {
   "cell_type": "code",
   "execution_count": 7,
   "metadata": {},
   "outputs": [
    {
     "data": {
      "text/html": [
       "<div>\n",
       "<style scoped>\n",
       "    .dataframe tbody tr th:only-of-type {\n",
       "        vertical-align: middle;\n",
       "    }\n",
       "\n",
       "    .dataframe tbody tr th {\n",
       "        vertical-align: top;\n",
       "    }\n",
       "\n",
       "    .dataframe thead th {\n",
       "        text-align: right;\n",
       "    }\n",
       "</style>\n",
       "<table border=\"1\" class=\"dataframe\">\n",
       "  <thead>\n",
       "    <tr style=\"text-align: right;\">\n",
       "      <th></th>\n",
       "      <th>num_orders</th>\n",
       "    </tr>\n",
       "    <tr>\n",
       "      <th>datetime</th>\n",
       "      <th></th>\n",
       "    </tr>\n",
       "  </thead>\n",
       "  <tbody>\n",
       "    <tr>\n",
       "      <th>2018-08-31 19:00:00</th>\n",
       "      <td>136</td>\n",
       "    </tr>\n",
       "    <tr>\n",
       "      <th>2018-08-31 20:00:00</th>\n",
       "      <td>154</td>\n",
       "    </tr>\n",
       "    <tr>\n",
       "      <th>2018-08-31 21:00:00</th>\n",
       "      <td>159</td>\n",
       "    </tr>\n",
       "    <tr>\n",
       "      <th>2018-08-31 22:00:00</th>\n",
       "      <td>223</td>\n",
       "    </tr>\n",
       "    <tr>\n",
       "      <th>2018-08-31 23:00:00</th>\n",
       "      <td>205</td>\n",
       "    </tr>\n",
       "  </tbody>\n",
       "</table>\n",
       "</div>"
      ],
      "text/plain": [
       "                     num_orders\n",
       "datetime                       \n",
       "2018-08-31 19:00:00         136\n",
       "2018-08-31 20:00:00         154\n",
       "2018-08-31 21:00:00         159\n",
       "2018-08-31 22:00:00         223\n",
       "2018-08-31 23:00:00         205"
      ]
     },
     "execution_count": 7,
     "metadata": {},
     "output_type": "execute_result"
    }
   ],
   "source": [
    "df.tail()"
   ]
  },
  {
   "cell_type": "code",
   "execution_count": 8,
   "metadata": {},
   "outputs": [
    {
     "data": {
      "text/plain": [
       "num_orders    0\n",
       "dtype: int64"
      ]
     },
     "execution_count": 8,
     "metadata": {},
     "output_type": "execute_result"
    }
   ],
   "source": [
    "df.isna().sum()"
   ]
  },
  {
   "cell_type": "markdown",
   "metadata": {},
   "source": [
    "## Анализ"
   ]
  },
  {
   "cell_type": "code",
   "execution_count": 9,
   "metadata": {},
   "outputs": [
    {
     "data": {
      "text/plain": [
       "True"
      ]
     },
     "execution_count": 9,
     "metadata": {},
     "output_type": "execute_result"
    }
   ],
   "source": [
    "df.index.is_monotonic"
   ]
  },
  {
   "cell_type": "markdown",
   "metadata": {},
   "source": [
    "Сначала проверим правильно ли порядке у нас хранятся значения"
   ]
  },
  {
   "cell_type": "code",
   "execution_count": 10,
   "metadata": {},
   "outputs": [
    {
     "data": {
      "text/plain": [
       "Timestamp('2018-03-01 00:00:00', freq='H')"
      ]
     },
     "execution_count": 10,
     "metadata": {},
     "output_type": "execute_result"
    }
   ],
   "source": [
    "df.index.min()"
   ]
  },
  {
   "cell_type": "code",
   "execution_count": 11,
   "metadata": {},
   "outputs": [
    {
     "data": {
      "text/plain": [
       "Timestamp('2018-08-31 23:00:00', freq='H')"
      ]
     },
     "execution_count": 11,
     "metadata": {},
     "output_type": "execute_result"
    }
   ],
   "source": [
    "df.index.max()"
   ]
  },
  {
   "cell_type": "markdown",
   "metadata": {},
   "source": [
    "Храним данные в период с начала марта по конец августа"
   ]
  },
  {
   "cell_type": "code",
   "execution_count": 12,
   "metadata": {},
   "outputs": [
    {
     "data": {
      "image/png": "[encoded data removed]",
      "text/plain": [
       "<Figure size 1296x504 with 1 Axes>"
      ]
     },
     "metadata": {
      "needs_background": "light"
     },
     "output_type": "display_data"
    }
   ],
   "source": [
    "df.plot()\n",
    "plt.grid()\n",
    "plt.title('Количество заказов по дням')\n",
    "plt.ylabel('Количество заказов');"
   ]
  },
  {
   "cell_type": "markdown",
   "metadata": {},
   "source": [
    "Анализируя график, видно, что кол-во заказов резко увеличивается в конце августа.\n",
    "\n",
    "Однако, стоит отметить рост в 4 квартале апреля и 3 квартале мая.\n",
    "\n",
    "Каких-то резких спадов, не наблюдаю"
   ]
  },
  {
   "cell_type": "code",
   "execution_count": 13,
   "metadata": {},
   "outputs": [
    {
     "data": {
      "image/png": "[encoded data removed]",
      "text/plain": [
       "<Figure size 1296x504 with 1 Axes>"
      ]
     },
     "metadata": {
      "needs_background": "light"
     },
     "output_type": "display_data"
    }
   ],
   "source": [
    "data = df.resample('1M').sum().plot()\n",
    "plt.grid()\n",
    "plt.title('Траектория движения количества заказов по месяцам')\n",
    "plt.ylabel('Количество заказов')\n",
    "plt.xlabel('Месяц');"
   ]
  },
  {
   "cell_type": "code",
   "execution_count": 14,
   "metadata": {},
   "outputs": [
    {
     "data": {
      "image/png": "[encoded data removed]",
      "text/plain": [
       "<Figure size 1296x504 with 1 Axes>"
      ]
     },
     "metadata": {
      "needs_background": "light"
     },
     "output_type": "display_data"
    }
   ],
   "source": [
    "data = df.resample('3M').mean().plot()\n",
    "plt.grid()\n",
    "plt.title('Траектория движения среднего количества заказов по кварталам')\n",
    "plt.ylabel('Количество заказов')\n",
    "plt.xlabel('Месяц');"
   ]
  },
  {
   "cell_type": "code",
   "execution_count": 15,
   "metadata": {},
   "outputs": [
    {
     "data": {
      "image/png": "[encoded data removed]",
      "text/plain": [
       "<Figure size 1296x504 with 1 Axes>"
      ]
     },
     "metadata": {
      "needs_background": "light"
     },
     "output_type": "display_data"
    }
   ],
   "source": [
    "data = df.copy()\n",
    "data['rolling_mean'] = data.rolling(24).mean()\n",
    "data.plot()\n",
    "plt.grid();"
   ]
  },
  {
   "cell_type": "markdown",
   "metadata": {},
   "source": [
    "График с наложенным усредненным по дня значением\n"
   ]
  },
  {
   "cell_type": "code",
   "execution_count": 16,
   "metadata": {},
   "outputs": [
    {
     "data": {
      "image/png": "[encoded data removed]",
      "text/plain": [
       "<Figure size 1296x504 with 1 Axes>"
      ]
     },
     "metadata": {
      "needs_background": "light"
     },
     "output_type": "display_data"
    }
   ],
   "source": [
    "data = df.copy()\n",
    "data['rolling_mean'] = data.rolling(168).mean()\n",
    "data.plot()\n",
    "plt.grid()\n",
    "plt.title('Количество заказов по дням')\n",
    "plt.ylabel('Количество заказов');"
   ]
  },
  {
   "cell_type": "markdown",
   "metadata": {},
   "source": [
    "График с наложенным недельным усреднением"
   ]
  },
  {
   "cell_type": "code",
   "execution_count": 17,
   "metadata": {},
   "outputs": [
    {
     "name": "stdout",
     "output_type": "stream",
     "text": [
      "<class 'pandas.core.frame.DataFrame'>\n",
      "DatetimeIndex: 4416 entries, 2018-03-01 00:00:00 to 2018-08-31 23:00:00\n",
      "Freq: H\n",
      "Data columns (total 1 columns):\n",
      " #   Column      Non-Null Count  Dtype\n",
      "---  ------      --------------  -----\n",
      " 0   num_orders  4416 non-null   int64\n",
      "dtypes: int64(1)\n",
      "memory usage: 69.0 KB\n"
     ]
    }
   ],
   "source": [
    "df.info()"
   ]
  },
  {
   "cell_type": "code",
   "execution_count": 18,
   "metadata": {},
   "outputs": [],
   "source": [
    "decomposed = seasonal_decompose(df[f'{df.index.min()}':f'{df.index.max()}']) "
   ]
  },
  {
   "cell_type": "code",
   "execution_count": 19,
   "metadata": {},
   "outputs": [
    {
     "data": {
      "image/png": "[encoded data removed]",
      "text/plain": [
       "<Figure size 1296x504 with 1 Axes>"
      ]
     },
     "metadata": {
      "needs_background": "light"
     },
     "output_type": "display_data"
    }
   ],
   "source": [
    "decomposed.trend.plot(ax=plt.gca());"
   ]
  },
  {
   "cell_type": "code",
   "execution_count": 20,
   "metadata": {},
   "outputs": [
    {
     "data": {
      "image/png": "[encoded data removed]",
      "text/plain": [
       "<Figure size 1656x720 with 2 Axes>"
      ]
     },
     "metadata": {
      "needs_background": "light"
     },
     "output_type": "display_data"
    }
   ],
   "source": [
    "plt.figure(figsize=(23, 10))\n",
    "plt.subplot(1,2,1)\n",
    "decomposed.seasonal['2018-05-01':'2018-05-31'].plot(ax=plt.gca())\n",
    "\n",
    "plt.subplot(1,2,2)\n",
    "decomposed.seasonal['2018-08-01':'2018-08-31'].plot(ax=plt.gca())\n",
    "\n",
    "plt.show()"
   ]
  },
  {
   "cell_type": "code",
   "execution_count": 21,
   "metadata": {
    "scrolled": true
   },
   "outputs": [
    {
     "data": {
      "image/png": "[encoded data removed]",
      "text/plain": [
       "<Figure size 1296x504 with 1 Axes>"
      ]
     },
     "metadata": {
      "needs_background": "light"
     },
     "output_type": "display_data"
    }
   ],
   "source": [
    "decomposed.seasonal['2018-05-01':'2018-05-08'].plot(ax=plt.gca());"
   ]
  },
  {
   "cell_type": "markdown",
   "metadata": {},
   "source": [
    "Проверка сезонности по неделям"
   ]
  },
  {
   "cell_type": "code",
   "execution_count": 22,
   "metadata": {},
   "outputs": [
    {
     "data": {
      "image/png": "[encoded data removed]",
      "text/plain": [
       "<Figure size 1296x504 with 1 Axes>"
      ]
     },
     "metadata": {
      "needs_background": "light"
     },
     "output_type": "display_data"
    }
   ],
   "source": [
    "decomposed.seasonal['2018-05-01':'2018-05-02'].plot(ax=plt.gca());"
   ]
  },
  {
   "cell_type": "markdown",
   "metadata": {},
   "source": [
    "Проверка сезонности по суткам"
   ]
  },
  {
   "cell_type": "markdown",
   "metadata": {},
   "source": [
    "### Вывод"
   ]
  },
  {
   "cell_type": "markdown",
   "metadata": {},
   "source": [
    "Провел предобработку и анализ данных. Изучил общую информацию, временное начало и конец наблюдений в данных. Добавил новые признаки на основе имеющихся данных.\n",
    "\n",
    "по графикам видно, что Тренд увеличивается в августе, т.е. растет с марта по август. Видно, что есть четкая сезонность внутри суток и недельная сезонность"
   ]
  },
  {
   "cell_type": "markdown",
   "metadata": {},
   "source": [
    "## Обучение"
   ]
  },
  {
   "cell_type": "code",
   "execution_count": 23,
   "metadata": {},
   "outputs": [],
   "source": [
    "def create_features(data, max_lag=1, windos_size=1):\n",
    "    data['dayofweek'] = data.index.dayofweek\n",
    "    data['hour'] = data.index.hour\n",
    "    \n",
    "    for lag in range(1, max_lag + 1):\n",
    "        data['lag_{}'.format(lag)] = data['num_orders'].shift(lag)\n",
    "        \n",
    "    data['rolling_mean'] = data['num_orders'].shift().rolling(windos_size).mean()\n",
    "        \n",
    "    return data"
   ]
  },
  {
   "cell_type": "code",
   "execution_count": 24,
   "metadata": {},
   "outputs": [
    {
     "data": {
      "text/html": [
       "<div>\n",
       "<style scoped>\n",
       "    .dataframe tbody tr th:only-of-type {\n",
       "        vertical-align: middle;\n",
       "    }\n",
       "\n",
       "    .dataframe tbody tr th {\n",
       "        vertical-align: top;\n",
       "    }\n",
       "\n",
       "    .dataframe thead th {\n",
       "        text-align: right;\n",
       "    }\n",
       "</style>\n",
       "<table border=\"1\" class=\"dataframe\">\n",
       "  <thead>\n",
       "    <tr style=\"text-align: right;\">\n",
       "      <th></th>\n",
       "      <th>num_orders</th>\n",
       "      <th>dayofweek</th>\n",
       "      <th>hour</th>\n",
       "      <th>lag_1</th>\n",
       "      <th>lag_2</th>\n",
       "      <th>lag_3</th>\n",
       "      <th>lag_4</th>\n",
       "      <th>lag_5</th>\n",
       "      <th>lag_6</th>\n",
       "      <th>lag_7</th>\n",
       "      <th>...</th>\n",
       "      <th>lag_16</th>\n",
       "      <th>lag_17</th>\n",
       "      <th>lag_18</th>\n",
       "      <th>lag_19</th>\n",
       "      <th>lag_20</th>\n",
       "      <th>lag_21</th>\n",
       "      <th>lag_22</th>\n",
       "      <th>lag_23</th>\n",
       "      <th>lag_24</th>\n",
       "      <th>rolling_mean</th>\n",
       "    </tr>\n",
       "    <tr>\n",
       "      <th>datetime</th>\n",
       "      <th></th>\n",
       "      <th></th>\n",
       "      <th></th>\n",
       "      <th></th>\n",
       "      <th></th>\n",
       "      <th></th>\n",
       "      <th></th>\n",
       "      <th></th>\n",
       "      <th></th>\n",
       "      <th></th>\n",
       "      <th></th>\n",
       "      <th></th>\n",
       "      <th></th>\n",
       "      <th></th>\n",
       "      <th></th>\n",
       "      <th></th>\n",
       "      <th></th>\n",
       "      <th></th>\n",
       "      <th></th>\n",
       "      <th></th>\n",
       "      <th></th>\n",
       "    </tr>\n",
       "  </thead>\n",
       "  <tbody>\n",
       "    <tr>\n",
       "      <th>2018-03-01 00:00:00</th>\n",
       "      <td>124</td>\n",
       "      <td>3</td>\n",
       "      <td>0</td>\n",
       "      <td>NaN</td>\n",
       "      <td>NaN</td>\n",
       "      <td>NaN</td>\n",
       "      <td>NaN</td>\n",
       "      <td>NaN</td>\n",
       "      <td>NaN</td>\n",
       "      <td>NaN</td>\n",
       "      <td>...</td>\n",
       "      <td>NaN</td>\n",
       "      <td>NaN</td>\n",
       "      <td>NaN</td>\n",
       "      <td>NaN</td>\n",
       "      <td>NaN</td>\n",
       "      <td>NaN</td>\n",
       "      <td>NaN</td>\n",
       "      <td>NaN</td>\n",
       "      <td>NaN</td>\n",
       "      <td>NaN</td>\n",
       "    </tr>\n",
       "    <tr>\n",
       "      <th>2018-03-01 01:00:00</th>\n",
       "      <td>85</td>\n",
       "      <td>3</td>\n",
       "      <td>1</td>\n",
       "      <td>124.0</td>\n",
       "      <td>NaN</td>\n",
       "      <td>NaN</td>\n",
       "      <td>NaN</td>\n",
       "      <td>NaN</td>\n",
       "      <td>NaN</td>\n",
       "      <td>NaN</td>\n",
       "      <td>...</td>\n",
       "      <td>NaN</td>\n",
       "      <td>NaN</td>\n",
       "      <td>NaN</td>\n",
       "      <td>NaN</td>\n",
       "      <td>NaN</td>\n",
       "      <td>NaN</td>\n",
       "      <td>NaN</td>\n",
       "      <td>NaN</td>\n",
       "      <td>NaN</td>\n",
       "      <td>NaN</td>\n",
       "    </tr>\n",
       "    <tr>\n",
       "      <th>2018-03-01 02:00:00</th>\n",
       "      <td>71</td>\n",
       "      <td>3</td>\n",
       "      <td>2</td>\n",
       "      <td>85.0</td>\n",
       "      <td>124.0</td>\n",
       "      <td>NaN</td>\n",
       "      <td>NaN</td>\n",
       "      <td>NaN</td>\n",
       "      <td>NaN</td>\n",
       "      <td>NaN</td>\n",
       "      <td>...</td>\n",
       "      <td>NaN</td>\n",
       "      <td>NaN</td>\n",
       "      <td>NaN</td>\n",
       "      <td>NaN</td>\n",
       "      <td>NaN</td>\n",
       "      <td>NaN</td>\n",
       "      <td>NaN</td>\n",
       "      <td>NaN</td>\n",
       "      <td>NaN</td>\n",
       "      <td>NaN</td>\n",
       "    </tr>\n",
       "    <tr>\n",
       "      <th>2018-03-01 03:00:00</th>\n",
       "      <td>66</td>\n",
       "      <td>3</td>\n",
       "      <td>3</td>\n",
       "      <td>71.0</td>\n",
       "      <td>85.0</td>\n",
       "      <td>124.0</td>\n",
       "      <td>NaN</td>\n",
       "      <td>NaN</td>\n",
       "      <td>NaN</td>\n",
       "      <td>NaN</td>\n",
       "      <td>...</td>\n",
       "      <td>NaN</td>\n",
       "      <td>NaN</td>\n",
       "      <td>NaN</td>\n",
       "      <td>NaN</td>\n",
       "      <td>NaN</td>\n",
       "      <td>NaN</td>\n",
       "      <td>NaN</td>\n",
       "      <td>NaN</td>\n",
       "      <td>NaN</td>\n",
       "      <td>NaN</td>\n",
       "    </tr>\n",
       "    <tr>\n",
       "      <th>2018-03-01 04:00:00</th>\n",
       "      <td>43</td>\n",
       "      <td>3</td>\n",
       "      <td>4</td>\n",
       "      <td>66.0</td>\n",
       "      <td>71.0</td>\n",
       "      <td>85.0</td>\n",
       "      <td>124.0</td>\n",
       "      <td>NaN</td>\n",
       "      <td>NaN</td>\n",
       "      <td>NaN</td>\n",
       "      <td>...</td>\n",
       "      <td>NaN</td>\n",
       "      <td>NaN</td>\n",
       "      <td>NaN</td>\n",
       "      <td>NaN</td>\n",
       "      <td>NaN</td>\n",
       "      <td>NaN</td>\n",
       "      <td>NaN</td>\n",
       "      <td>NaN</td>\n",
       "      <td>NaN</td>\n",
       "      <td>NaN</td>\n",
       "    </tr>\n",
       "  </tbody>\n",
       "</table>\n",
       "<p>5 rows × 28 columns</p>\n",
       "</div>"
      ],
      "text/plain": [
       "                     num_orders  dayofweek  hour  lag_1  lag_2  lag_3  lag_4  \\\n",
       "datetime                                                                       \n",
       "2018-03-01 00:00:00         124          3     0    NaN    NaN    NaN    NaN   \n",
       "2018-03-01 01:00:00          85          3     1  124.0    NaN    NaN    NaN   \n",
       "2018-03-01 02:00:00          71          3     2   85.0  124.0    NaN    NaN   \n",
       "2018-03-01 03:00:00          66          3     3   71.0   85.0  124.0    NaN   \n",
       "2018-03-01 04:00:00          43          3     4   66.0   71.0   85.0  124.0   \n",
       "\n",
       "                     lag_5  lag_6  lag_7  ...  lag_16  lag_17  lag_18  lag_19  \\\n",
       "datetime                                  ...                                   \n",
       "2018-03-01 00:00:00    NaN    NaN    NaN  ...     NaN     NaN     NaN     NaN   \n",
       "2018-03-01 01:00:00    NaN    NaN    NaN  ...     NaN     NaN     NaN     NaN   \n",
       "2018-03-01 02:00:00    NaN    NaN    NaN  ...     NaN     NaN     NaN     NaN   \n",
       "2018-03-01 03:00:00    NaN    NaN    NaN  ...     NaN     NaN     NaN     NaN   \n",
       "2018-03-01 04:00:00    NaN    NaN    NaN  ...     NaN     NaN     NaN     NaN   \n",
       "\n",
       "                     lag_20  lag_21  lag_22  lag_23  lag_24  rolling_mean  \n",
       "datetime                                                                   \n",
       "2018-03-01 00:00:00     NaN     NaN     NaN     NaN     NaN           NaN  \n",
       "2018-03-01 01:00:00     NaN     NaN     NaN     NaN     NaN           NaN  \n",
       "2018-03-01 02:00:00     NaN     NaN     NaN     NaN     NaN           NaN  \n",
       "2018-03-01 03:00:00     NaN     NaN     NaN     NaN     NaN           NaN  \n",
       "2018-03-01 04:00:00     NaN     NaN     NaN     NaN     NaN           NaN  \n",
       "\n",
       "[5 rows x 28 columns]"
      ]
     },
     "execution_count": 24,
     "metadata": {},
     "output_type": "execute_result"
    }
   ],
   "source": [
    "df = create_features(df, 24, 24)\n",
    "df.head()"
   ]
  },
  {
   "cell_type": "code",
   "execution_count": 25,
   "metadata": {},
   "outputs": [],
   "source": [
    "train, test = train_test_split(df, shuffle=False, test_size=0.1)\n",
    "\n",
    "train = train.dropna()"
   ]
  },
  {
   "cell_type": "code",
   "execution_count": 26,
   "metadata": {},
   "outputs": [],
   "source": [
    "X_train = train.drop('num_orders', axis=1)\n",
    "X_test = test.drop('num_orders', axis=1)\n",
    "\n",
    "y_train = train['num_orders']\n",
    "y_test = test['num_orders']"
   ]
  },
  {
   "cell_type": "code",
   "execution_count": 27,
   "metadata": {},
   "outputs": [
    {
     "data": {
      "text/plain": [
       "['num_orders',\n",
       " 'dayofweek',\n",
       " 'hour',\n",
       " 'lag_1',\n",
       " 'lag_2',\n",
       " 'lag_3',\n",
       " 'lag_4',\n",
       " 'lag_5',\n",
       " 'lag_6',\n",
       " 'lag_7',\n",
       " 'lag_8',\n",
       " 'lag_9',\n",
       " 'lag_10',\n",
       " 'lag_11',\n",
       " 'lag_12',\n",
       " 'lag_13',\n",
       " 'lag_14',\n",
       " 'lag_15',\n",
       " 'lag_16',\n",
       " 'lag_17',\n",
       " 'lag_18',\n",
       " 'lag_19',\n",
       " 'lag_20',\n",
       " 'lag_21',\n",
       " 'lag_22',\n",
       " 'lag_23',\n",
       " 'lag_24',\n",
       " 'rolling_mean']"
      ]
     },
     "execution_count": 27,
     "metadata": {},
     "output_type": "execute_result"
    }
   ],
   "source": [
    "[*df.columns]"
   ]
  },
  {
   "cell_type": "code",
   "execution_count": 27,
   "metadata": {},
   "outputs": [],
   "source": [
    "ohe_pipe = Pipeline(\n",
    "    [\n",
    "        ('ohe', OneHotEncoder(drop='first', handle_unknown='ignore', sparse_output=False))\n",
    "    ]\n",
    ")\n",
    "\n",
    "data_preprocessor = ColumnTransformer(\n",
    "    transformers=[\n",
    "        ('ohe', ohe_pipe, ['hour', 'dayofweek']),\n",
    "        ('num', StandardScaler(), [*df.columns][3:])  \n",
    "    ],\n",
    "    remainder='passthrough'\n",
    ")\n",
    "\n",
    "param_distribution = [\n",
    "     {\n",
    "      'models':[RandomForestRegressor(random_state=RS)],\n",
    "      'models__max_depth': range(2, 6),\n",
    "      'models__max_features': range(2, 8),\n",
    "      'models__n_estimators': [10, 20, 60]\n",
    "    },\n",
    "    {\n",
    "        'models':[LinearRegression()],\n",
    "    },\n",
    "    {\n",
    "        'models':[LGBMRegressor()],\n",
    "        'models__learning_rate':[0.1, 0.5],\n",
    "        'models__n_estimators':[100, 180],\n",
    "        'models__max_depth':range(2, 5)\n",
    "    }\n",
    "]\n",
    "\n",
    "pipe_final = Pipeline([\n",
    "    ('preprocessor', data_preprocessor),\n",
    "    ('models', LinearRegression())\n",
    "])"
   ]
  },
  {
   "cell_type": "code",
   "execution_count": 28,
   "metadata": {},
   "outputs": [],
   "source": [
    "tscv = TimeSeriesSplit(n_splits=5)"
   ]
  },
  {
   "cell_type": "code",
   "execution_count": 29,
   "metadata": {},
   "outputs": [
    {
     "name": "stdout",
     "output_type": "stream",
     "text": [
      "[LightGBM] [Warning] max_depth is set=-1, max_depth= will be ignored. Current value: max_depth=-1\n",
      "[LightGBM] [Warning] Unknown parameter: 4\n",
      "[LightGBM] [Warning] Unknown parameter: 180\n",
      "[LightGBM] [Warning] num_iterations is set=100, n_estimators= will be ignored. Current value: num_iterations=100\n",
      "[LightGBM] [Warning] max_depth is set=-1, max_depth= will be ignored. Current value: max_depth=-1\n",
      "[LightGBM] [Warning] Unknown parameter: 4\n",
      "[LightGBM] [Warning] Unknown parameter: 180\n",
      "[LightGBM] [Warning] num_iterations is set=100, n_estimators= will be ignored. Current value: num_iterations=100\n",
      "[LightGBM] [Warning] max_depth is set=-1, max_depth= will be ignored. Current value: max_depth=-1\n",
      "[LightGBM] [Warning] Unknown parameter: 4\n",
      "[LightGBM] [Warning] Unknown parameter: 180\n",
      "[LightGBM] [Warning] num_iterations is set=100, n_estimators= will be ignored. Current value: num_iterations=100\n",
      "[LightGBM] [Warning] max_depth is set=-1, max_depth= will be ignored. Current value: max_depth=-1\n",
      "[LightGBM] [Warning] Unknown parameter: 4\n",
      "[LightGBM] [Warning] Unknown parameter: 180\n",
      "[LightGBM] [Warning] num_iterations is set=100, n_estimators= will be ignored. Current value: num_iterations=100\n",
      "[LightGBM] [Warning] max_depth is set=-1, max_depth= will be ignored. Current value: max_depth=-1\n",
      "[LightGBM] [Warning] Unknown parameter: 4\n",
      "[LightGBM] [Warning] Unknown parameter: 180\n",
      "[LightGBM] [Warning] num_iterations is set=100, n_estimators= will be ignored. Current value: num_iterations=100\n",
      "[LightGBM] [Warning] max_depth is set=-1, max_depth= will be ignored. Current value: max_depth=-1\n",
      "[LightGBM] [Warning] Unknown parameter: 180\n",
      "[LightGBM] [Warning] Unknown parameter: 3\n",
      "[LightGBM] [Warning] num_iterations is set=100, n_estimators= will be ignored. Current value: num_iterations=100\n",
      "[LightGBM] [Warning] max_depth is set=-1, max_depth= will be ignored. Current value: max_depth=-1\n",
      "[LightGBM] [Warning] Unknown parameter: 180\n",
      "[LightGBM] [Warning] Unknown parameter: 3\n",
      "[LightGBM] [Warning] num_iterations is set=100, n_estimators= will be ignored. Current value: num_iterations=100\n",
      "[LightGBM] [Warning] max_depth is set=-1, max_depth= will be ignored. Current value: max_depth=-1\n",
      "[LightGBM] [Warning] Unknown parameter: 180\n",
      "[LightGBM] [Warning] Unknown parameter: 3\n",
      "[LightGBM] [Warning] num_iterations is set=100, n_estimators= will be ignored. Current value: num_iterations=100\n",
      "[LightGBM] [Warning] max_depth is set=-1, max_depth= will be ignored. Current value: max_depth=-1\n",
      "[LightGBM] [Warning] Unknown parameter: 180\n",
      "[LightGBM] [Warning] Unknown parameter: 3\n",
      "[LightGBM] [Warning] num_iterations is set=100, n_estimators= will be ignored. Current value: num_iterations=100\n",
      "[LightGBM] [Warning] max_depth is set=-1, max_depth= will be ignored. Current value: max_depth=-1\n",
      "[LightGBM] [Warning] Unknown parameter: 180\n",
      "[LightGBM] [Warning] Unknown parameter: 3\n",
      "[LightGBM] [Warning] num_iterations is set=100, n_estimators= will be ignored. Current value: num_iterations=100\n",
      "[LightGBM] [Warning] max_depth is set=-1, max_depth= will be ignored. Current value: max_depth=-1\n",
      "[LightGBM] [Warning] Unknown parameter: 4\n",
      "[LightGBM] [Warning] Unknown parameter: 180\n",
      "[LightGBM] [Warning] num_iterations is set=100, n_estimators= will be ignored. Current value: num_iterations=100\n"
     ]
    },
    {
     "data": {
      "text/html": [
       "<style>#sk-container-id-1 {\n",
       "  /* Definition of color scheme common for light and dark mode */\n",
       "  --sklearn-color-text: #000;\n",
       "  --sklearn-color-text-muted: #666;\n",
       "  --sklearn-color-line: gray;\n",
       "  /* Definition of color scheme for unfitted estimators */\n",
       "  --sklearn-color-unfitted-level-0: #fff5e6;\n",
       "  --sklearn-color-unfitted-level-1: #f6e4d2;\n",
       "  --sklearn-color-unfitted-level-2: #ffe0b3;\n",
       "  --sklearn-color-unfitted-level-3: chocolate;\n",
       "  /* Definition of color scheme for fitted estimators */\n",
       "  --sklearn-color-fitted-level-0: #f0f8ff;\n",
       "  --sklearn-color-fitted-level-1: #d4ebff;\n",
       "  --sklearn-color-fitted-level-2: #b3dbfd;\n",
       "  --sklearn-color-fitted-level-3: cornflowerblue;\n",
       "\n",
       "  /* Specific color for light theme */\n",
       "  --sklearn-color-text-on-default-background: var(--sg-text-color, var(--theme-code-foreground, var(--jp-content-font-color1, black)));\n",
       "  --sklearn-color-background: var(--sg-background-color, var(--theme-background, var(--jp-layout-color0, white)));\n",
       "  --sklearn-color-border-box: var(--sg-text-color, var(--theme-code-foreground, var(--jp-content-font-color1, black)));\n",
       "  --sklearn-color-icon: #696969;\n",
       "\n",
       "  @media (prefers-color-scheme: dark) {\n",
       "    /* Redefinition of color scheme for dark theme */\n",
       "    --sklearn-color-text-on-default-background: var(--sg-text-color, var(--theme-code-foreground, var(--jp-content-font-color1, white)));\n",
       "    --sklearn-color-background: var(--sg-background-color, var(--theme-background, var(--jp-layout-color0, #111)));\n",
       "    --sklearn-color-border-box: var(--sg-text-color, var(--theme-code-foreground, var(--jp-content-font-color1, white)));\n",
       "    --sklearn-color-icon: #878787;\n",
       "  }\n",
       "}\n",
       "\n",
       "#sk-container-id-1 {\n",
       "  color: var(--sklearn-color-text);\n",
       "}\n",
       "\n",
       "#sk-container-id-1 pre {\n",
       "  padding: 0;\n",
       "}\n",
       "\n",
       "#sk-container-id-1 input.sk-hidden--visually {\n",
       "  border: 0;\n",
       "  clip: rect(1px 1px 1px 1px);\n",
       "  clip: rect(1px, 1px, 1px, 1px);\n",
       "  height: 1px;\n",
       "  margin: -1px;\n",
       "  overflow: hidden;\n",
       "  padding: 0;\n",
       "  position: absolute;\n",
       "  width: 1px;\n",
       "}\n",
       "\n",
       "#sk-container-id-1 div.sk-dashed-wrapped {\n",
       "  border: 1px dashed var(--sklearn-color-line);\n",
       "  margin: 0 0.4em 0.5em 0.4em;\n",
       "  box-sizing: border-box;\n",
       "  padding-bottom: 0.4em;\n",
       "  background-color: var(--sklearn-color-background);\n",
       "}\n",
       "\n",
       "#sk-container-id-1 div.sk-container {\n",
       "  /* jupyter's `normalize.less` sets `[hidden] { display: none; }`\n",
       "     but bootstrap.min.css set `[hidden] { display: none !important; }`\n",
       "     so we also need the `!important` here to be able to override the\n",
       "     default hidden behavior on the sphinx rendered scikit-learn.org.\n",
       "     See: https://github.com/scikit-learn/scikit-learn/issues/21755 */\n",
       "  display: inline-block !important;\n",
       "  position: relative;\n",
       "}\n",
       "\n",
       "#sk-container-id-1 div.sk-text-repr-fallback {\n",
       "  display: none;\n",
       "}\n",
       "\n",
       "div.sk-parallel-item,\n",
       "div.sk-serial,\n",
       "div.sk-item {\n",
       "  /* draw centered vertical line to link estimators */\n",
       "  background-image: linear-gradient(var(--sklearn-color-text-on-default-background), var(--sklearn-color-text-on-default-background));\n",
       "  background-size: 2px 100%;\n",
       "  background-repeat: no-repeat;\n",
       "  background-position: center center;\n",
       "}\n",
       "\n",
       "/* Parallel-specific style estimator block */\n",
       "\n",
       "#sk-container-id-1 div.sk-parallel-item::after {\n",
       "  content: \"\";\n",
       "  width: 100%;\n",
       "  border-bottom: 2px solid var(--sklearn-color-text-on-default-background);\n",
       "  flex-grow: 1;\n",
       "}\n",
       "\n",
       "#sk-container-id-1 div.sk-parallel {\n",
       "  display: flex;\n",
       "  align-items: stretch;\n",
       "  justify-content: center;\n",
       "  background-color: var(--sklearn-color-background);\n",
       "  position: relative;\n",
       "}\n",
       "\n",
       "#sk-container-id-1 div.sk-parallel-item {\n",
       "  display: flex;\n",
       "  flex-direction: column;\n",
       "}\n",
       "\n",
       "#sk-container-id-1 div.sk-parallel-item:first-child::after {\n",
       "  align-self: flex-end;\n",
       "  width: 50%;\n",
       "}\n",
       "\n",
       "#sk-container-id-1 div.sk-parallel-item:last-child::after {\n",
       "  align-self: flex-start;\n",
       "  width: 50%;\n",
       "}\n",
       "\n",
       "#sk-container-id-1 div.sk-parallel-item:only-child::after {\n",
       "  width: 0;\n",
       "}\n",
       "\n",
       "/* Serial-specific style estimator block */\n",
       "\n",
       "#sk-container-id-1 div.sk-serial {\n",
       "  display: flex;\n",
       "  flex-direction: column;\n",
       "  align-items: center;\n",
       "  background-color: var(--sklearn-color-background);\n",
       "  padding-right: 1em;\n",
       "  padding-left: 1em;\n",
       "}\n",
       "\n",
       "\n",
       "/* Toggleable style: style used for estimator/Pipeline/ColumnTransformer box that is\n",
       "clickable and can be expanded/collapsed.\n",
       "- Pipeline and ColumnTransformer use this feature and define the default style\n",
       "- Estimators will overwrite some part of the style using the `sk-estimator` class\n",
       "*/\n",
       "\n",
       "/* Pipeline and ColumnTransformer style (default) */\n",
       "\n",
       "#sk-container-id-1 div.sk-toggleable {\n",
       "  /* Default theme specific background. It is overwritten whether we have a\n",
       "  specific estimator or a Pipeline/ColumnTransformer */\n",
       "  background-color: var(--sklearn-color-background);\n",
       "}\n",
       "\n",
       "/* Toggleable label */\n",
       "#sk-container-id-1 label.sk-toggleable__label {\n",
       "  cursor: pointer;\n",
       "  display: flex;\n",
       "  width: 100%;\n",
       "  margin-bottom: 0;\n",
       "  padding: 0.5em;\n",
       "  box-sizing: border-box;\n",
       "  text-align: center;\n",
       "  align-items: start;\n",
       "  justify-content: space-between;\n",
       "  gap: 0.5em;\n",
       "}\n",
       "\n",
       "#sk-container-id-1 label.sk-toggleable__label .caption {\n",
       "  font-size: 0.6rem;\n",
       "  font-weight: lighter;\n",
       "  color: var(--sklearn-color-text-muted);\n",
       "}\n",
       "\n",
       "#sk-container-id-1 label.sk-toggleable__label-arrow:before {\n",
       "  /* Arrow on the left of the label */\n",
       "  content: \"▸\";\n",
       "  float: left;\n",
       "  margin-right: 0.25em;\n",
       "  color: var(--sklearn-color-icon);\n",
       "}\n",
       "\n",
       "#sk-container-id-1 label.sk-toggleable__label-arrow:hover:before {\n",
       "  color: var(--sklearn-color-text);\n",
       "}\n",
       "\n",
       "/* Toggleable content - dropdown */\n",
       "\n",
       "#sk-container-id-1 div.sk-toggleable__content {\n",
       "  max-height: 0;\n",
       "  max-width: 0;\n",
       "  overflow: hidden;\n",
       "  text-align: left;\n",
       "  /* unfitted */\n",
       "  background-color: var(--sklearn-color-unfitted-level-0);\n",
       "}\n",
       "\n",
       "#sk-container-id-1 div.sk-toggleable__content.fitted {\n",
       "  /* fitted */\n",
       "  background-color: var(--sklearn-color-fitted-level-0);\n",
       "}\n",
       "\n",
       "#sk-container-id-1 div.sk-toggleable__content pre {\n",
       "  margin: 0.2em;\n",
       "  border-radius: 0.25em;\n",
       "  color: var(--sklearn-color-text);\n",
       "  /* unfitted */\n",
       "  background-color: var(--sklearn-color-unfitted-level-0);\n",
       "}\n",
       "\n",
       "#sk-container-id-1 div.sk-toggleable__content.fitted pre {\n",
       "  /* unfitted */\n",
       "  background-color: var(--sklearn-color-fitted-level-0);\n",
       "}\n",
       "\n",
       "#sk-container-id-1 input.sk-toggleable__control:checked~div.sk-toggleable__content {\n",
       "  /* Expand drop-down */\n",
       "  max-height: 200px;\n",
       "  max-width: 100%;\n",
       "  overflow: auto;\n",
       "}\n",
       "\n",
       "#sk-container-id-1 input.sk-toggleable__control:checked~label.sk-toggleable__label-arrow:before {\n",
       "  content: \"▾\";\n",
       "}\n",
       "\n",
       "/* Pipeline/ColumnTransformer-specific style */\n",
       "\n",
       "#sk-container-id-1 div.sk-label input.sk-toggleable__control:checked~label.sk-toggleable__label {\n",
       "  color: var(--sklearn-color-text);\n",
       "  background-color: var(--sklearn-color-unfitted-level-2);\n",
       "}\n",
       "\n",
       "#sk-container-id-1 div.sk-label.fitted input.sk-toggleable__control:checked~label.sk-toggleable__label {\n",
       "  background-color: var(--sklearn-color-fitted-level-2);\n",
       "}\n",
       "\n",
       "/* Estimator-specific style */\n",
       "\n",
       "/* Colorize estimator box */\n",
       "#sk-container-id-1 div.sk-estimator input.sk-toggleable__control:checked~label.sk-toggleable__label {\n",
       "  /* unfitted */\n",
       "  background-color: var(--sklearn-color-unfitted-level-2);\n",
       "}\n",
       "\n",
       "#sk-container-id-1 div.sk-estimator.fitted input.sk-toggleable__control:checked~label.sk-toggleable__label {\n",
       "  /* fitted */\n",
       "  background-color: var(--sklearn-color-fitted-level-2);\n",
       "}\n",
       "\n",
       "#sk-container-id-1 div.sk-label label.sk-toggleable__label,\n",
       "#sk-container-id-1 div.sk-label label {\n",
       "  /* The background is the default theme color */\n",
       "  color: var(--sklearn-color-text-on-default-background);\n",
       "}\n",
       "\n",
       "/* On hover, darken the color of the background */\n",
       "#sk-container-id-1 div.sk-label:hover label.sk-toggleable__label {\n",
       "  color: var(--sklearn-color-text);\n",
       "  background-color: var(--sklearn-color-unfitted-level-2);\n",
       "}\n",
       "\n",
       "/* Label box, darken color on hover, fitted */\n",
       "#sk-container-id-1 div.sk-label.fitted:hover label.sk-toggleable__label.fitted {\n",
       "  color: var(--sklearn-color-text);\n",
       "  background-color: var(--sklearn-color-fitted-level-2);\n",
       "}\n",
       "\n",
       "/* Estimator label */\n",
       "\n",
       "#sk-container-id-1 div.sk-label label {\n",
       "  font-family: monospace;\n",
       "  font-weight: bold;\n",
       "  display: inline-block;\n",
       "  line-height: 1.2em;\n",
       "}\n",
       "\n",
       "#sk-container-id-1 div.sk-label-container {\n",
       "  text-align: center;\n",
       "}\n",
       "\n",
       "/* Estimator-specific */\n",
       "#sk-container-id-1 div.sk-estimator {\n",
       "  font-family: monospace;\n",
       "  border: 1px dotted var(--sklearn-color-border-box);\n",
       "  border-radius: 0.25em;\n",
       "  box-sizing: border-box;\n",
       "  margin-bottom: 0.5em;\n",
       "  /* unfitted */\n",
       "  background-color: var(--sklearn-color-unfitted-level-0);\n",
       "}\n",
       "\n",
       "#sk-container-id-1 div.sk-estimator.fitted {\n",
       "  /* fitted */\n",
       "  background-color: var(--sklearn-color-fitted-level-0);\n",
       "}\n",
       "\n",
       "/* on hover */\n",
       "#sk-container-id-1 div.sk-estimator:hover {\n",
       "  /* unfitted */\n",
       "  background-color: var(--sklearn-color-unfitted-level-2);\n",
       "}\n",
       "\n",
       "#sk-container-id-1 div.sk-estimator.fitted:hover {\n",
       "  /* fitted */\n",
       "  background-color: var(--sklearn-color-fitted-level-2);\n",
       "}\n",
       "\n",
       "/* Specification for estimator info (e.g. \"i\" and \"?\") */\n",
       "\n",
       "/* Common style for \"i\" and \"?\" */\n",
       "\n",
       ".sk-estimator-doc-link,\n",
       "a:link.sk-estimator-doc-link,\n",
       "a:visited.sk-estimator-doc-link {\n",
       "  float: right;\n",
       "  font-size: smaller;\n",
       "  line-height: 1em;\n",
       "  font-family: monospace;\n",
       "  background-color: var(--sklearn-color-background);\n",
       "  border-radius: 1em;\n",
       "  height: 1em;\n",
       "  width: 1em;\n",
       "  text-decoration: none !important;\n",
       "  margin-left: 0.5em;\n",
       "  text-align: center;\n",
       "  /* unfitted */\n",
       "  border: var(--sklearn-color-unfitted-level-1) 1pt solid;\n",
       "  color: var(--sklearn-color-unfitted-level-1);\n",
       "}\n",
       "\n",
       ".sk-estimator-doc-link.fitted,\n",
       "a:link.sk-estimator-doc-link.fitted,\n",
       "a:visited.sk-estimator-doc-link.fitted {\n",
       "  /* fitted */\n",
       "  border: var(--sklearn-color-fitted-level-1) 1pt solid;\n",
       "  color: var(--sklearn-color-fitted-level-1);\n",
       "}\n",
       "\n",
       "/* On hover */\n",
       "div.sk-estimator:hover .sk-estimator-doc-link:hover,\n",
       ".sk-estimator-doc-link:hover,\n",
       "div.sk-label-container:hover .sk-estimator-doc-link:hover,\n",
       ".sk-estimator-doc-link:hover {\n",
       "  /* unfitted */\n",
       "  background-color: var(--sklearn-color-unfitted-level-3);\n",
       "  color: var(--sklearn-color-background);\n",
       "  text-decoration: none;\n",
       "}\n",
       "\n",
       "div.sk-estimator.fitted:hover .sk-estimator-doc-link.fitted:hover,\n",
       ".sk-estimator-doc-link.fitted:hover,\n",
       "div.sk-label-container:hover .sk-estimator-doc-link.fitted:hover,\n",
       ".sk-estimator-doc-link.fitted:hover {\n",
       "  /* fitted */\n",
       "  background-color: var(--sklearn-color-fitted-level-3);\n",
       "  color: var(--sklearn-color-background);\n",
       "  text-decoration: none;\n",
       "}\n",
       "\n",
       "/* Span, style for the box shown on hovering the info icon */\n",
       ".sk-estimator-doc-link span {\n",
       "  display: none;\n",
       "  z-index: 9999;\n",
       "  position: relative;\n",
       "  font-weight: normal;\n",
       "  right: .2ex;\n",
       "  padding: .5ex;\n",
       "  margin: .5ex;\n",
       "  width: min-content;\n",
       "  min-width: 20ex;\n",
       "  max-width: 50ex;\n",
       "  color: var(--sklearn-color-text);\n",
       "  box-shadow: 2pt 2pt 4pt #999;\n",
       "  /* unfitted */\n",
       "  background: var(--sklearn-color-unfitted-level-0);\n",
       "  border: .5pt solid var(--sklearn-color-unfitted-level-3);\n",
       "}\n",
       "\n",
       ".sk-estimator-doc-link.fitted span {\n",
       "  /* fitted */\n",
       "  background: var(--sklearn-color-fitted-level-0);\n",
       "  border: var(--sklearn-color-fitted-level-3);\n",
       "}\n",
       "\n",
       ".sk-estimator-doc-link:hover span {\n",
       "  display: block;\n",
       "}\n",
       "\n",
       "/* \"?\"-specific style due to the `<a>` HTML tag */\n",
       "\n",
       "#sk-container-id-1 a.estimator_doc_link {\n",
       "  float: right;\n",
       "  font-size: 1rem;\n",
       "  line-height: 1em;\n",
       "  font-family: monospace;\n",
       "  background-color: var(--sklearn-color-background);\n",
       "  border-radius: 1rem;\n",
       "  height: 1rem;\n",
       "  width: 1rem;\n",
       "  text-decoration: none;\n",
       "  /* unfitted */\n",
       "  color: var(--sklearn-color-unfitted-level-1);\n",
       "  border: var(--sklearn-color-unfitted-level-1) 1pt solid;\n",
       "}\n",
       "\n",
       "#sk-container-id-1 a.estimator_doc_link.fitted {\n",
       "  /* fitted */\n",
       "  border: var(--sklearn-color-fitted-level-1) 1pt solid;\n",
       "  color: var(--sklearn-color-fitted-level-1);\n",
       "}\n",
       "\n",
       "/* On hover */\n",
       "#sk-container-id-1 a.estimator_doc_link:hover {\n",
       "  /* unfitted */\n",
       "  background-color: var(--sklearn-color-unfitted-level-3);\n",
       "  color: var(--sklearn-color-background);\n",
       "  text-decoration: none;\n",
       "}\n",
       "\n",
       "#sk-container-id-1 a.estimator_doc_link.fitted:hover {\n",
       "  /* fitted */\n",
       "  background-color: var(--sklearn-color-fitted-level-3);\n",
       "}\n",
       "</style><div id=\"sk-container-id-1\" class=\"sk-top-container\"><div class=\"sk-text-repr-fallback\"><pre>RandomizedSearchCV(cv=TimeSeriesSplit(gap=0, max_train_size=None, n_splits=5, test_size=None),\n",
       "                   error_score=&#x27;raise&#x27;,\n",
       "                   estimator=Pipeline(steps=[(&#x27;preprocessor&#x27;,\n",
       "                                              ColumnTransformer(remainder=&#x27;passthrough&#x27;,\n",
       "                                                                transformers=[(&#x27;ohe&#x27;,\n",
       "                                                                               Pipeline(steps=[(&#x27;ohe&#x27;,\n",
       "                                                                                                OneHotEncoder(drop=&#x27;first&#x27;,\n",
       "                                                                                                              handle_unknown=&#x27;ignore&#x27;,\n",
       "                                                                                                              sparse_output=False))]),\n",
       "                                                                               [&#x27;hour&#x27;,\n",
       "                                                                                &#x27;dayofweek&#x27;]),\n",
       "                                                                              (&#x27;num&#x27;,\n",
       "                                                                               Standar...\n",
       "                   param_distributions=[{&#x27;models&#x27;: [RandomForestRegressor(random_state=42)],\n",
       "                                         &#x27;models__max_depth&#x27;: range(2, 6),\n",
       "                                         &#x27;models__max_features&#x27;: range(2, 8),\n",
       "                                         &#x27;models__n_estimators&#x27;: [10, 20, 60]},\n",
       "                                        {&#x27;models&#x27;: [LinearRegression()]},\n",
       "                                        {&#x27;models&#x27;: [LGBMRegressor()],\n",
       "                                         &#x27;models__learning_rate&#x27;: [0.1, 0.5],\n",
       "                                         &#x27;models__max_depth &#x27;: range(2, 5),\n",
       "                                         &#x27;models__n_estimators &#x27;: [100, 180]}],\n",
       "                   random_state=42, scoring=&#x27;neg_root_mean_squared_error&#x27;)</pre><b>In a Jupyter environment, please rerun this cell to show the HTML representation or trust the notebook. <br />On GitHub, the HTML representation is unable to render, please try loading this page with nbviewer.org.</b></div><div class=\"sk-container\" hidden><div class=\"sk-item sk-dashed-wrapped\"><div class=\"sk-label-container\"><div class=\"sk-label fitted sk-toggleable\"><input class=\"sk-toggleable__control sk-hidden--visually\" id=\"sk-estimator-id-1\" type=\"checkbox\" ><label for=\"sk-estimator-id-1\" class=\"sk-toggleable__label fitted sk-toggleable__label-arrow\"><div><div>RandomizedSearchCV</div></div><div><a class=\"sk-estimator-doc-link fitted\" rel=\"noreferrer\" target=\"_blank\" href=\"https://scikit-learn.org/1.6/modules/generated/sklearn.model_selection.RandomizedSearchCV.html\">?<span>Documentation for RandomizedSearchCV</span></a><span class=\"sk-estimator-doc-link fitted\">i<span>Fitted</span></span></div></label><div class=\"sk-toggleable__content fitted\"><pre>RandomizedSearchCV(cv=TimeSeriesSplit(gap=0, max_train_size=None, n_splits=5, test_size=None),\n",
       "                   error_score=&#x27;raise&#x27;,\n",
       "                   estimator=Pipeline(steps=[(&#x27;preprocessor&#x27;,\n",
       "                                              ColumnTransformer(remainder=&#x27;passthrough&#x27;,\n",
       "                                                                transformers=[(&#x27;ohe&#x27;,\n",
       "                                                                               Pipeline(steps=[(&#x27;ohe&#x27;,\n",
       "                                                                                                OneHotEncoder(drop=&#x27;first&#x27;,\n",
       "                                                                                                              handle_unknown=&#x27;ignore&#x27;,\n",
       "                                                                                                              sparse_output=False))]),\n",
       "                                                                               [&#x27;hour&#x27;,\n",
       "                                                                                &#x27;dayofweek&#x27;]),\n",
       "                                                                              (&#x27;num&#x27;,\n",
       "                                                                               Standar...\n",
       "                   param_distributions=[{&#x27;models&#x27;: [RandomForestRegressor(random_state=42)],\n",
       "                                         &#x27;models__max_depth&#x27;: range(2, 6),\n",
       "                                         &#x27;models__max_features&#x27;: range(2, 8),\n",
       "                                         &#x27;models__n_estimators&#x27;: [10, 20, 60]},\n",
       "                                        {&#x27;models&#x27;: [LinearRegression()]},\n",
       "                                        {&#x27;models&#x27;: [LGBMRegressor()],\n",
       "                                         &#x27;models__learning_rate&#x27;: [0.1, 0.5],\n",
       "                                         &#x27;models__max_depth &#x27;: range(2, 5),\n",
       "                                         &#x27;models__n_estimators &#x27;: [100, 180]}],\n",
       "                   random_state=42, scoring=&#x27;neg_root_mean_squared_error&#x27;)</pre></div> </div></div><div class=\"sk-parallel\"><div class=\"sk-parallel-item\"><div class=\"sk-item\"><div class=\"sk-label-container\"><div class=\"sk-label fitted sk-toggleable\"><input class=\"sk-toggleable__control sk-hidden--visually\" id=\"sk-estimator-id-2\" type=\"checkbox\" ><label for=\"sk-estimator-id-2\" class=\"sk-toggleable__label fitted sk-toggleable__label-arrow\"><div><div>best_estimator_: Pipeline</div></div></label><div class=\"sk-toggleable__content fitted\"><pre>Pipeline(steps=[(&#x27;preprocessor&#x27;,\n",
       "                 ColumnTransformer(remainder=&#x27;passthrough&#x27;,\n",
       "                                   transformers=[(&#x27;ohe&#x27;,\n",
       "                                                  Pipeline(steps=[(&#x27;ohe&#x27;,\n",
       "                                                                   OneHotEncoder(drop=&#x27;first&#x27;,\n",
       "                                                                                 handle_unknown=&#x27;ignore&#x27;,\n",
       "                                                                                 sparse_output=False))]),\n",
       "                                                  [&#x27;hour&#x27;, &#x27;dayofweek&#x27;]),\n",
       "                                                 (&#x27;num&#x27;, StandardScaler(),\n",
       "                                                  [&#x27;lag_1&#x27;, &#x27;lag_2&#x27;, &#x27;lag_3&#x27;,\n",
       "                                                   &#x27;lag_4&#x27;, &#x27;lag_5&#x27;, &#x27;lag_6&#x27;,\n",
       "                                                   &#x27;lag_7&#x27;, &#x27;lag_8&#x27;, &#x27;lag_9&#x27;,\n",
       "                                                   &#x27;lag_10&#x27;, &#x27;lag_11&#x27;, &#x27;lag_12&#x27;,\n",
       "                                                   &#x27;lag_13&#x27;, &#x27;lag_14&#x27;, &#x27;lag_15&#x27;,\n",
       "                                                   &#x27;lag_16&#x27;, &#x27;lag_17&#x27;, &#x27;lag_18&#x27;,\n",
       "                                                   &#x27;lag_19&#x27;, &#x27;lag_20&#x27;, &#x27;lag_21&#x27;,\n",
       "                                                   &#x27;lag_22&#x27;, &#x27;lag_23&#x27;, &#x27;lag_24&#x27;,\n",
       "                                                   &#x27;rolling_mean&#x27;])])),\n",
       "                (&#x27;models&#x27;, LGBMRegressor(max_depth =4, n_estimators =180))])</pre></div> </div></div><div class=\"sk-serial\"><div class=\"sk-item\"><div class=\"sk-serial\"><div class=\"sk-item sk-dashed-wrapped\"><div class=\"sk-label-container\"><div class=\"sk-label fitted sk-toggleable\"><input class=\"sk-toggleable__control sk-hidden--visually\" id=\"sk-estimator-id-3\" type=\"checkbox\" ><label for=\"sk-estimator-id-3\" class=\"sk-toggleable__label fitted sk-toggleable__label-arrow\"><div><div>preprocessor: ColumnTransformer</div></div><div><a class=\"sk-estimator-doc-link fitted\" rel=\"noreferrer\" target=\"_blank\" href=\"https://scikit-learn.org/1.6/modules/generated/sklearn.compose.ColumnTransformer.html\">?<span>Documentation for preprocessor: ColumnTransformer</span></a></div></label><div class=\"sk-toggleable__content fitted\"><pre>ColumnTransformer(remainder=&#x27;passthrough&#x27;,\n",
       "                  transformers=[(&#x27;ohe&#x27;,\n",
       "                                 Pipeline(steps=[(&#x27;ohe&#x27;,\n",
       "                                                  OneHotEncoder(drop=&#x27;first&#x27;,\n",
       "                                                                handle_unknown=&#x27;ignore&#x27;,\n",
       "                                                                sparse_output=False))]),\n",
       "                                 [&#x27;hour&#x27;, &#x27;dayofweek&#x27;]),\n",
       "                                (&#x27;num&#x27;, StandardScaler(),\n",
       "                                 [&#x27;lag_1&#x27;, &#x27;lag_2&#x27;, &#x27;lag_3&#x27;, &#x27;lag_4&#x27;, &#x27;lag_5&#x27;,\n",
       "                                  &#x27;lag_6&#x27;, &#x27;lag_7&#x27;, &#x27;lag_8&#x27;, &#x27;lag_9&#x27;, &#x27;lag_10&#x27;,\n",
       "                                  &#x27;lag_11&#x27;, &#x27;lag_12&#x27;, &#x27;lag_13&#x27;, &#x27;lag_14&#x27;,\n",
       "                                  &#x27;lag_15&#x27;, &#x27;lag_16&#x27;, &#x27;lag_17&#x27;, &#x27;lag_18&#x27;,\n",
       "                                  &#x27;lag_19&#x27;, &#x27;lag_20&#x27;, &#x27;lag_21&#x27;, &#x27;lag_22&#x27;,\n",
       "                                  &#x27;lag_23&#x27;, &#x27;lag_24&#x27;, &#x27;rolling_mean&#x27;])])</pre></div> </div></div><div class=\"sk-parallel\"><div class=\"sk-parallel-item\"><div class=\"sk-item\"><div class=\"sk-label-container\"><div class=\"sk-label fitted sk-toggleable\"><input class=\"sk-toggleable__control sk-hidden--visually\" id=\"sk-estimator-id-4\" type=\"checkbox\" ><label for=\"sk-estimator-id-4\" class=\"sk-toggleable__label fitted sk-toggleable__label-arrow\"><div><div>ohe</div></div></label><div class=\"sk-toggleable__content fitted\"><pre>[&#x27;hour&#x27;, &#x27;dayofweek&#x27;]</pre></div> </div></div><div class=\"sk-serial\"><div class=\"sk-item\"><div class=\"sk-serial\"><div class=\"sk-item\"><div class=\"sk-estimator fitted sk-toggleable\"><input class=\"sk-toggleable__control sk-hidden--visually\" id=\"sk-estimator-id-5\" type=\"checkbox\" ><label for=\"sk-estimator-id-5\" class=\"sk-toggleable__label fitted sk-toggleable__label-arrow\"><div><div>OneHotEncoder</div></div><div><a class=\"sk-estimator-doc-link fitted\" rel=\"noreferrer\" target=\"_blank\" href=\"https://scikit-learn.org/1.6/modules/generated/sklearn.preprocessing.OneHotEncoder.html\">?<span>Documentation for OneHotEncoder</span></a></div></label><div class=\"sk-toggleable__content fitted\"><pre>OneHotEncoder(drop=&#x27;first&#x27;, handle_unknown=&#x27;ignore&#x27;, sparse_output=False)</pre></div> </div></div></div></div></div></div></div><div class=\"sk-parallel-item\"><div class=\"sk-item\"><div class=\"sk-label-container\"><div class=\"sk-label fitted sk-toggleable\"><input class=\"sk-toggleable__control sk-hidden--visually\" id=\"sk-estimator-id-6\" type=\"checkbox\" ><label for=\"sk-estimator-id-6\" class=\"sk-toggleable__label fitted sk-toggleable__label-arrow\"><div><div>num</div></div></label><div class=\"sk-toggleable__content fitted\"><pre>[&#x27;lag_1&#x27;, &#x27;lag_2&#x27;, &#x27;lag_3&#x27;, &#x27;lag_4&#x27;, &#x27;lag_5&#x27;, &#x27;lag_6&#x27;, &#x27;lag_7&#x27;, &#x27;lag_8&#x27;, &#x27;lag_9&#x27;, &#x27;lag_10&#x27;, &#x27;lag_11&#x27;, &#x27;lag_12&#x27;, &#x27;lag_13&#x27;, &#x27;lag_14&#x27;, &#x27;lag_15&#x27;, &#x27;lag_16&#x27;, &#x27;lag_17&#x27;, &#x27;lag_18&#x27;, &#x27;lag_19&#x27;, &#x27;lag_20&#x27;, &#x27;lag_21&#x27;, &#x27;lag_22&#x27;, &#x27;lag_23&#x27;, &#x27;lag_24&#x27;, &#x27;rolling_mean&#x27;]</pre></div> </div></div><div class=\"sk-serial\"><div class=\"sk-item\"><div class=\"sk-estimator fitted sk-toggleable\"><input class=\"sk-toggleable__control sk-hidden--visually\" id=\"sk-estimator-id-7\" type=\"checkbox\" ><label for=\"sk-estimator-id-7\" class=\"sk-toggleable__label fitted sk-toggleable__label-arrow\"><div><div>StandardScaler</div></div><div><a class=\"sk-estimator-doc-link fitted\" rel=\"noreferrer\" target=\"_blank\" href=\"https://scikit-learn.org/1.6/modules/generated/sklearn.preprocessing.StandardScaler.html\">?<span>Documentation for StandardScaler</span></a></div></label><div class=\"sk-toggleable__content fitted\"><pre>StandardScaler()</pre></div> </div></div></div></div></div><div class=\"sk-parallel-item\"><div class=\"sk-item\"><div class=\"sk-label-container\"><div class=\"sk-label fitted sk-toggleable\"><input class=\"sk-toggleable__control sk-hidden--visually\" id=\"sk-estimator-id-8\" type=\"checkbox\" ><label for=\"sk-estimator-id-8\" class=\"sk-toggleable__label fitted sk-toggleable__label-arrow\"><div><div>remainder</div></div></label><div class=\"sk-toggleable__content fitted\"><pre>[]</pre></div> </div></div><div class=\"sk-serial\"><div class=\"sk-item\"><div class=\"sk-estimator fitted sk-toggleable\"><input class=\"sk-toggleable__control sk-hidden--visually\" id=\"sk-estimator-id-9\" type=\"checkbox\" ><label for=\"sk-estimator-id-9\" class=\"sk-toggleable__label fitted sk-toggleable__label-arrow\"><div><div>passthrough</div></div></label><div class=\"sk-toggleable__content fitted\"><pre>passthrough</pre></div> </div></div></div></div></div></div></div><div class=\"sk-item\"><div class=\"sk-estimator fitted sk-toggleable\"><input class=\"sk-toggleable__control sk-hidden--visually\" id=\"sk-estimator-id-10\" type=\"checkbox\" ><label for=\"sk-estimator-id-10\" class=\"sk-toggleable__label fitted sk-toggleable__label-arrow\"><div><div>LGBMRegressor</div></div></label><div class=\"sk-toggleable__content fitted\"><pre>LGBMRegressor(max_depth =4, n_estimators =180)</pre></div> </div></div></div></div></div></div></div></div></div></div></div>"
      ],
      "text/plain": [
       "RandomizedSearchCV(cv=TimeSeriesSplit(gap=0, max_train_size=None, n_splits=5, test_size=None),\n",
       "                   error_score='raise',\n",
       "                   estimator=Pipeline(steps=[('preprocessor',\n",
       "                                              ColumnTransformer(remainder='passthrough',\n",
       "                                                                transformers=[('ohe',\n",
       "                                                                               Pipeline(steps=[('ohe',\n",
       "                                                                                                OneHotEncoder(drop='first',\n",
       "                                                                                                              handle_unknown='ignore',\n",
       "                                                                                                              sparse_output=False))]),\n",
       "                                                                               ['hour',\n",
       "                                                                                'dayofweek']),\n",
       "                                                                              ('num',\n",
       "                                                                               Standar...\n",
       "                   param_distributions=[{'models': [RandomForestRegressor(random_state=42)],\n",
       "                                         'models__max_depth': range(2, 6),\n",
       "                                         'models__max_features': range(2, 8),\n",
       "                                         'models__n_estimators': [10, 20, 60]},\n",
       "                                        {'models': [LinearRegression()]},\n",
       "                                        {'models': [LGBMRegressor()],\n",
       "                                         'models__learning_rate': [0.1, 0.5],\n",
       "                                         'models__max_depth ': range(2, 5),\n",
       "                                         'models__n_estimators ': [100, 180]}],\n",
       "                   random_state=42, scoring='neg_root_mean_squared_error')"
      ]
     },
     "execution_count": 29,
     "metadata": {},
     "output_type": "execute_result"
    }
   ],
   "source": [
    "rs = RandomizedSearchCV(\n",
    "    pipe_final,\n",
    "    param_distribution,\n",
    "    cv=tscv,\n",
    "    scoring=\"neg_root_mean_squared_error\",\n",
    "    n_jobs=-1,\n",
    "    random_state=RS,\n",
    "    error_score='raise'\n",
    ")\n",
    "rs.fit(X_train, y_train)"
   ]
  },
  {
   "cell_type": "code",
   "execution_count": 30,
   "metadata": {},
   "outputs": [
    {
     "name": "stdout",
     "output_type": "stream",
     "text": [
      "Лучшее значение метрики по итогам кросс-валидации 25.479242442540198\n"
     ]
    }
   ],
   "source": [
    "print('Лучшее значение метрики по итогам кросс-валидации', -1 * rs.best_score_)"
   ]
  },
  {
   "cell_type": "code",
   "execution_count": 31,
   "metadata": {},
   "outputs": [
    {
     "data": {
      "text/html": [
       "<style>#sk-container-id-2 {\n",
       "  /* Definition of color scheme common for light and dark mode */\n",
       "  --sklearn-color-text: #000;\n",
       "  --sklearn-color-text-muted: #666;\n",
       "  --sklearn-color-line: gray;\n",
       "  /* Definition of color scheme for unfitted estimators */\n",
       "  --sklearn-color-unfitted-level-0: #fff5e6;\n",
       "  --sklearn-color-unfitted-level-1: #f6e4d2;\n",
       "  --sklearn-color-unfitted-level-2: #ffe0b3;\n",
       "  --sklearn-color-unfitted-level-3: chocolate;\n",
       "  /* Definition of color scheme for fitted estimators */\n",
       "  --sklearn-color-fitted-level-0: #f0f8ff;\n",
       "  --sklearn-color-fitted-level-1: #d4ebff;\n",
       "  --sklearn-color-fitted-level-2: #b3dbfd;\n",
       "  --sklearn-color-fitted-level-3: cornflowerblue;\n",
       "\n",
       "  /* Specific color for light theme */\n",
       "  --sklearn-color-text-on-default-background: var(--sg-text-color, var(--theme-code-foreground, var(--jp-content-font-color1, black)));\n",
       "  --sklearn-color-background: var(--sg-background-color, var(--theme-background, var(--jp-layout-color0, white)));\n",
       "  --sklearn-color-border-box: var(--sg-text-color, var(--theme-code-foreground, var(--jp-content-font-color1, black)));\n",
       "  --sklearn-color-icon: #696969;\n",
       "\n",
       "  @media (prefers-color-scheme: dark) {\n",
       "    /* Redefinition of color scheme for dark theme */\n",
       "    --sklearn-color-text-on-default-background: var(--sg-text-color, var(--theme-code-foreground, var(--jp-content-font-color1, white)));\n",
       "    --sklearn-color-background: var(--sg-background-color, var(--theme-background, var(--jp-layout-color0, #111)));\n",
       "    --sklearn-color-border-box: var(--sg-text-color, var(--theme-code-foreground, var(--jp-content-font-color1, white)));\n",
       "    --sklearn-color-icon: #878787;\n",
       "  }\n",
       "}\n",
       "\n",
       "#sk-container-id-2 {\n",
       "  color: var(--sklearn-color-text);\n",
       "}\n",
       "\n",
       "#sk-container-id-2 pre {\n",
       "  padding: 0;\n",
       "}\n",
       "\n",
       "#sk-container-id-2 input.sk-hidden--visually {\n",
       "  border: 0;\n",
       "  clip: rect(1px 1px 1px 1px);\n",
       "  clip: rect(1px, 1px, 1px, 1px);\n",
       "  height: 1px;\n",
       "  margin: -1px;\n",
       "  overflow: hidden;\n",
       "  padding: 0;\n",
       "  position: absolute;\n",
       "  width: 1px;\n",
       "}\n",
       "\n",
       "#sk-container-id-2 div.sk-dashed-wrapped {\n",
       "  border: 1px dashed var(--sklearn-color-line);\n",
       "  margin: 0 0.4em 0.5em 0.4em;\n",
       "  box-sizing: border-box;\n",
       "  padding-bottom: 0.4em;\n",
       "  background-color: var(--sklearn-color-background);\n",
       "}\n",
       "\n",
       "#sk-container-id-2 div.sk-container {\n",
       "  /* jupyter's `normalize.less` sets `[hidden] { display: none; }`\n",
       "     but bootstrap.min.css set `[hidden] { display: none !important; }`\n",
       "     so we also need the `!important` here to be able to override the\n",
       "     default hidden behavior on the sphinx rendered scikit-learn.org.\n",
       "     See: https://github.com/scikit-learn/scikit-learn/issues/21755 */\n",
       "  display: inline-block !important;\n",
       "  position: relative;\n",
       "}\n",
       "\n",
       "#sk-container-id-2 div.sk-text-repr-fallback {\n",
       "  display: none;\n",
       "}\n",
       "\n",
       "div.sk-parallel-item,\n",
       "div.sk-serial,\n",
       "div.sk-item {\n",
       "  /* draw centered vertical line to link estimators */\n",
       "  background-image: linear-gradient(var(--sklearn-color-text-on-default-background), var(--sklearn-color-text-on-default-background));\n",
       "  background-size: 2px 100%;\n",
       "  background-repeat: no-repeat;\n",
       "  background-position: center center;\n",
       "}\n",
       "\n",
       "/* Parallel-specific style estimator block */\n",
       "\n",
       "#sk-container-id-2 div.sk-parallel-item::after {\n",
       "  content: \"\";\n",
       "  width: 100%;\n",
       "  border-bottom: 2px solid var(--sklearn-color-text-on-default-background);\n",
       "  flex-grow: 1;\n",
       "}\n",
       "\n",
       "#sk-container-id-2 div.sk-parallel {\n",
       "  display: flex;\n",
       "  align-items: stretch;\n",
       "  justify-content: center;\n",
       "  background-color: var(--sklearn-color-background);\n",
       "  position: relative;\n",
       "}\n",
       "\n",
       "#sk-container-id-2 div.sk-parallel-item {\n",
       "  display: flex;\n",
       "  flex-direction: column;\n",
       "}\n",
       "\n",
       "#sk-container-id-2 div.sk-parallel-item:first-child::after {\n",
       "  align-self: flex-end;\n",
       "  width: 50%;\n",
       "}\n",
       "\n",
       "#sk-container-id-2 div.sk-parallel-item:last-child::after {\n",
       "  align-self: flex-start;\n",
       "  width: 50%;\n",
       "}\n",
       "\n",
       "#sk-container-id-2 div.sk-parallel-item:only-child::after {\n",
       "  width: 0;\n",
       "}\n",
       "\n",
       "/* Serial-specific style estimator block */\n",
       "\n",
       "#sk-container-id-2 div.sk-serial {\n",
       "  display: flex;\n",
       "  flex-direction: column;\n",
       "  align-items: center;\n",
       "  background-color: var(--sklearn-color-background);\n",
       "  padding-right: 1em;\n",
       "  padding-left: 1em;\n",
       "}\n",
       "\n",
       "\n",
       "/* Toggleable style: style used for estimator/Pipeline/ColumnTransformer box that is\n",
       "clickable and can be expanded/collapsed.\n",
       "- Pipeline and ColumnTransformer use this feature and define the default style\n",
       "- Estimators will overwrite some part of the style using the `sk-estimator` class\n",
       "*/\n",
       "\n",
       "/* Pipeline and ColumnTransformer style (default) */\n",
       "\n",
       "#sk-container-id-2 div.sk-toggleable {\n",
       "  /* Default theme specific background. It is overwritten whether we have a\n",
       "  specific estimator or a Pipeline/ColumnTransformer */\n",
       "  background-color: var(--sklearn-color-background);\n",
       "}\n",
       "\n",
       "/* Toggleable label */\n",
       "#sk-container-id-2 label.sk-toggleable__label {\n",
       "  cursor: pointer;\n",
       "  display: flex;\n",
       "  width: 100%;\n",
       "  margin-bottom: 0;\n",
       "  padding: 0.5em;\n",
       "  box-sizing: border-box;\n",
       "  text-align: center;\n",
       "  align-items: start;\n",
       "  justify-content: space-between;\n",
       "  gap: 0.5em;\n",
       "}\n",
       "\n",
       "#sk-container-id-2 label.sk-toggleable__label .caption {\n",
       "  font-size: 0.6rem;\n",
       "  font-weight: lighter;\n",
       "  color: var(--sklearn-color-text-muted);\n",
       "}\n",
       "\n",
       "#sk-container-id-2 label.sk-toggleable__label-arrow:before {\n",
       "  /* Arrow on the left of the label */\n",
       "  content: \"▸\";\n",
       "  float: left;\n",
       "  margin-right: 0.25em;\n",
       "  color: var(--sklearn-color-icon);\n",
       "}\n",
       "\n",
       "#sk-container-id-2 label.sk-toggleable__label-arrow:hover:before {\n",
       "  color: var(--sklearn-color-text);\n",
       "}\n",
       "\n",
       "/* Toggleable content - dropdown */\n",
       "\n",
       "#sk-container-id-2 div.sk-toggleable__content {\n",
       "  max-height: 0;\n",
       "  max-width: 0;\n",
       "  overflow: hidden;\n",
       "  text-align: left;\n",
       "  /* unfitted */\n",
       "  background-color: var(--sklearn-color-unfitted-level-0);\n",
       "}\n",
       "\n",
       "#sk-container-id-2 div.sk-toggleable__content.fitted {\n",
       "  /* fitted */\n",
       "  background-color: var(--sklearn-color-fitted-level-0);\n",
       "}\n",
       "\n",
       "#sk-container-id-2 div.sk-toggleable__content pre {\n",
       "  margin: 0.2em;\n",
       "  border-radius: 0.25em;\n",
       "  color: var(--sklearn-color-text);\n",
       "  /* unfitted */\n",
       "  background-color: var(--sklearn-color-unfitted-level-0);\n",
       "}\n",
       "\n",
       "#sk-container-id-2 div.sk-toggleable__content.fitted pre {\n",
       "  /* unfitted */\n",
       "  background-color: var(--sklearn-color-fitted-level-0);\n",
       "}\n",
       "\n",
       "#sk-container-id-2 input.sk-toggleable__control:checked~div.sk-toggleable__content {\n",
       "  /* Expand drop-down */\n",
       "  max-height: 200px;\n",
       "  max-width: 100%;\n",
       "  overflow: auto;\n",
       "}\n",
       "\n",
       "#sk-container-id-2 input.sk-toggleable__control:checked~label.sk-toggleable__label-arrow:before {\n",
       "  content: \"▾\";\n",
       "}\n",
       "\n",
       "/* Pipeline/ColumnTransformer-specific style */\n",
       "\n",
       "#sk-container-id-2 div.sk-label input.sk-toggleable__control:checked~label.sk-toggleable__label {\n",
       "  color: var(--sklearn-color-text);\n",
       "  background-color: var(--sklearn-color-unfitted-level-2);\n",
       "}\n",
       "\n",
       "#sk-container-id-2 div.sk-label.fitted input.sk-toggleable__control:checked~label.sk-toggleable__label {\n",
       "  background-color: var(--sklearn-color-fitted-level-2);\n",
       "}\n",
       "\n",
       "/* Estimator-specific style */\n",
       "\n",
       "/* Colorize estimator box */\n",
       "#sk-container-id-2 div.sk-estimator input.sk-toggleable__control:checked~label.sk-toggleable__label {\n",
       "  /* unfitted */\n",
       "  background-color: var(--sklearn-color-unfitted-level-2);\n",
       "}\n",
       "\n",
       "#sk-container-id-2 div.sk-estimator.fitted input.sk-toggleable__control:checked~label.sk-toggleable__label {\n",
       "  /* fitted */\n",
       "  background-color: var(--sklearn-color-fitted-level-2);\n",
       "}\n",
       "\n",
       "#sk-container-id-2 div.sk-label label.sk-toggleable__label,\n",
       "#sk-container-id-2 div.sk-label label {\n",
       "  /* The background is the default theme color */\n",
       "  color: var(--sklearn-color-text-on-default-background);\n",
       "}\n",
       "\n",
       "/* On hover, darken the color of the background */\n",
       "#sk-container-id-2 div.sk-label:hover label.sk-toggleable__label {\n",
       "  color: var(--sklearn-color-text);\n",
       "  background-color: var(--sklearn-color-unfitted-level-2);\n",
       "}\n",
       "\n",
       "/* Label box, darken color on hover, fitted */\n",
       "#sk-container-id-2 div.sk-label.fitted:hover label.sk-toggleable__label.fitted {\n",
       "  color: var(--sklearn-color-text);\n",
       "  background-color: var(--sklearn-color-fitted-level-2);\n",
       "}\n",
       "\n",
       "/* Estimator label */\n",
       "\n",
       "#sk-container-id-2 div.sk-label label {\n",
       "  font-family: monospace;\n",
       "  font-weight: bold;\n",
       "  display: inline-block;\n",
       "  line-height: 1.2em;\n",
       "}\n",
       "\n",
       "#sk-container-id-2 div.sk-label-container {\n",
       "  text-align: center;\n",
       "}\n",
       "\n",
       "/* Estimator-specific */\n",
       "#sk-container-id-2 div.sk-estimator {\n",
       "  font-family: monospace;\n",
       "  border: 1px dotted var(--sklearn-color-border-box);\n",
       "  border-radius: 0.25em;\n",
       "  box-sizing: border-box;\n",
       "  margin-bottom: 0.5em;\n",
       "  /* unfitted */\n",
       "  background-color: var(--sklearn-color-unfitted-level-0);\n",
       "}\n",
       "\n",
       "#sk-container-id-2 div.sk-estimator.fitted {\n",
       "  /* fitted */\n",
       "  background-color: var(--sklearn-color-fitted-level-0);\n",
       "}\n",
       "\n",
       "/* on hover */\n",
       "#sk-container-id-2 div.sk-estimator:hover {\n",
       "  /* unfitted */\n",
       "  background-color: var(--sklearn-color-unfitted-level-2);\n",
       "}\n",
       "\n",
       "#sk-container-id-2 div.sk-estimator.fitted:hover {\n",
       "  /* fitted */\n",
       "  background-color: var(--sklearn-color-fitted-level-2);\n",
       "}\n",
       "\n",
       "/* Specification for estimator info (e.g. \"i\" and \"?\") */\n",
       "\n",
       "/* Common style for \"i\" and \"?\" */\n",
       "\n",
       ".sk-estimator-doc-link,\n",
       "a:link.sk-estimator-doc-link,\n",
       "a:visited.sk-estimator-doc-link {\n",
       "  float: right;\n",
       "  font-size: smaller;\n",
       "  line-height: 1em;\n",
       "  font-family: monospace;\n",
       "  background-color: var(--sklearn-color-background);\n",
       "  border-radius: 1em;\n",
       "  height: 1em;\n",
       "  width: 1em;\n",
       "  text-decoration: none !important;\n",
       "  margin-left: 0.5em;\n",
       "  text-align: center;\n",
       "  /* unfitted */\n",
       "  border: var(--sklearn-color-unfitted-level-1) 1pt solid;\n",
       "  color: var(--sklearn-color-unfitted-level-1);\n",
       "}\n",
       "\n",
       ".sk-estimator-doc-link.fitted,\n",
       "a:link.sk-estimator-doc-link.fitted,\n",
       "a:visited.sk-estimator-doc-link.fitted {\n",
       "  /* fitted */\n",
       "  border: var(--sklearn-color-fitted-level-1) 1pt solid;\n",
       "  color: var(--sklearn-color-fitted-level-1);\n",
       "}\n",
       "\n",
       "/* On hover */\n",
       "div.sk-estimator:hover .sk-estimator-doc-link:hover,\n",
       ".sk-estimator-doc-link:hover,\n",
       "div.sk-label-container:hover .sk-estimator-doc-link:hover,\n",
       ".sk-estimator-doc-link:hover {\n",
       "  /* unfitted */\n",
       "  background-color: var(--sklearn-color-unfitted-level-3);\n",
       "  color: var(--sklearn-color-background);\n",
       "  text-decoration: none;\n",
       "}\n",
       "\n",
       "div.sk-estimator.fitted:hover .sk-estimator-doc-link.fitted:hover,\n",
       ".sk-estimator-doc-link.fitted:hover,\n",
       "div.sk-label-container:hover .sk-estimator-doc-link.fitted:hover,\n",
       ".sk-estimator-doc-link.fitted:hover {\n",
       "  /* fitted */\n",
       "  background-color: var(--sklearn-color-fitted-level-3);\n",
       "  color: var(--sklearn-color-background);\n",
       "  text-decoration: none;\n",
       "}\n",
       "\n",
       "/* Span, style for the box shown on hovering the info icon */\n",
       ".sk-estimator-doc-link span {\n",
       "  display: none;\n",
       "  z-index: 9999;\n",
       "  position: relative;\n",
       "  font-weight: normal;\n",
       "  right: .2ex;\n",
       "  padding: .5ex;\n",
       "  margin: .5ex;\n",
       "  width: min-content;\n",
       "  min-width: 20ex;\n",
       "  max-width: 50ex;\n",
       "  color: var(--sklearn-color-text);\n",
       "  box-shadow: 2pt 2pt 4pt #999;\n",
       "  /* unfitted */\n",
       "  background: var(--sklearn-color-unfitted-level-0);\n",
       "  border: .5pt solid var(--sklearn-color-unfitted-level-3);\n",
       "}\n",
       "\n",
       ".sk-estimator-doc-link.fitted span {\n",
       "  /* fitted */\n",
       "  background: var(--sklearn-color-fitted-level-0);\n",
       "  border: var(--sklearn-color-fitted-level-3);\n",
       "}\n",
       "\n",
       ".sk-estimator-doc-link:hover span {\n",
       "  display: block;\n",
       "}\n",
       "\n",
       "/* \"?\"-specific style due to the `<a>` HTML tag */\n",
       "\n",
       "#sk-container-id-2 a.estimator_doc_link {\n",
       "  float: right;\n",
       "  font-size: 1rem;\n",
       "  line-height: 1em;\n",
       "  font-family: monospace;\n",
       "  background-color: var(--sklearn-color-background);\n",
       "  border-radius: 1rem;\n",
       "  height: 1rem;\n",
       "  width: 1rem;\n",
       "  text-decoration: none;\n",
       "  /* unfitted */\n",
       "  color: var(--sklearn-color-unfitted-level-1);\n",
       "  border: var(--sklearn-color-unfitted-level-1) 1pt solid;\n",
       "}\n",
       "\n",
       "#sk-container-id-2 a.estimator_doc_link.fitted {\n",
       "  /* fitted */\n",
       "  border: var(--sklearn-color-fitted-level-1) 1pt solid;\n",
       "  color: var(--sklearn-color-fitted-level-1);\n",
       "}\n",
       "\n",
       "/* On hover */\n",
       "#sk-container-id-2 a.estimator_doc_link:hover {\n",
       "  /* unfitted */\n",
       "  background-color: var(--sklearn-color-unfitted-level-3);\n",
       "  color: var(--sklearn-color-background);\n",
       "  text-decoration: none;\n",
       "}\n",
       "\n",
       "#sk-container-id-2 a.estimator_doc_link.fitted:hover {\n",
       "  /* fitted */\n",
       "  background-color: var(--sklearn-color-fitted-level-3);\n",
       "}\n",
       "</style><div id=\"sk-container-id-2\" class=\"sk-top-container\"><div class=\"sk-text-repr-fallback\"><pre>Pipeline(steps=[(&#x27;preprocessor&#x27;,\n",
       "                 ColumnTransformer(remainder=&#x27;passthrough&#x27;,\n",
       "                                   transformers=[(&#x27;ohe&#x27;,\n",
       "                                                  Pipeline(steps=[(&#x27;ohe&#x27;,\n",
       "                                                                   OneHotEncoder(drop=&#x27;first&#x27;,\n",
       "                                                                                 handle_unknown=&#x27;ignore&#x27;,\n",
       "                                                                                 sparse_output=False))]),\n",
       "                                                  [&#x27;hour&#x27;, &#x27;dayofweek&#x27;]),\n",
       "                                                 (&#x27;num&#x27;, StandardScaler(),\n",
       "                                                  [&#x27;lag_1&#x27;, &#x27;lag_2&#x27;, &#x27;lag_3&#x27;,\n",
       "                                                   &#x27;lag_4&#x27;, &#x27;lag_5&#x27;, &#x27;lag_6&#x27;,\n",
       "                                                   &#x27;lag_7&#x27;, &#x27;lag_8&#x27;, &#x27;lag_9&#x27;,\n",
       "                                                   &#x27;lag_10&#x27;, &#x27;lag_11&#x27;, &#x27;lag_12&#x27;,\n",
       "                                                   &#x27;lag_13&#x27;, &#x27;lag_14&#x27;, &#x27;lag_15&#x27;,\n",
       "                                                   &#x27;lag_16&#x27;, &#x27;lag_17&#x27;, &#x27;lag_18&#x27;,\n",
       "                                                   &#x27;lag_19&#x27;, &#x27;lag_20&#x27;, &#x27;lag_21&#x27;,\n",
       "                                                   &#x27;lag_22&#x27;, &#x27;lag_23&#x27;, &#x27;lag_24&#x27;,\n",
       "                                                   &#x27;rolling_mean&#x27;])])),\n",
       "                (&#x27;models&#x27;, LGBMRegressor(max_depth =4, n_estimators =180))])</pre><b>In a Jupyter environment, please rerun this cell to show the HTML representation or trust the notebook. <br />On GitHub, the HTML representation is unable to render, please try loading this page with nbviewer.org.</b></div><div class=\"sk-container\" hidden><div class=\"sk-item sk-dashed-wrapped\"><div class=\"sk-label-container\"><div class=\"sk-label fitted sk-toggleable\"><input class=\"sk-toggleable__control sk-hidden--visually\" id=\"sk-estimator-id-11\" type=\"checkbox\" ><label for=\"sk-estimator-id-11\" class=\"sk-toggleable__label fitted sk-toggleable__label-arrow\"><div><div>Pipeline</div></div><div><a class=\"sk-estimator-doc-link fitted\" rel=\"noreferrer\" target=\"_blank\" href=\"https://scikit-learn.org/1.6/modules/generated/sklearn.pipeline.Pipeline.html\">?<span>Documentation for Pipeline</span></a><span class=\"sk-estimator-doc-link fitted\">i<span>Fitted</span></span></div></label><div class=\"sk-toggleable__content fitted\"><pre>Pipeline(steps=[(&#x27;preprocessor&#x27;,\n",
       "                 ColumnTransformer(remainder=&#x27;passthrough&#x27;,\n",
       "                                   transformers=[(&#x27;ohe&#x27;,\n",
       "                                                  Pipeline(steps=[(&#x27;ohe&#x27;,\n",
       "                                                                   OneHotEncoder(drop=&#x27;first&#x27;,\n",
       "                                                                                 handle_unknown=&#x27;ignore&#x27;,\n",
       "                                                                                 sparse_output=False))]),\n",
       "                                                  [&#x27;hour&#x27;, &#x27;dayofweek&#x27;]),\n",
       "                                                 (&#x27;num&#x27;, StandardScaler(),\n",
       "                                                  [&#x27;lag_1&#x27;, &#x27;lag_2&#x27;, &#x27;lag_3&#x27;,\n",
       "                                                   &#x27;lag_4&#x27;, &#x27;lag_5&#x27;, &#x27;lag_6&#x27;,\n",
       "                                                   &#x27;lag_7&#x27;, &#x27;lag_8&#x27;, &#x27;lag_9&#x27;,\n",
       "                                                   &#x27;lag_10&#x27;, &#x27;lag_11&#x27;, &#x27;lag_12&#x27;,\n",
       "                                                   &#x27;lag_13&#x27;, &#x27;lag_14&#x27;, &#x27;lag_15&#x27;,\n",
       "                                                   &#x27;lag_16&#x27;, &#x27;lag_17&#x27;, &#x27;lag_18&#x27;,\n",
       "                                                   &#x27;lag_19&#x27;, &#x27;lag_20&#x27;, &#x27;lag_21&#x27;,\n",
       "                                                   &#x27;lag_22&#x27;, &#x27;lag_23&#x27;, &#x27;lag_24&#x27;,\n",
       "                                                   &#x27;rolling_mean&#x27;])])),\n",
       "                (&#x27;models&#x27;, LGBMRegressor(max_depth =4, n_estimators =180))])</pre></div> </div></div><div class=\"sk-serial\"><div class=\"sk-item sk-dashed-wrapped\"><div class=\"sk-label-container\"><div class=\"sk-label fitted sk-toggleable\"><input class=\"sk-toggleable__control sk-hidden--visually\" id=\"sk-estimator-id-12\" type=\"checkbox\" ><label for=\"sk-estimator-id-12\" class=\"sk-toggleable__label fitted sk-toggleable__label-arrow\"><div><div>preprocessor: ColumnTransformer</div></div><div><a class=\"sk-estimator-doc-link fitted\" rel=\"noreferrer\" target=\"_blank\" href=\"https://scikit-learn.org/1.6/modules/generated/sklearn.compose.ColumnTransformer.html\">?<span>Documentation for preprocessor: ColumnTransformer</span></a></div></label><div class=\"sk-toggleable__content fitted\"><pre>ColumnTransformer(remainder=&#x27;passthrough&#x27;,\n",
       "                  transformers=[(&#x27;ohe&#x27;,\n",
       "                                 Pipeline(steps=[(&#x27;ohe&#x27;,\n",
       "                                                  OneHotEncoder(drop=&#x27;first&#x27;,\n",
       "                                                                handle_unknown=&#x27;ignore&#x27;,\n",
       "                                                                sparse_output=False))]),\n",
       "                                 [&#x27;hour&#x27;, &#x27;dayofweek&#x27;]),\n",
       "                                (&#x27;num&#x27;, StandardScaler(),\n",
       "                                 [&#x27;lag_1&#x27;, &#x27;lag_2&#x27;, &#x27;lag_3&#x27;, &#x27;lag_4&#x27;, &#x27;lag_5&#x27;,\n",
       "                                  &#x27;lag_6&#x27;, &#x27;lag_7&#x27;, &#x27;lag_8&#x27;, &#x27;lag_9&#x27;, &#x27;lag_10&#x27;,\n",
       "                                  &#x27;lag_11&#x27;, &#x27;lag_12&#x27;, &#x27;lag_13&#x27;, &#x27;lag_14&#x27;,\n",
       "                                  &#x27;lag_15&#x27;, &#x27;lag_16&#x27;, &#x27;lag_17&#x27;, &#x27;lag_18&#x27;,\n",
       "                                  &#x27;lag_19&#x27;, &#x27;lag_20&#x27;, &#x27;lag_21&#x27;, &#x27;lag_22&#x27;,\n",
       "                                  &#x27;lag_23&#x27;, &#x27;lag_24&#x27;, &#x27;rolling_mean&#x27;])])</pre></div> </div></div><div class=\"sk-parallel\"><div class=\"sk-parallel-item\"><div class=\"sk-item\"><div class=\"sk-label-container\"><div class=\"sk-label fitted sk-toggleable\"><input class=\"sk-toggleable__control sk-hidden--visually\" id=\"sk-estimator-id-13\" type=\"checkbox\" ><label for=\"sk-estimator-id-13\" class=\"sk-toggleable__label fitted sk-toggleable__label-arrow\"><div><div>ohe</div></div></label><div class=\"sk-toggleable__content fitted\"><pre>[&#x27;hour&#x27;, &#x27;dayofweek&#x27;]</pre></div> </div></div><div class=\"sk-serial\"><div class=\"sk-item\"><div class=\"sk-serial\"><div class=\"sk-item\"><div class=\"sk-estimator fitted sk-toggleable\"><input class=\"sk-toggleable__control sk-hidden--visually\" id=\"sk-estimator-id-14\" type=\"checkbox\" ><label for=\"sk-estimator-id-14\" class=\"sk-toggleable__label fitted sk-toggleable__label-arrow\"><div><div>OneHotEncoder</div></div><div><a class=\"sk-estimator-doc-link fitted\" rel=\"noreferrer\" target=\"_blank\" href=\"https://scikit-learn.org/1.6/modules/generated/sklearn.preprocessing.OneHotEncoder.html\">?<span>Documentation for OneHotEncoder</span></a></div></label><div class=\"sk-toggleable__content fitted\"><pre>OneHotEncoder(drop=&#x27;first&#x27;, handle_unknown=&#x27;ignore&#x27;, sparse_output=False)</pre></div> </div></div></div></div></div></div></div><div class=\"sk-parallel-item\"><div class=\"sk-item\"><div class=\"sk-label-container\"><div class=\"sk-label fitted sk-toggleable\"><input class=\"sk-toggleable__control sk-hidden--visually\" id=\"sk-estimator-id-15\" type=\"checkbox\" ><label for=\"sk-estimator-id-15\" class=\"sk-toggleable__label fitted sk-toggleable__label-arrow\"><div><div>num</div></div></label><div class=\"sk-toggleable__content fitted\"><pre>[&#x27;lag_1&#x27;, &#x27;lag_2&#x27;, &#x27;lag_3&#x27;, &#x27;lag_4&#x27;, &#x27;lag_5&#x27;, &#x27;lag_6&#x27;, &#x27;lag_7&#x27;, &#x27;lag_8&#x27;, &#x27;lag_9&#x27;, &#x27;lag_10&#x27;, &#x27;lag_11&#x27;, &#x27;lag_12&#x27;, &#x27;lag_13&#x27;, &#x27;lag_14&#x27;, &#x27;lag_15&#x27;, &#x27;lag_16&#x27;, &#x27;lag_17&#x27;, &#x27;lag_18&#x27;, &#x27;lag_19&#x27;, &#x27;lag_20&#x27;, &#x27;lag_21&#x27;, &#x27;lag_22&#x27;, &#x27;lag_23&#x27;, &#x27;lag_24&#x27;, &#x27;rolling_mean&#x27;]</pre></div> </div></div><div class=\"sk-serial\"><div class=\"sk-item\"><div class=\"sk-estimator fitted sk-toggleable\"><input class=\"sk-toggleable__control sk-hidden--visually\" id=\"sk-estimator-id-16\" type=\"checkbox\" ><label for=\"sk-estimator-id-16\" class=\"sk-toggleable__label fitted sk-toggleable__label-arrow\"><div><div>StandardScaler</div></div><div><a class=\"sk-estimator-doc-link fitted\" rel=\"noreferrer\" target=\"_blank\" href=\"https://scikit-learn.org/1.6/modules/generated/sklearn.preprocessing.StandardScaler.html\">?<span>Documentation for StandardScaler</span></a></div></label><div class=\"sk-toggleable__content fitted\"><pre>StandardScaler()</pre></div> </div></div></div></div></div><div class=\"sk-parallel-item\"><div class=\"sk-item\"><div class=\"sk-label-container\"><div class=\"sk-label fitted sk-toggleable\"><input class=\"sk-toggleable__control sk-hidden--visually\" id=\"sk-estimator-id-17\" type=\"checkbox\" ><label for=\"sk-estimator-id-17\" class=\"sk-toggleable__label fitted sk-toggleable__label-arrow\"><div><div>remainder</div></div></label><div class=\"sk-toggleable__content fitted\"><pre>[]</pre></div> </div></div><div class=\"sk-serial\"><div class=\"sk-item\"><div class=\"sk-estimator fitted sk-toggleable\"><input class=\"sk-toggleable__control sk-hidden--visually\" id=\"sk-estimator-id-18\" type=\"checkbox\" ><label for=\"sk-estimator-id-18\" class=\"sk-toggleable__label fitted sk-toggleable__label-arrow\"><div><div>passthrough</div></div></label><div class=\"sk-toggleable__content fitted\"><pre>passthrough</pre></div> </div></div></div></div></div></div></div><div class=\"sk-item\"><div class=\"sk-estimator fitted sk-toggleable\"><input class=\"sk-toggleable__control sk-hidden--visually\" id=\"sk-estimator-id-19\" type=\"checkbox\" ><label for=\"sk-estimator-id-19\" class=\"sk-toggleable__label fitted sk-toggleable__label-arrow\"><div><div>LGBMRegressor</div></div></label><div class=\"sk-toggleable__content fitted\"><pre>LGBMRegressor(max_depth =4, n_estimators =180)</pre></div> </div></div></div></div></div></div>"
      ],
      "text/plain": [
       "Pipeline(steps=[('preprocessor',\n",
       "                 ColumnTransformer(remainder='passthrough',\n",
       "                                   transformers=[('ohe',\n",
       "                                                  Pipeline(steps=[('ohe',\n",
       "                                                                   OneHotEncoder(drop='first',\n",
       "                                                                                 handle_unknown='ignore',\n",
       "                                                                                 sparse_output=False))]),\n",
       "                                                  ['hour', 'dayofweek']),\n",
       "                                                 ('num', StandardScaler(),\n",
       "                                                  ['lag_1', 'lag_2', 'lag_3',\n",
       "                                                   'lag_4', 'lag_5', 'lag_6',\n",
       "                                                   'lag_7', 'lag_8', 'lag_9',\n",
       "                                                   'lag_10', 'lag_11', 'lag_12',\n",
       "                                                   'lag_13', 'lag_14', 'lag_15',\n",
       "                                                   'lag_16', 'lag_17', 'lag_18',\n",
       "                                                   'lag_19', 'lag_20', 'lag_21',\n",
       "                                                   'lag_22', 'lag_23', 'lag_24',\n",
       "                                                   'rolling_mean'])])),\n",
       "                ('models', LGBMRegressor(max_depth =4, n_estimators =180))])"
      ]
     },
     "execution_count": 31,
     "metadata": {},
     "output_type": "execute_result"
    }
   ],
   "source": [
    "b_model = rs.best_estimator_\n",
    "\n",
    "b_model.fit(X_train, y_train)"
   ]
  },
  {
   "cell_type": "markdown",
   "metadata": {},
   "source": [
    "## Тестирование"
   ]
  },
  {
   "cell_type": "code",
   "execution_count": 32,
   "metadata": {},
   "outputs": [
    {
     "name": "stdout",
     "output_type": "stream",
     "text": [
      "RMSE на тестовой:  41.2900750590178\n"
     ]
    }
   ],
   "source": [
    "y_pred_LGBM = b_model.predict(X_test)\n",
    "\n",
    "print('RMSE на тестовой: ', RMSE(y_pred_LGBM, y_test))"
   ]
  },
  {
   "cell_type": "code",
   "execution_count": 33,
   "metadata": {},
   "outputs": [
    {
     "name": "stdout",
     "output_type": "stream",
     "text": [
      "RMSE для DummyRegressor 84.6499381993622\n"
     ]
    }
   ],
   "source": [
    "model_d = DummyRegressor(strategy='mean')\n",
    "\n",
    "model_d.fit(data_preprocessor.fit_transform(X_train), y_train)\n",
    "\n",
    "y_pred = model_d.predict(data_preprocessor.transform(X_test))\n",
    "\n",
    "rmse_d = RMSE(y_pred, y_test)\n",
    "\n",
    "\n",
    "print('RMSE для DummyRegressor', rmse_d)"
   ]
  },
  {
   "cell_type": "markdown",
   "metadata": {},
   "source": [
    "Лучшей моделью по итогам кросс-валидации оказалась модель LigthGBM, которая достигла метрики 23.32 на тренировочной и 41.43 на тестовых данных."
   ]
  }
 ],
 "metadata": {
  "ExecuteTimeLog": [
   {
    "duration": 14855,
    "start_time": "2025-01-29T21:26:52.514Z"
   },
   {
    "duration": 81,
    "start_time": "2025-01-29T21:28:05.559Z"
   },
   {
    "duration": 124,
    "start_time": "2025-01-29T21:28:17.958Z"
   },
   {
    "duration": 42,
    "start_time": "2025-01-29T21:28:28.338Z"
   },
   {
    "duration": 12,
    "start_time": "2025-01-29T21:28:34.549Z"
   },
   {
    "duration": 11,
    "start_time": "2025-01-29T21:28:53.253Z"
   },
   {
    "duration": 40,
    "start_time": "2025-01-29T21:30:05.849Z"
   },
   {
    "duration": 10,
    "start_time": "2025-01-29T21:30:07.601Z"
   },
   {
    "duration": 2,
    "start_time": "2025-01-29T21:30:20.940Z"
   },
   {
    "duration": 9,
    "start_time": "2025-01-29T21:30:26.387Z"
   },
   {
    "duration": 40,
    "start_time": "2025-01-29T21:30:46.087Z"
   },
   {
    "duration": 10,
    "start_time": "2025-01-29T21:30:46.326Z"
   },
   {
    "duration": 3,
    "start_time": "2025-01-29T21:30:47.153Z"
   },
   {
    "duration": 7,
    "start_time": "2025-01-29T21:30:48.166Z"
   },
   {
    "duration": 12,
    "start_time": "2025-01-29T21:31:45.071Z"
   },
   {
    "duration": 4,
    "start_time": "2025-01-29T21:34:16.411Z"
   },
   {
    "duration": 315,
    "start_time": "2025-01-29T21:35:08.987Z"
   },
   {
    "duration": 326,
    "start_time": "2025-01-29T21:35:12.706Z"
   },
   {
    "duration": 7,
    "start_time": "2025-01-29T21:37:20.512Z"
   },
   {
    "duration": 3,
    "start_time": "2025-01-29T21:37:46.969Z"
   },
   {
    "duration": 5,
    "start_time": "2025-01-29T21:37:56.129Z"
   },
   {
    "duration": 176,
    "start_time": "2025-01-29T21:41:02.495Z"
   },
   {
    "duration": 178,
    "start_time": "2025-01-29T21:41:06.082Z"
   },
   {
    "duration": 159,
    "start_time": "2025-01-29T21:41:38.680Z"
   },
   {
    "duration": 178,
    "start_time": "2025-01-29T21:41:46.205Z"
   },
   {
    "duration": 265,
    "start_time": "2025-01-29T21:42:28.529Z"
   },
   {
    "duration": 201,
    "start_time": "2025-01-29T21:44:25.073Z"
   },
   {
    "duration": 177,
    "start_time": "2025-01-29T21:47:50.225Z"
   },
   {
    "duration": 203,
    "start_time": "2025-01-29T21:48:07.571Z"
   },
   {
    "duration": 199,
    "start_time": "2025-01-29T21:48:11.050Z"
   },
   {
    "duration": 386,
    "start_time": "2025-01-29T21:48:15.578Z"
   },
   {
    "duration": 185,
    "start_time": "2025-01-29T21:48:31.161Z"
   },
   {
    "duration": 196,
    "start_time": "2025-01-29T21:48:56.135Z"
   },
   {
    "duration": 1299,
    "start_time": "2025-01-29T21:50:39.556Z"
   },
   {
    "duration": 332,
    "start_time": "2025-01-29T21:50:50.885Z"
   },
   {
    "duration": 304,
    "start_time": "2025-01-29T21:50:58.613Z"
   },
   {
    "duration": 312,
    "start_time": "2025-01-29T21:51:11.391Z"
   },
   {
    "duration": 1187,
    "start_time": "2025-01-29T21:51:46.072Z"
   },
   {
    "duration": 1305,
    "start_time": "2025-01-29T21:52:00.898Z"
   },
   {
    "duration": 9477,
    "start_time": "2025-01-29T21:52:22.280Z"
   },
   {
    "duration": 48,
    "start_time": "2025-01-29T21:52:31.759Z"
   },
   {
    "duration": 11,
    "start_time": "2025-01-29T21:52:31.809Z"
   },
   {
    "duration": 3,
    "start_time": "2025-01-29T21:52:31.822Z"
   },
   {
    "duration": 28,
    "start_time": "2025-01-29T21:52:31.828Z"
   },
   {
    "duration": 7,
    "start_time": "2025-01-29T21:52:31.858Z"
   },
   {
    "duration": 5,
    "start_time": "2025-01-29T21:52:31.866Z"
   },
   {
    "duration": 13,
    "start_time": "2025-01-29T21:52:31.872Z"
   },
   {
    "duration": 10,
    "start_time": "2025-01-29T21:52:31.887Z"
   },
   {
    "duration": 352,
    "start_time": "2025-01-29T21:52:31.898Z"
   },
   {
    "duration": 262,
    "start_time": "2025-01-29T21:52:32.252Z"
   },
   {
    "duration": 191,
    "start_time": "2025-01-29T21:52:32.515Z"
   },
   {
    "duration": 330,
    "start_time": "2025-01-29T21:52:32.713Z"
   },
   {
    "duration": 1386,
    "start_time": "2025-01-29T21:52:51.678Z"
   },
   {
    "duration": 1169,
    "start_time": "2025-01-29T21:53:33.442Z"
   },
   {
    "duration": 1165,
    "start_time": "2025-01-29T21:53:53.546Z"
   },
   {
    "duration": 12,
    "start_time": "2025-01-29T21:54:07.657Z"
   },
   {
    "duration": 9344,
    "start_time": "2025-01-29T21:54:19.337Z"
   },
   {
    "duration": 45,
    "start_time": "2025-01-29T21:54:28.683Z"
   },
   {
    "duration": 10,
    "start_time": "2025-01-29T21:54:28.730Z"
   },
   {
    "duration": 2,
    "start_time": "2025-01-29T21:54:28.742Z"
   },
   {
    "duration": 12,
    "start_time": "2025-01-29T21:54:28.746Z"
   },
   {
    "duration": 5,
    "start_time": "2025-01-29T21:54:28.759Z"
   },
   {
    "duration": 3,
    "start_time": "2025-01-29T21:54:28.766Z"
   },
   {
    "duration": 4,
    "start_time": "2025-01-29T21:54:28.770Z"
   },
   {
    "duration": 4,
    "start_time": "2025-01-29T21:54:28.775Z"
   },
   {
    "duration": 370,
    "start_time": "2025-01-29T21:54:28.780Z"
   },
   {
    "duration": 265,
    "start_time": "2025-01-29T21:54:29.152Z"
   },
   {
    "duration": 201,
    "start_time": "2025-01-29T21:54:29.419Z"
   },
   {
    "duration": 322,
    "start_time": "2025-01-29T21:54:29.622Z"
   },
   {
    "duration": 4,
    "start_time": "2025-01-29T22:00:44.370Z"
   },
   {
    "duration": 136,
    "start_time": "2025-01-29T22:01:01.359Z"
   },
   {
    "duration": 3,
    "start_time": "2025-01-29T22:01:05.817Z"
   },
   {
    "duration": 9,
    "start_time": "2025-01-29T22:01:06.117Z"
   },
   {
    "duration": 13,
    "start_time": "2025-01-29T22:01:12.232Z"
   },
   {
    "duration": 9697,
    "start_time": "2025-01-29T22:02:11.160Z"
   },
   {
    "duration": 45,
    "start_time": "2025-01-29T22:02:20.859Z"
   },
   {
    "duration": 11,
    "start_time": "2025-01-29T22:02:20.906Z"
   },
   {
    "duration": 23,
    "start_time": "2025-01-29T22:02:20.918Z"
   },
   {
    "duration": 15,
    "start_time": "2025-01-29T22:02:20.943Z"
   },
   {
    "duration": 6,
    "start_time": "2025-01-29T22:02:20.959Z"
   },
   {
    "duration": 10,
    "start_time": "2025-01-29T22:02:20.967Z"
   },
   {
    "duration": 33,
    "start_time": "2025-01-29T22:02:20.978Z"
   },
   {
    "duration": 20,
    "start_time": "2025-01-29T22:02:21.013Z"
   },
   {
    "duration": 339,
    "start_time": "2025-01-29T22:02:21.035Z"
   },
   {
    "duration": 268,
    "start_time": "2025-01-29T22:02:21.376Z"
   },
   {
    "duration": 215,
    "start_time": "2025-01-29T22:02:21.646Z"
   },
   {
    "duration": 336,
    "start_time": "2025-01-29T22:02:21.863Z"
   },
   {
    "duration": 3,
    "start_time": "2025-01-29T22:02:22.213Z"
   },
   {
    "duration": 14,
    "start_time": "2025-01-29T22:02:22.218Z"
   },
   {
    "duration": 175,
    "start_time": "2025-01-29T22:03:14.185Z"
   },
   {
    "duration": 17,
    "start_time": "2025-01-29T22:06:35.510Z"
   },
   {
    "duration": 5,
    "start_time": "2025-01-29T22:06:38.949Z"
   },
   {
    "duration": 1198,
    "start_time": "2025-01-29T22:07:22.295Z"
   },
   {
    "duration": 2,
    "start_time": "2025-01-29T22:07:34.257Z"
   },
   {
    "duration": 1261,
    "start_time": "2025-01-29T22:08:07.325Z"
   },
   {
    "duration": 21,
    "start_time": "2025-01-29T22:08:17.922Z"
   },
   {
    "duration": 22,
    "start_time": "2025-01-29T22:11:51.940Z"
   },
   {
    "duration": 2,
    "start_time": "2025-01-29T22:13:36.349Z"
   },
   {
    "duration": 10,
    "start_time": "2025-01-29T22:20:43.782Z"
   },
   {
    "duration": 6,
    "start_time": "2025-01-29T22:20:50.104Z"
   },
   {
    "duration": 7,
    "start_time": "2025-01-29T22:21:54.312Z"
   },
   {
    "duration": 11,
    "start_time": "2025-01-29T22:23:02.162Z"
   },
   {
    "duration": 3,
    "start_time": "2025-01-29T22:24:10.542Z"
   },
   {
    "duration": 1308,
    "start_time": "2025-01-29T22:24:11.019Z"
   },
   {
    "duration": 3,
    "start_time": "2025-01-29T22:24:23.838Z"
   },
   {
    "duration": 1270,
    "start_time": "2025-01-29T22:24:24.454Z"
   },
   {
    "duration": 9495,
    "start_time": "2025-01-29T22:24:47.666Z"
   },
   {
    "duration": 46,
    "start_time": "2025-01-29T22:24:57.163Z"
   },
   {
    "duration": 10,
    "start_time": "2025-01-29T22:24:57.211Z"
   },
   {
    "duration": 2,
    "start_time": "2025-01-29T22:24:57.223Z"
   },
   {
    "duration": 12,
    "start_time": "2025-01-29T22:24:57.227Z"
   },
   {
    "duration": 6,
    "start_time": "2025-01-29T22:24:57.240Z"
   },
   {
    "duration": 5,
    "start_time": "2025-01-29T22:24:57.247Z"
   },
   {
    "duration": 3,
    "start_time": "2025-01-29T22:24:57.254Z"
   },
   {
    "duration": 4,
    "start_time": "2025-01-29T22:24:57.259Z"
   },
   {
    "duration": 6,
    "start_time": "2025-01-29T22:24:57.264Z"
   },
   {
    "duration": 321,
    "start_time": "2025-01-29T22:24:57.313Z"
   },
   {
    "duration": 248,
    "start_time": "2025-01-29T22:24:57.636Z"
   },
   {
    "duration": 200,
    "start_time": "2025-01-29T22:24:57.885Z"
   },
   {
    "duration": 329,
    "start_time": "2025-01-29T22:24:58.087Z"
   },
   {
    "duration": 2,
    "start_time": "2025-01-29T22:24:58.418Z"
   },
   {
    "duration": 5,
    "start_time": "2025-01-29T22:24:58.422Z"
   },
   {
    "duration": 1304,
    "start_time": "2025-01-29T22:24:58.428Z"
   },
   {
    "duration": 0,
    "start_time": "2025-01-29T22:24:59.735Z"
   },
   {
    "duration": 0,
    "start_time": "2025-01-29T22:24:59.736Z"
   },
   {
    "duration": 0,
    "start_time": "2025-01-29T22:24:59.738Z"
   },
   {
    "duration": 4,
    "start_time": "2025-01-29T22:25:46.141Z"
   },
   {
    "duration": 16,
    "start_time": "2025-01-29T22:25:46.528Z"
   },
   {
    "duration": 4,
    "start_time": "2025-01-29T22:26:19.076Z"
   },
   {
    "duration": 13,
    "start_time": "2025-01-29T22:26:19.339Z"
   },
   {
    "duration": 4,
    "start_time": "2025-01-29T22:26:36.802Z"
   },
   {
    "duration": 1193,
    "start_time": "2025-01-29T22:26:37.334Z"
   },
   {
    "duration": 4,
    "start_time": "2025-01-29T22:26:49.887Z"
   },
   {
    "duration": 19,
    "start_time": "2025-01-29T22:26:50.613Z"
   },
   {
    "duration": 12,
    "start_time": "2025-01-29T22:27:36.961Z"
   },
   {
    "duration": 9137,
    "start_time": "2025-01-29T22:27:41.931Z"
   },
   {
    "duration": 46,
    "start_time": "2025-01-29T22:27:51.070Z"
   },
   {
    "duration": 9,
    "start_time": "2025-01-29T22:27:51.118Z"
   },
   {
    "duration": 3,
    "start_time": "2025-01-29T22:27:51.129Z"
   },
   {
    "duration": 12,
    "start_time": "2025-01-29T22:27:51.134Z"
   },
   {
    "duration": 5,
    "start_time": "2025-01-29T22:27:51.148Z"
   },
   {
    "duration": 5,
    "start_time": "2025-01-29T22:27:51.154Z"
   },
   {
    "duration": 4,
    "start_time": "2025-01-29T22:27:51.160Z"
   },
   {
    "duration": 4,
    "start_time": "2025-01-29T22:27:51.165Z"
   },
   {
    "duration": 4,
    "start_time": "2025-01-29T22:27:51.171Z"
   },
   {
    "duration": 361,
    "start_time": "2025-01-29T22:27:51.177Z"
   },
   {
    "duration": 251,
    "start_time": "2025-01-29T22:27:51.539Z"
   },
   {
    "duration": 207,
    "start_time": "2025-01-29T22:27:51.792Z"
   },
   {
    "duration": 325,
    "start_time": "2025-01-29T22:27:52.013Z"
   },
   {
    "duration": 10,
    "start_time": "2025-01-29T22:27:52.340Z"
   },
   {
    "duration": 2,
    "start_time": "2025-01-29T22:27:52.352Z"
   },
   {
    "duration": 4,
    "start_time": "2025-01-29T22:27:52.356Z"
   },
   {
    "duration": 20,
    "start_time": "2025-01-29T22:27:52.361Z"
   },
   {
    "duration": 7,
    "start_time": "2025-01-29T22:27:52.414Z"
   },
   {
    "duration": 5,
    "start_time": "2025-01-29T22:27:52.422Z"
   },
   {
    "duration": 10,
    "start_time": "2025-01-29T22:27:52.428Z"
   },
   {
    "duration": 127,
    "start_time": "2025-01-29T22:29:00.220Z"
   },
   {
    "duration": 22,
    "start_time": "2025-01-29T22:29:03.303Z"
   },
   {
    "duration": 8,
    "start_time": "2025-01-29T22:29:11.982Z"
   },
   {
    "duration": 5,
    "start_time": "2025-01-29T22:29:12.186Z"
   },
   {
    "duration": 13,
    "start_time": "2025-01-29T22:29:12.363Z"
   },
   {
    "duration": 24,
    "start_time": "2025-01-29T22:29:16.779Z"
   },
   {
    "duration": 3,
    "start_time": "2025-01-29T22:30:21.033Z"
   },
   {
    "duration": 25,
    "start_time": "2025-01-29T22:30:21.920Z"
   },
   {
    "duration": 8,
    "start_time": "2025-01-29T22:30:25.624Z"
   },
   {
    "duration": 5,
    "start_time": "2025-01-29T22:30:25.881Z"
   },
   {
    "duration": 12,
    "start_time": "2025-01-29T22:30:26.300Z"
   },
   {
    "duration": 34,
    "start_time": "2025-01-29T22:30:43.757Z"
   },
   {
    "duration": 7,
    "start_time": "2025-01-29T22:30:47.600Z"
   },
   {
    "duration": 5,
    "start_time": "2025-01-29T22:30:47.964Z"
   },
   {
    "duration": 12,
    "start_time": "2025-01-29T22:30:48.275Z"
   },
   {
    "duration": 34,
    "start_time": "2025-01-29T22:30:59.862Z"
   },
   {
    "duration": 9,
    "start_time": "2025-01-29T22:31:00.197Z"
   },
   {
    "duration": 5,
    "start_time": "2025-01-29T22:31:00.955Z"
   },
   {
    "duration": 49,
    "start_time": "2025-01-29T22:31:01.264Z"
   },
   {
    "duration": 29,
    "start_time": "2025-01-29T22:31:17.359Z"
   },
   {
    "duration": 8,
    "start_time": "2025-01-29T22:31:17.775Z"
   },
   {
    "duration": 6,
    "start_time": "2025-01-29T22:31:18.135Z"
   },
   {
    "duration": 16,
    "start_time": "2025-01-29T22:31:18.393Z"
   },
   {
    "duration": 29,
    "start_time": "2025-01-29T22:31:23.903Z"
   },
   {
    "duration": 7,
    "start_time": "2025-01-29T22:31:24.237Z"
   },
   {
    "duration": 5,
    "start_time": "2025-01-29T22:31:24.811Z"
   },
   {
    "duration": 37,
    "start_time": "2025-01-29T22:31:25.576Z"
   },
   {
    "duration": 30,
    "start_time": "2025-01-29T22:31:30.166Z"
   },
   {
    "duration": 8,
    "start_time": "2025-01-29T22:31:30.472Z"
   },
   {
    "duration": 5,
    "start_time": "2025-01-29T22:31:30.755Z"
   },
   {
    "duration": 66,
    "start_time": "2025-01-29T22:31:31.154Z"
   },
   {
    "duration": 190,
    "start_time": "2025-01-29T22:32:49.427Z"
   },
   {
    "duration": 8,
    "start_time": "2025-01-29T22:32:51.853Z"
   },
   {
    "duration": 29,
    "start_time": "2025-01-29T22:32:59.449Z"
   },
   {
    "duration": 8,
    "start_time": "2025-01-29T22:32:59.731Z"
   },
   {
    "duration": 5,
    "start_time": "2025-01-29T22:32:59.984Z"
   },
   {
    "duration": 209,
    "start_time": "2025-01-29T22:33:00.205Z"
   },
   {
    "duration": 9,
    "start_time": "2025-01-29T22:33:01.294Z"
   },
   {
    "duration": 5,
    "start_time": "2025-01-29T22:37:00.232Z"
   },
   {
    "duration": 24,
    "start_time": "2025-01-29T22:37:03.594Z"
   },
   {
    "duration": 4,
    "start_time": "2025-01-29T22:37:07.199Z"
   },
   {
    "duration": 24,
    "start_time": "2025-01-29T22:37:07.481Z"
   },
   {
    "duration": 4,
    "start_time": "2025-01-29T22:37:23.974Z"
   },
   {
    "duration": 21,
    "start_time": "2025-01-29T22:37:24.315Z"
   },
   {
    "duration": 5,
    "start_time": "2025-01-29T22:40:54.061Z"
   },
   {
    "duration": 107,
    "start_time": "2025-01-29T22:41:05.808Z"
   },
   {
    "duration": 4,
    "start_time": "2025-01-29T22:41:09.712Z"
   },
   {
    "duration": 3,
    "start_time": "2025-01-29T22:41:27.416Z"
   },
   {
    "duration": 3,
    "start_time": "2025-01-29T22:41:35.230Z"
   },
   {
    "duration": 9,
    "start_time": "2025-01-29T22:41:41.613Z"
   },
   {
    "duration": 3,
    "start_time": "2025-01-29T22:41:56.075Z"
   },
   {
    "duration": 3,
    "start_time": "2025-01-29T22:42:01.805Z"
   },
   {
    "duration": 6,
    "start_time": "2025-01-29T22:43:36.687Z"
   },
   {
    "duration": 10,
    "start_time": "2025-01-29T22:44:33.569Z"
   },
   {
    "duration": 12925,
    "start_time": "2025-01-29T22:44:39.088Z"
   },
   {
    "duration": 3,
    "start_time": "2025-01-29T22:44:52.015Z"
   },
   {
    "duration": 1251,
    "start_time": "2025-01-29T22:46:16.578Z"
   },
   {
    "duration": 13,
    "start_time": "2025-01-29T22:47:00.023Z"
   },
   {
    "duration": 106,
    "start_time": "2025-01-29T22:47:05.511Z"
   },
   {
    "duration": 8,
    "start_time": "2025-01-29T22:47:05.869Z"
   },
   {
    "duration": 11,
    "start_time": "2025-01-29T22:47:36.237Z"
   },
   {
    "duration": 15918,
    "start_time": "2025-01-30T09:28:11.315Z"
   },
   {
    "duration": 166,
    "start_time": "2025-01-30T09:28:27.235Z"
   },
   {
    "duration": 10,
    "start_time": "2025-01-30T09:28:27.403Z"
   },
   {
    "duration": 2,
    "start_time": "2025-01-30T09:28:27.415Z"
   },
   {
    "duration": 13,
    "start_time": "2025-01-30T09:28:27.419Z"
   },
   {
    "duration": 5,
    "start_time": "2025-01-30T09:28:27.433Z"
   },
   {
    "duration": 6,
    "start_time": "2025-01-30T09:28:27.440Z"
   },
   {
    "duration": 5,
    "start_time": "2025-01-30T09:28:27.447Z"
   },
   {
    "duration": 6,
    "start_time": "2025-01-30T09:28:27.453Z"
   },
   {
    "duration": 10,
    "start_time": "2025-01-30T09:28:27.460Z"
   },
   {
    "duration": 336,
    "start_time": "2025-01-30T09:28:27.471Z"
   },
   {
    "duration": 275,
    "start_time": "2025-01-30T09:28:27.808Z"
   },
   {
    "duration": 201,
    "start_time": "2025-01-30T09:28:28.085Z"
   },
   {
    "duration": 320,
    "start_time": "2025-01-30T09:28:28.289Z"
   },
   {
    "duration": 10,
    "start_time": "2025-01-30T09:28:28.611Z"
   },
   {
    "duration": 6,
    "start_time": "2025-01-30T09:28:28.622Z"
   },
   {
    "duration": 8,
    "start_time": "2025-01-30T09:28:28.630Z"
   },
   {
    "duration": 62,
    "start_time": "2025-01-30T09:28:28.639Z"
   },
   {
    "duration": 0,
    "start_time": "2025-01-30T09:28:28.702Z"
   },
   {
    "duration": 0,
    "start_time": "2025-01-30T09:28:28.703Z"
   },
   {
    "duration": 1,
    "start_time": "2025-01-30T09:28:28.704Z"
   },
   {
    "duration": 0,
    "start_time": "2025-01-30T09:28:28.706Z"
   },
   {
    "duration": 0,
    "start_time": "2025-01-30T09:28:28.707Z"
   },
   {
    "duration": 0,
    "start_time": "2025-01-30T09:28:28.708Z"
   },
   {
    "duration": 0,
    "start_time": "2025-01-30T09:28:28.709Z"
   },
   {
    "duration": 0,
    "start_time": "2025-01-30T09:28:28.710Z"
   },
   {
    "duration": 0,
    "start_time": "2025-01-30T09:28:28.711Z"
   },
   {
    "duration": 0,
    "start_time": "2025-01-30T09:28:28.711Z"
   },
   {
    "duration": 7,
    "start_time": "2025-01-30T09:28:43.736Z"
   },
   {
    "duration": 4,
    "start_time": "2025-01-30T09:28:44.231Z"
   },
   {
    "duration": 4,
    "start_time": "2025-01-30T09:28:44.741Z"
   },
   {
    "duration": 5,
    "start_time": "2025-01-30T09:28:45.309Z"
   },
   {
    "duration": 267,
    "start_time": "2025-01-30T09:28:45.950Z"
   },
   {
    "duration": 9,
    "start_time": "2025-01-30T09:29:25.377Z"
   },
   {
    "duration": 16,
    "start_time": "2025-01-30T09:29:39.105Z"
   },
   {
    "duration": 6,
    "start_time": "2025-01-30T09:29:47.815Z"
   },
   {
    "duration": 4,
    "start_time": "2025-01-30T09:29:48.345Z"
   },
   {
    "duration": 4,
    "start_time": "2025-01-30T09:29:48.845Z"
   },
   {
    "duration": 4,
    "start_time": "2025-01-30T09:30:19.111Z"
   },
   {
    "duration": 8737,
    "start_time": "2025-01-30T09:30:20.004Z"
   },
   {
    "duration": 3,
    "start_time": "2025-01-30T09:30:28.743Z"
   },
   {
    "duration": 981,
    "start_time": "2025-01-30T09:30:28.748Z"
   },
   {
    "duration": 78,
    "start_time": "2025-01-30T09:30:29.732Z"
   },
   {
    "duration": 30,
    "start_time": "2025-01-30T09:30:29.811Z"
   },
   {
    "duration": 21,
    "start_time": "2025-01-30T09:30:42.278Z"
   },
   {
    "duration": 7680,
    "start_time": "2025-01-30T12:38:25.656Z"
   },
   {
    "duration": 3297,
    "start_time": "2025-01-30T13:19:00.127Z"
   },
   {
    "duration": 1632,
    "start_time": "2025-01-30T13:19:03.426Z"
   },
   {
    "duration": 0,
    "start_time": "2025-01-30T13:19:05.060Z"
   },
   {
    "duration": 0,
    "start_time": "2025-01-30T13:19:05.062Z"
   },
   {
    "duration": 0,
    "start_time": "2025-01-30T13:19:05.063Z"
   },
   {
    "duration": 0,
    "start_time": "2025-01-30T13:19:05.064Z"
   },
   {
    "duration": 0,
    "start_time": "2025-01-30T13:19:05.065Z"
   },
   {
    "duration": 0,
    "start_time": "2025-01-30T13:19:05.066Z"
   },
   {
    "duration": 0,
    "start_time": "2025-01-30T13:19:05.067Z"
   },
   {
    "duration": 0,
    "start_time": "2025-01-30T13:19:05.068Z"
   },
   {
    "duration": 0,
    "start_time": "2025-01-30T13:19:05.070Z"
   },
   {
    "duration": 0,
    "start_time": "2025-01-30T13:19:05.071Z"
   },
   {
    "duration": 0,
    "start_time": "2025-01-30T13:19:05.072Z"
   },
   {
    "duration": 0,
    "start_time": "2025-01-30T13:19:05.073Z"
   },
   {
    "duration": 0,
    "start_time": "2025-01-30T13:19:05.074Z"
   },
   {
    "duration": 0,
    "start_time": "2025-01-30T13:19:05.075Z"
   },
   {
    "duration": 0,
    "start_time": "2025-01-30T13:19:05.077Z"
   },
   {
    "duration": 0,
    "start_time": "2025-01-30T13:19:05.078Z"
   },
   {
    "duration": 0,
    "start_time": "2025-01-30T13:19:05.079Z"
   },
   {
    "duration": 0,
    "start_time": "2025-01-30T13:19:05.080Z"
   },
   {
    "duration": 0,
    "start_time": "2025-01-30T13:19:05.117Z"
   },
   {
    "duration": 0,
    "start_time": "2025-01-30T13:19:05.118Z"
   },
   {
    "duration": 0,
    "start_time": "2025-01-30T13:19:05.119Z"
   },
   {
    "duration": 0,
    "start_time": "2025-01-30T13:19:05.120Z"
   },
   {
    "duration": 0,
    "start_time": "2025-01-30T13:19:05.121Z"
   },
   {
    "duration": 0,
    "start_time": "2025-01-30T13:19:05.122Z"
   },
   {
    "duration": 0,
    "start_time": "2025-01-30T13:19:05.123Z"
   },
   {
    "duration": 0,
    "start_time": "2025-01-30T13:19:05.124Z"
   },
   {
    "duration": 0,
    "start_time": "2025-01-30T13:19:05.125Z"
   },
   {
    "duration": 6837,
    "start_time": "2025-01-30T13:19:45.301Z"
   },
   {
    "duration": 1996,
    "start_time": "2025-01-30T13:19:52.140Z"
   },
   {
    "duration": 0,
    "start_time": "2025-01-30T13:19:54.141Z"
   },
   {
    "duration": 0,
    "start_time": "2025-01-30T13:19:54.142Z"
   },
   {
    "duration": 0,
    "start_time": "2025-01-30T13:19:54.144Z"
   },
   {
    "duration": 0,
    "start_time": "2025-01-30T13:19:54.145Z"
   },
   {
    "duration": 0,
    "start_time": "2025-01-30T13:19:54.146Z"
   },
   {
    "duration": 0,
    "start_time": "2025-01-30T13:19:54.148Z"
   },
   {
    "duration": 0,
    "start_time": "2025-01-30T13:19:54.149Z"
   },
   {
    "duration": 0,
    "start_time": "2025-01-30T13:19:54.151Z"
   },
   {
    "duration": 0,
    "start_time": "2025-01-30T13:19:54.152Z"
   },
   {
    "duration": 0,
    "start_time": "2025-01-30T13:19:54.154Z"
   },
   {
    "duration": 0,
    "start_time": "2025-01-30T13:19:54.155Z"
   },
   {
    "duration": 0,
    "start_time": "2025-01-30T13:19:54.157Z"
   },
   {
    "duration": 0,
    "start_time": "2025-01-30T13:19:54.158Z"
   },
   {
    "duration": 0,
    "start_time": "2025-01-30T13:19:54.159Z"
   },
   {
    "duration": 0,
    "start_time": "2025-01-30T13:19:54.160Z"
   },
   {
    "duration": 0,
    "start_time": "2025-01-30T13:19:54.162Z"
   },
   {
    "duration": 0,
    "start_time": "2025-01-30T13:19:54.163Z"
   },
   {
    "duration": 0,
    "start_time": "2025-01-30T13:19:54.164Z"
   },
   {
    "duration": 0,
    "start_time": "2025-01-30T13:19:54.165Z"
   },
   {
    "duration": 0,
    "start_time": "2025-01-30T13:19:54.167Z"
   },
   {
    "duration": 0,
    "start_time": "2025-01-30T13:19:54.168Z"
   },
   {
    "duration": 0,
    "start_time": "2025-01-30T13:19:54.218Z"
   },
   {
    "duration": 0,
    "start_time": "2025-01-30T13:19:54.219Z"
   },
   {
    "duration": 0,
    "start_time": "2025-01-30T13:19:54.222Z"
   },
   {
    "duration": 0,
    "start_time": "2025-01-30T13:19:54.223Z"
   },
   {
    "duration": 0,
    "start_time": "2025-01-30T13:19:54.225Z"
   },
   {
    "duration": 0,
    "start_time": "2025-01-30T13:19:54.226Z"
   },
   {
    "duration": 6113,
    "start_time": "2025-01-30T13:20:07.184Z"
   },
   {
    "duration": 1498,
    "start_time": "2025-01-30T13:20:13.299Z"
   },
   {
    "duration": 48,
    "start_time": "2025-01-30T13:20:14.799Z"
   },
   {
    "duration": 11,
    "start_time": "2025-01-30T13:20:14.849Z"
   },
   {
    "duration": 4,
    "start_time": "2025-01-30T13:20:14.861Z"
   },
   {
    "duration": 20,
    "start_time": "2025-01-30T13:20:14.867Z"
   },
   {
    "duration": 108,
    "start_time": "2025-01-30T13:20:14.888Z"
   },
   {
    "duration": 58,
    "start_time": "2025-01-30T13:20:14.998Z"
   },
   {
    "duration": 28,
    "start_time": "2025-01-30T13:20:15.058Z"
   },
   {
    "duration": 31,
    "start_time": "2025-01-30T13:20:15.089Z"
   },
   {
    "duration": 21,
    "start_time": "2025-01-30T13:20:15.122Z"
   },
   {
    "duration": 421,
    "start_time": "2025-01-30T13:20:15.145Z"
   },
   {
    "duration": 298,
    "start_time": "2025-01-30T13:20:15.567Z"
   },
   {
    "duration": 219,
    "start_time": "2025-01-30T13:20:15.867Z"
   },
   {
    "duration": 363,
    "start_time": "2025-01-30T13:20:16.088Z"
   },
   {
    "duration": 10,
    "start_time": "2025-01-30T13:20:16.453Z"
   },
   {
    "duration": 11,
    "start_time": "2025-01-30T13:20:16.465Z"
   },
   {
    "duration": 8,
    "start_time": "2025-01-30T13:20:16.478Z"
   },
   {
    "duration": 30,
    "start_time": "2025-01-30T13:20:16.488Z"
   },
   {
    "duration": 8,
    "start_time": "2025-01-30T13:20:16.519Z"
   },
   {
    "duration": 9,
    "start_time": "2025-01-30T13:20:16.528Z"
   },
   {
    "duration": 29,
    "start_time": "2025-01-30T13:20:16.538Z"
   },
   {
    "duration": 7,
    "start_time": "2025-01-30T13:20:16.569Z"
   },
   {
    "duration": 6,
    "start_time": "2025-01-30T13:20:16.577Z"
   },
   {
    "duration": 425,
    "start_time": "2025-01-30T13:20:16.585Z"
   },
   {
    "duration": 0,
    "start_time": "2025-01-30T13:20:17.012Z"
   },
   {
    "duration": 0,
    "start_time": "2025-01-30T13:20:17.012Z"
   },
   {
    "duration": 0,
    "start_time": "2025-01-30T13:20:17.013Z"
   },
   {
    "duration": 0,
    "start_time": "2025-01-30T13:20:17.014Z"
   },
   {
    "duration": 45,
    "start_time": "2025-01-30T13:20:48.520Z"
   },
   {
    "duration": 520,
    "start_time": "2025-01-30T13:28:17.400Z"
   },
   {
    "duration": 607,
    "start_time": "2025-01-30T13:28:30.733Z"
   },
   {
    "duration": 41,
    "start_time": "2025-01-30T13:28:40.111Z"
   },
   {
    "duration": 6165,
    "start_time": "2025-01-30T13:29:44.801Z"
   },
   {
    "duration": 8,
    "start_time": "2025-01-30T13:29:50.969Z"
   },
   {
    "duration": 109,
    "start_time": "2025-01-30T13:29:50.978Z"
   },
   {
    "duration": 11,
    "start_time": "2025-01-30T13:29:51.089Z"
   },
   {
    "duration": 2,
    "start_time": "2025-01-30T13:29:51.102Z"
   },
   {
    "duration": 35,
    "start_time": "2025-01-30T13:29:51.106Z"
   },
   {
    "duration": 6,
    "start_time": "2025-01-30T13:29:51.142Z"
   },
   {
    "duration": 7,
    "start_time": "2025-01-30T13:29:51.150Z"
   },
   {
    "duration": 28,
    "start_time": "2025-01-30T13:29:51.159Z"
   },
   {
    "duration": 9,
    "start_time": "2025-01-30T13:29:51.191Z"
   },
   {
    "duration": 11,
    "start_time": "2025-01-30T13:29:51.202Z"
   },
   {
    "duration": 341,
    "start_time": "2025-01-30T13:29:51.214Z"
   },
   {
    "duration": 220,
    "start_time": "2025-01-30T13:29:51.557Z"
   },
   {
    "duration": 222,
    "start_time": "2025-01-30T13:29:51.778Z"
   },
   {
    "duration": 381,
    "start_time": "2025-01-30T13:29:52.001Z"
   },
   {
    "duration": 11,
    "start_time": "2025-01-30T14:11:34.116Z"
   },
   {
    "duration": 47,
    "start_time": "2025-01-30T14:11:35.097Z"
   },
   {
    "duration": 388,
    "start_time": "2025-01-30T14:12:38.901Z"
   },
   {
    "duration": 265,
    "start_time": "2025-01-30T14:12:43.020Z"
   },
   {
    "duration": 325,
    "start_time": "2025-01-30T14:13:06.542Z"
   },
   {
    "duration": 319,
    "start_time": "2025-01-30T14:13:11.898Z"
   },
   {
    "duration": 329,
    "start_time": "2025-01-30T14:13:46.095Z"
   },
   {
    "duration": 257,
    "start_time": "2025-01-30T14:13:52.699Z"
   },
   {
    "duration": 305,
    "start_time": "2025-01-30T14:15:12.437Z"
   },
   {
    "duration": 299,
    "start_time": "2025-01-30T14:16:13.403Z"
   },
   {
    "duration": 390,
    "start_time": "2025-01-30T14:16:18.594Z"
   },
   {
    "duration": 282,
    "start_time": "2025-01-30T14:16:25.466Z"
   },
   {
    "duration": 4,
    "start_time": "2025-01-30T16:28:45.098Z"
   },
   {
    "duration": 198,
    "start_time": "2025-01-30T16:29:22.829Z"
   },
   {
    "duration": 11822,
    "start_time": "2025-01-31T09:37:31.329Z"
   },
   {
    "duration": 1721,
    "start_time": "2025-01-31T09:37:43.153Z"
   },
   {
    "duration": 178,
    "start_time": "2025-01-31T09:37:44.875Z"
   },
   {
    "duration": 12,
    "start_time": "2025-01-31T09:37:45.054Z"
   },
   {
    "duration": 21,
    "start_time": "2025-01-31T09:37:45.067Z"
   },
   {
    "duration": 43,
    "start_time": "2025-01-31T09:37:45.090Z"
   },
   {
    "duration": 10,
    "start_time": "2025-01-31T09:37:45.137Z"
   },
   {
    "duration": 41,
    "start_time": "2025-01-31T09:37:45.149Z"
   },
   {
    "duration": 43,
    "start_time": "2025-01-31T09:37:45.192Z"
   },
   {
    "duration": 21,
    "start_time": "2025-01-31T09:37:45.239Z"
   },
   {
    "duration": 9,
    "start_time": "2025-01-31T09:37:45.262Z"
   },
   {
    "duration": 538,
    "start_time": "2025-01-31T09:37:45.273Z"
   },
   {
    "duration": 243,
    "start_time": "2025-01-31T09:37:45.813Z"
   },
   {
    "duration": 233,
    "start_time": "2025-01-31T09:37:46.058Z"
   },
   {
    "duration": 371,
    "start_time": "2025-01-31T09:37:46.293Z"
   },
   {
    "duration": 12,
    "start_time": "2025-01-31T09:37:46.666Z"
   },
   {
    "duration": 57,
    "start_time": "2025-01-31T09:37:46.681Z"
   },
   {
    "duration": 289,
    "start_time": "2025-01-31T09:37:46.740Z"
   },
   {
    "duration": 285,
    "start_time": "2025-01-31T09:37:47.031Z"
   },
   {
    "duration": 208,
    "start_time": "2025-01-31T09:37:47.317Z"
   },
   {
    "duration": 208,
    "start_time": "2025-01-31T09:37:47.527Z"
   },
   {
    "duration": 198,
    "start_time": "2025-01-31T09:38:03.749Z"
   },
   {
    "duration": 305,
    "start_time": "2025-01-31T09:38:07.279Z"
   },
   {
    "duration": 134,
    "start_time": "2025-01-31T10:07:22.556Z"
   },
   {
    "duration": 273,
    "start_time": "2025-01-31T10:07:38.088Z"
   },
   {
    "duration": 267,
    "start_time": "2025-01-31T10:07:46.769Z"
   },
   {
    "duration": 254,
    "start_time": "2025-01-31T10:08:08.158Z"
   },
   {
    "duration": 269,
    "start_time": "2025-01-31T10:08:15.028Z"
   },
   {
    "duration": 262,
    "start_time": "2025-01-31T10:08:19.826Z"
   },
   {
    "duration": 185,
    "start_time": "2025-01-31T10:08:26.628Z"
   },
   {
    "duration": 182,
    "start_time": "2025-01-31T10:08:30.731Z"
   },
   {
    "duration": 185,
    "start_time": "2025-01-31T10:08:33.603Z"
   },
   {
    "duration": 271,
    "start_time": "2025-01-31T10:08:49.030Z"
   },
   {
    "duration": 347,
    "start_time": "2025-01-31T10:08:52.224Z"
   },
   {
    "duration": 372,
    "start_time": "2025-01-31T10:10:31.103Z"
   },
   {
    "duration": 11,
    "start_time": "2025-01-31T10:10:43.063Z"
   },
   {
    "duration": 342,
    "start_time": "2025-01-31T10:10:48.916Z"
   },
   {
    "duration": 323,
    "start_time": "2025-01-31T10:11:00.091Z"
   },
   {
    "duration": 360,
    "start_time": "2025-01-31T10:11:19.454Z"
   },
   {
    "duration": 333,
    "start_time": "2025-01-31T10:11:24.396Z"
   },
   {
    "duration": 322,
    "start_time": "2025-01-31T10:11:29.798Z"
   },
   {
    "duration": 415,
    "start_time": "2025-01-31T10:12:13.568Z"
   },
   {
    "duration": 313,
    "start_time": "2025-01-31T10:12:19.922Z"
   },
   {
    "duration": 340,
    "start_time": "2025-01-31T10:12:26.370Z"
   },
   {
    "duration": 325,
    "start_time": "2025-01-31T10:13:36.259Z"
   },
   {
    "duration": 304,
    "start_time": "2025-01-31T10:13:43.297Z"
   },
   {
    "duration": 400,
    "start_time": "2025-01-31T10:15:36.705Z"
   },
   {
    "duration": 311,
    "start_time": "2025-01-31T10:15:46.240Z"
   },
   {
    "duration": 7,
    "start_time": "2025-01-31T10:17:55.324Z"
   },
   {
    "duration": 251,
    "start_time": "2025-01-31T10:18:33.718Z"
   },
   {
    "duration": 262,
    "start_time": "2025-01-31T10:31:45.025Z"
   },
   {
    "duration": 285,
    "start_time": "2025-01-31T10:31:58.787Z"
   },
   {
    "duration": 272,
    "start_time": "2025-01-31T10:32:07.945Z"
   },
   {
    "duration": 22,
    "start_time": "2025-01-31T10:32:42.771Z"
   },
   {
    "duration": 21,
    "start_time": "2025-01-31T10:32:58.553Z"
   },
   {
    "duration": 230,
    "start_time": "2025-01-31T10:33:46.748Z"
   },
   {
    "duration": 248,
    "start_time": "2025-01-31T10:34:13.552Z"
   },
   {
    "duration": 544,
    "start_time": "2025-01-31T10:34:17.592Z"
   },
   {
    "duration": 500,
    "start_time": "2025-01-31T10:34:25.633Z"
   },
   {
    "duration": 461,
    "start_time": "2025-01-31T10:34:32.575Z"
   },
   {
    "duration": 459,
    "start_time": "2025-01-31T10:34:36.176Z"
   },
   {
    "duration": 503,
    "start_time": "2025-01-31T10:34:39.872Z"
   },
   {
    "duration": 503,
    "start_time": "2025-01-31T10:34:46.036Z"
   },
   {
    "duration": 605,
    "start_time": "2025-01-31T10:35:03.943Z"
   },
   {
    "duration": 4,
    "start_time": "2025-01-31T10:36:33.229Z"
   },
   {
    "duration": 14,
    "start_time": "2025-01-31T10:36:38.523Z"
   },
   {
    "duration": 39,
    "start_time": "2025-01-31T10:37:13.430Z"
   },
   {
    "duration": 11,
    "start_time": "2025-01-31T10:37:28.700Z"
   },
   {
    "duration": 8,
    "start_time": "2025-01-31T10:37:31.107Z"
   },
   {
    "duration": 5,
    "start_time": "2025-01-31T10:38:00.313Z"
   },
   {
    "duration": 3,
    "start_time": "2025-01-31T10:38:18.001Z"
   },
   {
    "duration": 6,
    "start_time": "2025-01-31T10:38:28.007Z"
   },
   {
    "duration": 3,
    "start_time": "2025-01-31T10:38:41.007Z"
   },
   {
    "duration": 2010042,
    "start_time": "2025-01-31T10:38:41.876Z"
   },
   {
    "duration": 0,
    "start_time": "2025-01-31T11:12:11.920Z"
   },
   {
    "duration": 4,
    "start_time": "2025-01-31T11:12:24.368Z"
   },
   {
    "duration": 1028,
    "start_time": "2025-01-31T11:12:52.016Z"
   },
   {
    "duration": 4,
    "start_time": "2025-01-31T11:12:58.242Z"
   },
   {
    "duration": 5,
    "start_time": "2025-01-31T11:13:32.761Z"
   },
   {
    "duration": 5,
    "start_time": "2025-01-31T11:13:54.586Z"
   },
   {
    "duration": 2,
    "start_time": "2025-01-31T11:13:55.726Z"
   },
   {
    "duration": 4770,
    "start_time": "2025-01-31T11:13:56.470Z"
   },
   {
    "duration": 4,
    "start_time": "2025-01-31T11:15:25.924Z"
   },
   {
    "duration": 5,
    "start_time": "2025-01-31T11:15:43.420Z"
   },
   {
    "duration": 2,
    "start_time": "2025-01-31T11:15:45.870Z"
   },
   {
    "duration": 91269,
    "start_time": "2025-01-31T16:17:40.612Z"
   },
   {
    "duration": 1672,
    "start_time": "2025-01-31T16:19:11.885Z"
   },
   {
    "duration": 0,
    "start_time": "2025-01-31T16:19:13.561Z"
   },
   {
    "duration": 0,
    "start_time": "2025-01-31T16:19:13.564Z"
   },
   {
    "duration": 0,
    "start_time": "2025-01-31T16:19:13.567Z"
   },
   {
    "duration": 0,
    "start_time": "2025-01-31T16:19:13.571Z"
   },
   {
    "duration": 0,
    "start_time": "2025-01-31T16:19:13.602Z"
   },
   {
    "duration": 0,
    "start_time": "2025-01-31T16:19:13.605Z"
   },
   {
    "duration": 0,
    "start_time": "2025-01-31T16:19:13.608Z"
   },
   {
    "duration": 0,
    "start_time": "2025-01-31T16:19:13.611Z"
   },
   {
    "duration": 0,
    "start_time": "2025-01-31T16:19:13.613Z"
   },
   {
    "duration": 0,
    "start_time": "2025-01-31T16:19:13.616Z"
   },
   {
    "duration": 0,
    "start_time": "2025-01-31T16:19:13.619Z"
   },
   {
    "duration": 0,
    "start_time": "2025-01-31T16:19:13.622Z"
   },
   {
    "duration": 0,
    "start_time": "2025-01-31T16:19:13.625Z"
   },
   {
    "duration": 0,
    "start_time": "2025-01-31T16:19:13.628Z"
   },
   {
    "duration": 0,
    "start_time": "2025-01-31T16:19:13.630Z"
   },
   {
    "duration": 0,
    "start_time": "2025-01-31T16:19:13.634Z"
   },
   {
    "duration": 0,
    "start_time": "2025-01-31T16:19:13.637Z"
   },
   {
    "duration": 0,
    "start_time": "2025-01-31T16:19:13.639Z"
   },
   {
    "duration": 0,
    "start_time": "2025-01-31T16:19:13.701Z"
   },
   {
    "duration": 0,
    "start_time": "2025-01-31T16:19:13.704Z"
   },
   {
    "duration": 0,
    "start_time": "2025-01-31T16:19:13.707Z"
   },
   {
    "duration": 1,
    "start_time": "2025-01-31T16:19:13.712Z"
   },
   {
    "duration": 0,
    "start_time": "2025-01-31T16:19:13.713Z"
   },
   {
    "duration": 0,
    "start_time": "2025-01-31T16:19:13.715Z"
   },
   {
    "duration": 0,
    "start_time": "2025-01-31T16:19:13.715Z"
   },
   {
    "duration": 0,
    "start_time": "2025-01-31T16:19:13.717Z"
   },
   {
    "duration": 0,
    "start_time": "2025-01-31T16:19:13.718Z"
   },
   {
    "duration": 0,
    "start_time": "2025-01-31T16:19:13.719Z"
   },
   {
    "duration": 0,
    "start_time": "2025-01-31T16:19:13.720Z"
   },
   {
    "duration": 0,
    "start_time": "2025-01-31T16:19:13.721Z"
   },
   {
    "duration": 0,
    "start_time": "2025-01-31T16:19:13.722Z"
   },
   {
    "duration": 0,
    "start_time": "2025-01-31T16:21:54.239Z"
   },
   {
    "duration": 0,
    "start_time": "2025-01-31T16:21:54.240Z"
   },
   {
    "duration": 0,
    "start_time": "2025-01-31T16:21:54.241Z"
   },
   {
    "duration": 0,
    "start_time": "2025-01-31T16:21:54.242Z"
   },
   {
    "duration": 0,
    "start_time": "2025-01-31T16:21:54.243Z"
   },
   {
    "duration": 0,
    "start_time": "2025-01-31T16:21:54.244Z"
   },
   {
    "duration": 0,
    "start_time": "2025-01-31T16:21:54.300Z"
   },
   {
    "duration": 0,
    "start_time": "2025-01-31T16:21:54.301Z"
   },
   {
    "duration": 0,
    "start_time": "2025-01-31T16:21:54.302Z"
   },
   {
    "duration": 0,
    "start_time": "2025-01-31T16:21:54.303Z"
   },
   {
    "duration": 0,
    "start_time": "2025-01-31T16:21:54.304Z"
   },
   {
    "duration": 0,
    "start_time": "2025-01-31T16:21:54.305Z"
   },
   {
    "duration": 0,
    "start_time": "2025-01-31T16:21:54.306Z"
   },
   {
    "duration": 0,
    "start_time": "2025-01-31T16:21:54.307Z"
   },
   {
    "duration": 0,
    "start_time": "2025-01-31T16:21:54.308Z"
   },
   {
    "duration": 0,
    "start_time": "2025-01-31T16:21:54.309Z"
   },
   {
    "duration": 0,
    "start_time": "2025-01-31T16:21:54.310Z"
   },
   {
    "duration": 0,
    "start_time": "2025-01-31T16:21:54.311Z"
   },
   {
    "duration": 0,
    "start_time": "2025-01-31T16:21:54.312Z"
   },
   {
    "duration": 0,
    "start_time": "2025-01-31T16:21:54.313Z"
   },
   {
    "duration": 0,
    "start_time": "2025-01-31T16:21:54.314Z"
   },
   {
    "duration": 0,
    "start_time": "2025-01-31T16:21:54.315Z"
   },
   {
    "duration": 0,
    "start_time": "2025-01-31T16:21:54.316Z"
   },
   {
    "duration": 0,
    "start_time": "2025-01-31T16:21:54.317Z"
   },
   {
    "duration": 0,
    "start_time": "2025-01-31T16:21:54.317Z"
   },
   {
    "duration": 0,
    "start_time": "2025-01-31T16:21:54.318Z"
   },
   {
    "duration": 1,
    "start_time": "2025-01-31T16:21:54.319Z"
   },
   {
    "duration": 0,
    "start_time": "2025-01-31T16:21:54.320Z"
   },
   {
    "duration": 0,
    "start_time": "2025-01-31T16:21:54.322Z"
   },
   {
    "duration": 0,
    "start_time": "2025-01-31T16:21:54.323Z"
   },
   {
    "duration": 0,
    "start_time": "2025-01-31T16:21:54.324Z"
   },
   {
    "duration": 0,
    "start_time": "2025-01-31T16:21:54.325Z"
   },
   {
    "duration": 0,
    "start_time": "2025-01-31T16:21:54.326Z"
   },
   {
    "duration": 2515,
    "start_time": "2025-01-31T16:24:20.529Z"
   },
   {
    "duration": 0,
    "start_time": "2025-01-31T16:25:49.711Z"
   },
   {
    "duration": 0,
    "start_time": "2025-01-31T16:25:49.712Z"
   },
   {
    "duration": 0,
    "start_time": "2025-01-31T16:25:49.713Z"
   },
   {
    "duration": 0,
    "start_time": "2025-01-31T16:25:49.714Z"
   },
   {
    "duration": 0,
    "start_time": "2025-01-31T16:25:49.715Z"
   },
   {
    "duration": 0,
    "start_time": "2025-01-31T16:25:49.716Z"
   },
   {
    "duration": 0,
    "start_time": "2025-01-31T16:25:49.717Z"
   },
   {
    "duration": 0,
    "start_time": "2025-01-31T16:25:49.718Z"
   },
   {
    "duration": 0,
    "start_time": "2025-01-31T16:25:49.719Z"
   },
   {
    "duration": 0,
    "start_time": "2025-01-31T16:25:49.720Z"
   },
   {
    "duration": 0,
    "start_time": "2025-01-31T16:25:49.721Z"
   },
   {
    "duration": 0,
    "start_time": "2025-01-31T16:25:49.722Z"
   },
   {
    "duration": 0,
    "start_time": "2025-01-31T16:25:49.724Z"
   },
   {
    "duration": 0,
    "start_time": "2025-01-31T16:25:49.725Z"
   },
   {
    "duration": 0,
    "start_time": "2025-01-31T16:25:49.726Z"
   },
   {
    "duration": 0,
    "start_time": "2025-01-31T16:25:49.727Z"
   },
   {
    "duration": 0,
    "start_time": "2025-01-31T16:25:49.728Z"
   },
   {
    "duration": 0,
    "start_time": "2025-01-31T16:25:49.729Z"
   },
   {
    "duration": 0,
    "start_time": "2025-01-31T16:25:49.730Z"
   },
   {
    "duration": 0,
    "start_time": "2025-01-31T16:25:49.731Z"
   },
   {
    "duration": 0,
    "start_time": "2025-01-31T16:25:49.732Z"
   },
   {
    "duration": 0,
    "start_time": "2025-01-31T16:25:49.733Z"
   },
   {
    "duration": 0,
    "start_time": "2025-01-31T16:25:49.734Z"
   },
   {
    "duration": 0,
    "start_time": "2025-01-31T16:25:49.735Z"
   },
   {
    "duration": 0,
    "start_time": "2025-01-31T16:25:49.800Z"
   },
   {
    "duration": 0,
    "start_time": "2025-01-31T16:25:49.801Z"
   },
   {
    "duration": 0,
    "start_time": "2025-01-31T16:25:49.802Z"
   },
   {
    "duration": 0,
    "start_time": "2025-01-31T16:25:49.803Z"
   },
   {
    "duration": 0,
    "start_time": "2025-01-31T16:25:49.804Z"
   },
   {
    "duration": 0,
    "start_time": "2025-01-31T16:25:49.805Z"
   },
   {
    "duration": 0,
    "start_time": "2025-01-31T16:25:49.806Z"
   },
   {
    "duration": 0,
    "start_time": "2025-01-31T16:25:49.807Z"
   },
   {
    "duration": 0,
    "start_time": "2025-01-31T16:25:49.808Z"
   },
   {
    "duration": 32017,
    "start_time": "2025-01-31T16:26:52.497Z"
   },
   {
    "duration": 7096,
    "start_time": "2025-01-31T16:27:24.517Z"
   },
   {
    "duration": 0,
    "start_time": "2025-01-31T16:27:31.616Z"
   },
   {
    "duration": 0,
    "start_time": "2025-01-31T16:27:31.617Z"
   },
   {
    "duration": 0,
    "start_time": "2025-01-31T16:27:31.618Z"
   },
   {
    "duration": 0,
    "start_time": "2025-01-31T16:27:31.619Z"
   },
   {
    "duration": 0,
    "start_time": "2025-01-31T16:27:31.620Z"
   },
   {
    "duration": 0,
    "start_time": "2025-01-31T16:27:31.621Z"
   },
   {
    "duration": 0,
    "start_time": "2025-01-31T16:27:31.622Z"
   },
   {
    "duration": 0,
    "start_time": "2025-01-31T16:27:31.623Z"
   },
   {
    "duration": 0,
    "start_time": "2025-01-31T16:27:31.624Z"
   },
   {
    "duration": 0,
    "start_time": "2025-01-31T16:27:31.625Z"
   },
   {
    "duration": 0,
    "start_time": "2025-01-31T16:27:31.626Z"
   },
   {
    "duration": 0,
    "start_time": "2025-01-31T16:27:31.627Z"
   },
   {
    "duration": 0,
    "start_time": "2025-01-31T16:27:31.628Z"
   },
   {
    "duration": 0,
    "start_time": "2025-01-31T16:27:31.629Z"
   },
   {
    "duration": 0,
    "start_time": "2025-01-31T16:27:31.630Z"
   },
   {
    "duration": 0,
    "start_time": "2025-01-31T16:27:31.631Z"
   },
   {
    "duration": 0,
    "start_time": "2025-01-31T16:27:31.632Z"
   },
   {
    "duration": 0,
    "start_time": "2025-01-31T16:27:31.633Z"
   },
   {
    "duration": 0,
    "start_time": "2025-01-31T16:27:31.634Z"
   },
   {
    "duration": 0,
    "start_time": "2025-01-31T16:27:31.635Z"
   },
   {
    "duration": 0,
    "start_time": "2025-01-31T16:27:31.636Z"
   },
   {
    "duration": 0,
    "start_time": "2025-01-31T16:27:31.637Z"
   },
   {
    "duration": 0,
    "start_time": "2025-01-31T16:27:31.638Z"
   },
   {
    "duration": 0,
    "start_time": "2025-01-31T16:27:31.639Z"
   },
   {
    "duration": 0,
    "start_time": "2025-01-31T16:27:31.641Z"
   },
   {
    "duration": 0,
    "start_time": "2025-01-31T16:27:31.642Z"
   },
   {
    "duration": 0,
    "start_time": "2025-01-31T16:27:31.643Z"
   },
   {
    "duration": 0,
    "start_time": "2025-01-31T16:27:31.644Z"
   },
   {
    "duration": 0,
    "start_time": "2025-01-31T16:27:31.645Z"
   },
   {
    "duration": 0,
    "start_time": "2025-01-31T16:27:31.646Z"
   },
   {
    "duration": 0,
    "start_time": "2025-01-31T16:27:31.699Z"
   },
   {
    "duration": 8771,
    "start_time": "2025-01-31T16:28:42.858Z"
   },
   {
    "duration": 2406,
    "start_time": "2025-01-31T16:28:51.638Z"
   },
   {
    "duration": 59,
    "start_time": "2025-01-31T16:28:54.046Z"
   },
   {
    "duration": 11,
    "start_time": "2025-01-31T16:28:54.106Z"
   },
   {
    "duration": 3,
    "start_time": "2025-01-31T16:28:54.119Z"
   },
   {
    "duration": 15,
    "start_time": "2025-01-31T16:28:54.123Z"
   },
   {
    "duration": 6,
    "start_time": "2025-01-31T16:28:54.139Z"
   },
   {
    "duration": 9,
    "start_time": "2025-01-31T16:28:54.146Z"
   },
   {
    "duration": 14,
    "start_time": "2025-01-31T16:28:54.156Z"
   },
   {
    "duration": 30,
    "start_time": "2025-01-31T16:28:54.171Z"
   },
   {
    "duration": 4,
    "start_time": "2025-01-31T16:28:54.203Z"
   },
   {
    "duration": 395,
    "start_time": "2025-01-31T16:28:54.209Z"
   },
   {
    "duration": 283,
    "start_time": "2025-01-31T16:28:54.606Z"
   },
   {
    "duration": 203,
    "start_time": "2025-01-31T16:28:54.899Z"
   },
   {
    "duration": 307,
    "start_time": "2025-01-31T16:28:55.104Z"
   },
   {
    "duration": 368,
    "start_time": "2025-01-31T16:28:55.413Z"
   },
   {
    "duration": 18,
    "start_time": "2025-01-31T16:28:55.782Z"
   },
   {
    "duration": 22,
    "start_time": "2025-01-31T16:28:55.802Z"
   },
   {
    "duration": 256,
    "start_time": "2025-01-31T16:28:55.825Z"
   },
   {
    "duration": 526,
    "start_time": "2025-01-31T16:28:56.084Z"
   },
   {
    "duration": 192,
    "start_time": "2025-01-31T16:28:56.612Z"
   },
   {
    "duration": 279,
    "start_time": "2025-01-31T16:28:56.805Z"
   },
   {
    "duration": 4,
    "start_time": "2025-01-31T16:28:57.086Z"
   },
   {
    "duration": 43,
    "start_time": "2025-01-31T16:28:57.091Z"
   },
   {
    "duration": 8,
    "start_time": "2025-01-31T16:28:57.135Z"
   },
   {
    "duration": 9,
    "start_time": "2025-01-31T16:28:57.144Z"
   },
   {
    "duration": 20,
    "start_time": "2025-01-31T16:28:57.155Z"
   },
   {
    "duration": 26,
    "start_time": "2025-01-31T16:28:57.176Z"
   },
   {
    "duration": 17836,
    "start_time": "2025-01-31T16:28:57.204Z"
   },
   {
    "duration": 4,
    "start_time": "2025-01-31T16:29:15.042Z"
   },
   {
    "duration": 1761,
    "start_time": "2025-01-31T16:29:15.048Z"
   },
   {
    "duration": 13,
    "start_time": "2025-01-31T16:29:16.810Z"
   },
   {
    "duration": 55,
    "start_time": "2025-01-31T16:29:16.825Z"
   },
   {
    "duration": 22681,
    "start_time": "2025-01-31T19:32:13.146Z"
   },
   {
    "duration": 3869,
    "start_time": "2025-01-31T19:32:35.829Z"
   },
   {
    "duration": 47,
    "start_time": "2025-01-31T19:32:39.700Z"
   },
   {
    "duration": 11,
    "start_time": "2025-01-31T19:32:39.749Z"
   },
   {
    "duration": 2,
    "start_time": "2025-01-31T19:32:39.762Z"
   },
   {
    "duration": 12,
    "start_time": "2025-01-31T19:32:39.766Z"
   },
   {
    "duration": 6,
    "start_time": "2025-01-31T19:32:39.779Z"
   },
   {
    "duration": 33,
    "start_time": "2025-01-31T19:32:39.786Z"
   },
   {
    "duration": 3,
    "start_time": "2025-01-31T19:32:39.821Z"
   },
   {
    "duration": 15,
    "start_time": "2025-01-31T19:32:39.826Z"
   },
   {
    "duration": 6,
    "start_time": "2025-01-31T19:32:39.842Z"
   },
   {
    "duration": 377,
    "start_time": "2025-01-31T19:32:39.849Z"
   },
   {
    "duration": 275,
    "start_time": "2025-01-31T19:32:40.228Z"
   },
   {
    "duration": 198,
    "start_time": "2025-01-31T19:32:40.505Z"
   },
   {
    "duration": 317,
    "start_time": "2025-01-31T19:32:40.704Z"
   },
   {
    "duration": 332,
    "start_time": "2025-01-31T19:32:41.023Z"
   },
   {
    "duration": 11,
    "start_time": "2025-01-31T19:32:41.357Z"
   },
   {
    "duration": 11,
    "start_time": "2025-01-31T19:32:41.370Z"
   },
   {
    "duration": 271,
    "start_time": "2025-01-31T19:32:41.382Z"
   },
   {
    "duration": 525,
    "start_time": "2025-01-31T19:32:41.655Z"
   },
   {
    "duration": 201,
    "start_time": "2025-01-31T19:32:42.182Z"
   },
   {
    "duration": 284,
    "start_time": "2025-01-31T19:32:42.385Z"
   },
   {
    "duration": 4,
    "start_time": "2025-01-31T19:32:42.672Z"
   },
   {
    "duration": 58,
    "start_time": "2025-01-31T19:32:42.678Z"
   },
   {
    "duration": 10,
    "start_time": "2025-01-31T19:32:42.738Z"
   },
   {
    "duration": 5,
    "start_time": "2025-01-31T19:32:42.750Z"
   },
   {
    "duration": 6,
    "start_time": "2025-01-31T19:32:42.757Z"
   }
  ],
  "kernelspec": {
   "display_name": "Python 3 (ipykernel)",
   "language": "python",
   "name": "python3"
  },
  "language_info": {
   "codemirror_mode": {
    "name": "ipython",
    "version": 3
   },
   "file_extension": ".py",
   "mimetype": "text/x-python",
   "name": "python",
   "nbconvert_exporter": "python",
   "pygments_lexer": "ipython3",
   "version": "3.12.5"
  },
  "toc": {
   "base_numbering": 1,
   "nav_menu": {},
   "number_sections": true,
   "sideBar": true,
   "skip_h1_title": true,
   "title_cell": "Содержание",
   "title_sidebar": "Contents",
   "toc_cell": true,
   "toc_position": {},
   "toc_section_display": true,
   "toc_window_display": true
  }
 },
 "nbformat": 4,
 "nbformat_minor": 4
}
