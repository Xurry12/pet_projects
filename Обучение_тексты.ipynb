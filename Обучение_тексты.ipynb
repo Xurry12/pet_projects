{
   "source": [
    "Интернет-магазин «Викишоп» запускает новый сервис. Теперь пользователи могут редактировать и дополнять описания товаров, как в вики-сообществах. То есть клиенты предлагают свои правки и комментируют изменения других. Магазину нужен инструмент, который будет искать токсичные комментарии и отправлять их на модерацию.\n",
    "\n",
    "Обучите модель классифицировать комментарии на позитивные и негативные. В вашем распоряжении набор данных с разметкой о токсичности правок.\n",
    "\n",
    "Постройте модель со значением метрики качества *F1* не меньше 0.75.\n",
    "\n",
    "**Инструкция по выполнению проекта**\n",
    "\n",
    "1. Загрузите и подготовьте данные.\n",
    "2. Обучите разные модели.\n",
    "3. Сделайте выводы.\n",
    "\n",
    "Для выполнения проекта применять *BERT* необязательно, но вы можете попробовать.\n",
    "\n",
    "**Описание данных**\n",
    "\n",
    "Данные находятся в файле `toxic_comments.csv`. Столбец *text* в нём содержит текст комментария, а *toxic* — целевой признак."
   ]
  },
  {
   "cell_type": "markdown",
   "metadata": {
    "id": "Yn8p_JM-mlsJ"
   },
   "source": [
    "## Подготовка"
   ]
  },
  {
   "cell_type": "code",
   "execution_count": 1,
   "metadata": {
    "colab": {
     "base_uri": "https://localhost:8080/"
    },
    "id": "tR3A2OJ_it_l",
    "outputId": "bde00b24-8345-41fa-a600-0f8d9d7779ac"
   },
   "outputs": [],
   "source": [
    "!pip install catboost -q"
   ]
  },
  {
   "cell_type": "code",
   "execution_count": 1,
   "metadata": {
    "id": "iexeqp7imvRE"
   },
   "outputs": [
    {
     "name": "stderr",
     "output_type": "stream",
     "text": [
      "[nltk_data] Downloading package averaged_perceptron_tagger_eng to\n",
      "[nltk_data]     /home/jovyan/nltk_data...\n",
      "[nltk_data]   Package averaged_perceptron_tagger_eng is already up-to-\n",
      "[nltk_data]       date!\n",
      "[nltk_data] Downloading package wordnet to /home/jovyan/nltk_data...\n",
      "[nltk_data]   Package wordnet is already up-to-date!\n",
      "[nltk_data] Downloading package punkt to /home/jovyan/nltk_data...\n",
      "[nltk_data]   Package punkt is already up-to-date!\n",
      "[nltk_data] Downloading package omw-1.4 to /home/jovyan/nltk_data...\n",
      "[nltk_data]   Package omw-1.4 is already up-to-date!\n",
      "[nltk_data] Downloading package averaged_perceptron_tagger to\n",
      "[nltk_data]     /home/jovyan/nltk_data...\n",
      "[nltk_data]   Package averaged_perceptron_tagger is already up-to-\n",
      "[nltk_data]       date!\n",
      "[nltk_data] Downloading package stopwords to /home/jovyan/nltk_data...\n",
      "[nltk_data]   Package stopwords is already up-to-date!\n"
     ]
    }
   ],
   "source": [
    "import matplotlib.pyplot as plt\n",
    "import numpy as np\n",
    "import pandas as pd\n",
    "import re\n",
    "\n",
    "\n",
    "import nltk\n",
    "nltk.download('averaged_perceptron_tagger_eng')\n",
    "nltk.download('wordnet')\n",
    "nltk.download('punkt')\n",
    "nltk.download('omw-1.4')\n",
    "nltk.download('averaged_perceptron_tagger')\n",
    "nltk.download('stopwords')\n",
    "\n",
    "from nltk import word_tokenize, sent_tokenize, FreqDist\n",
    "from nltk import WordNetLemmatizer\n",
    "from nltk.corpus import wordnet\n",
    "from nltk.corpus import stopwords as nltk_stopwords\n",
    "from sklearn.feature_extraction.text import TfidfVectorizer\n",
    "from sklearn.feature_extraction.text import CountVectorizer\n",
    "from sklearn.feature_extraction.text import TfidfTransformer\n",
    "from sklearn.pipeline import Pipeline\n",
    "\n",
    "from sklearn.model_selection import train_test_split, cross_val_score, RandomizedSearchCV\n",
    "from sklearn.tree import DecisionTreeClassifier\n",
    "from sklearn.model_selection import StratifiedKFold\n",
    "\n",
    "from sklearn.metrics import f1_score, precision_score, recall_score, accuracy_score, roc_auc_score, roc_curve\n",
    "from sklearn.utils import shuffle\n",
    "\n",
    "import warnings\n",
    "warnings.filterwarnings('ignore')\n",
    "\n",
    "pd.set_option('display.max_colwidth', None)"
   ]
  },
  {
   "cell_type": "code",
   "execution_count": 2,
   "metadata": {
    "id": "YSLm0tflzAiO"
   },
   "outputs": [],
   "source": [
    "from sklearn.ensemble import RandomForestClassifier\n",
    "from sklearn.linear_model import LogisticRegression\n",
    "from catboost import CatBoostClassifier\n",
    "from sklearn.linear_model import SGDClassifier"
   ]
  },
  {
   "cell_type": "markdown",
   "metadata": {},
   "source": [
    "<font color='blue'><b>Комментарий ревьюера: </b></font> ✔️\\\n",
    "<font color='green'> Хорошее оформление импортов! \\\n",
    "Импорты собраны в одной ячейке, разделены на функциональные группы пустой строкой.</font>"
   ]
  },
  {
   "cell_type": "markdown",
   "metadata": {
    "id": "1IetDjqQotp_"
   },
   "source": [
    "1-rqP6T9_URtCm-9ZkMgqI3--FPUxuHnS"
   ]
  },
  {
   "cell_type": "code",
   "execution_count": 4,
   "metadata": {
    "colab": {
     "base_uri": "https://localhost:8080/"
    },
    "id": "vRJCYXIunX7o",
    "outputId": "bbb90bcb-a53e-4d22-ff5c-df529b25cef1",
    "scrolled": true
   },
   "outputs": [
    {
     "name": "stdout",
     "output_type": "stream",
     "text": [
      "/bin/bash: gdown: command not found\r\n"
     ]
    }
   ],
   "source": [
    "!gdown 1-rqP6T9_URtCm-9ZkMgqI3--FPUxuHnS"
   ]
  },
  {
   "cell_type": "code",
   "execution_count": 3,
   "metadata": {
    "colab": {
     "base_uri": "https://localhost:8080/",
     "height": 206
    },
    "id": "YaM5hx5ko_um",
    "outputId": "468d53f6-9281-41cc-ef5c-14b31459c3f1"
   },
   "outputs": [
    {
     "data": {
      "text/html": [
       "<div>\n",
       "<style scoped>\n",
       "    .dataframe tbody tr th:only-of-type {\n",
       "        vertical-align: middle;\n",
       "    }\n",
       "\n",
       "    .dataframe tbody tr th {\n",
       "        vertical-align: top;\n",
       "    }\n",
       "\n",
       "    .dataframe thead th {\n",
       "        text-align: right;\n",
       "    }\n",
       "</style>\n",
       "<table border=\"1\" class=\"dataframe\">\n",
       "  <thead>\n",
       "    <tr style=\"text-align: right;\">\n",
       "      <th></th>\n",
       "      <th>Unnamed: 0</th>\n",
       "      <th>text</th>\n",
       "      <th>toxic</th>\n",
       "    </tr>\n",
       "  </thead>\n",
       "  <tbody>\n",
       "    <tr>\n",
       "      <th>0</th>\n",
       "      <td>0</td>\n",
       "      <td>Explanation\\nWhy the edits made under my username Hardcore Metallica Fan were reverted? They weren't vandalisms, just closure on some GAs after I voted at New York Dolls FAC. And please don't remove the template from the talk page since I'm retired now.89.205.38.27</td>\n",
       "      <td>0</td>\n",
       "    </tr>\n",
       "    <tr>\n",
       "      <th>1</th>\n",
       "      <td>1</td>\n",
       "      <td>D'aww! He matches this background colour I'm seemingly stuck with. Thanks.  (talk) 21:51, January 11, 2016 (UTC)</td>\n",
       "      <td>0</td>\n",
       "    </tr>\n",
       "    <tr>\n",
       "      <th>2</th>\n",
       "      <td>2</td>\n",
       "      <td>Hey man, I'm really not trying to edit war. It's just that this guy is constantly removing relevant information and talking to me through edits instead of my talk page. He seems to care more about the formatting than the actual info.</td>\n",
       "      <td>0</td>\n",
       "    </tr>\n",
       "    <tr>\n",
       "      <th>3</th>\n",
       "      <td>3</td>\n",
       "      <td>\"\\nMore\\nI can't make any real suggestions on improvement - I wondered if the section statistics should be later on, or a subsection of \"\"types of accidents\"\"  -I think the references may need tidying so that they are all in the exact same format ie date format etc. I can do that later on, if no-one else does first - if you have any preferences for formatting style on references or want to do it yourself please let me know.\\n\\nThere appears to be a backlog on articles for review so I guess there may be a delay until a reviewer turns up. It's listed in the relevant form eg Wikipedia:Good_article_nominations#Transport  \"</td>\n",
       "      <td>0</td>\n",
       "    </tr>\n",
       "    <tr>\n",
       "      <th>4</th>\n",
       "      <td>4</td>\n",
       "      <td>You, sir, are my hero. Any chance you remember what page that's on?</td>\n",
       "      <td>0</td>\n",
       "    </tr>\n",
       "  </tbody>\n",
       "</table>\n",
       "</div>"
      ],
      "text/plain": [
       "   Unnamed: 0  \\\n",
       "0           0   \n",
       "1           1   \n",
       "2           2   \n",
       "3           3   \n",
       "4           4   \n",
       "\n",
       "                                                                                                                                                                                                                                                                                                                                                                                                                                                                                                                                                                                                                                                 text  \\\n",
       "0                                                                                                                                                                                                                                                                                                                                                                           Explanation\\nWhy the edits made under my username Hardcore Metallica Fan were reverted? They weren't vandalisms, just closure on some GAs after I voted at New York Dolls FAC. And please don't remove the template from the talk page since I'm retired now.89.205.38.27   \n",
       "1                                                                                                                                                                                                                                                                                                                                                                                                                                                                                                                                    D'aww! He matches this background colour I'm seemingly stuck with. Thanks.  (talk) 21:51, January 11, 2016 (UTC)   \n",
       "2                                                                                                                                                                                                                                                                                                                                                                                                           Hey man, I'm really not trying to edit war. It's just that this guy is constantly removing relevant information and talking to me through edits instead of my talk page. He seems to care more about the formatting than the actual info.   \n",
       "3  \"\\nMore\\nI can't make any real suggestions on improvement - I wondered if the section statistics should be later on, or a subsection of \"\"types of accidents\"\"  -I think the references may need tidying so that they are all in the exact same format ie date format etc. I can do that later on, if no-one else does first - if you have any preferences for formatting style on references or want to do it yourself please let me know.\\n\\nThere appears to be a backlog on articles for review so I guess there may be a delay until a reviewer turns up. It's listed in the relevant form eg Wikipedia:Good_article_nominations#Transport  \"   \n",
       "4                                                                                                                                                                                                                                                                                                                                                                                                                                                                                                                                                                                 You, sir, are my hero. Any chance you remember what page that's on?   \n",
       "\n",
       "   toxic  \n",
       "0      0  \n",
       "1      0  \n",
       "2      0  \n",
       "3      0  \n",
       "4      0  "
      ]
     },
     "execution_count": 3,
     "metadata": {},
     "output_type": "execute_result"
    }
   ],
   "source": [
    "df = pd.read_csv('https://code.s3.yandex.net/datasets/toxic_comments.csv')\n",
    "df.head()"
   ]
  },
  {
   "cell_type": "code",
   "execution_count": 4,
   "metadata": {},
   "outputs": [],
   "source": [
    "df = df.drop(\"Unnamed: 0\", axis=1)"
   ]
  },
  {
   "cell_type": "markdown",
   "metadata": {},
   "source": [
    "<font color='blue'><b>Комментарий ревьюера: </b></font> ❌\\\n",
    "<font color='red'> ~~Ошибка исполнения кода. Данные должны загружаться у тех, кому ты демонстрируешь свою работу.~~</font>"
   ]
  },
  {
   "cell_type": "markdown",
   "metadata": {},
   "source": [
    "<font color='blue'><b>Комментарий Студента : </b></font> Честно говоря впервые такое произошло, извиняюь"
   ]
  },
  {
   "cell_type": "markdown",
   "metadata": {},
   "source": [
    "<span style=\"color: blue; font-weight: bold\">Комментарий ревьюера 2: </span> ✔️\\\n",
    "<span style=\"color: green\"> 👍</span>"
   ]
  },
  {
   "cell_type": "markdown",
   "metadata": {},
   "source": [
    "<font color='blue'><b>Комментарий ревьюера: </b></font> ⚠️\\\n",
    "<font color='darkorange'> Данные Практикума можно загружать напрямую с базы:\\\n",
    "`data = pd.read_csv('https://code.s3.yandex.net/datasets/toxic_comments.csv')`</font>"
   ]
  },
  {
   "cell_type": "markdown",
   "metadata": {},
   "source": [
    "<font color='blue'><b>Комментарий ревьюера : </b></font> ⚠️\\\n",
    "<font color='darkorange'> Важно показать всю фразу в поле `text` для анализа.</font>\n",
    "```python\n",
    "# Установка опции для отображения максимальной ширины столбца\n",
    "pd.set_option('display.max_colwidth', None)\n",
    "```"
   ]
  },
  {
   "cell_type": "code",
   "execution_count": 8,
   "metadata": {},
   "outputs": [],
   "source": [
    "lemmatizer = WordNetLemmatizer()\n",
    "\n",
    "def get_wordnet_pos(word):\n",
    "    tag = nltk.pos_tag([word])[0][1][0].upper()\n",
    "    tag_dict = {\"J\": wordnet.ADJ,\n",
    "                \"N\": wordnet.NOUN,\n",
    "                \"V\": wordnet.VERB,\n",
    "                \"R\": wordnet.ADV}\n",
    "    return tag_dict.get(tag, wordnet.NOUN)\n",
    "\n",
    "def clear_text(text):\n",
    "    reg = re.sub(r'[^a-zA-Z]', ' ', text)\n",
    "    clear = reg.split() \n",
    "    lemm = []\n",
    "    for i in range(len(clear)):\n",
    "        lemm.append(lemmatizer.lemmatize(clear[i], get_wordnet_pos(clear[i])))\n",
    "    return \" \".join(lemm)\n",
    "\n",
    "\n",
    "df['lemm_text'] = df['text'].apply(clear_text)\n",
    "\n",
    "toxic_comments = df.drop(['text'], axis=1)"
   ]
  },
  {
   "cell_type": "markdown",
   "metadata": {},
   "source": [
    "<font color='blue'><b>Комментарий ревьюера: </b></font> ✔️\\\n",
    "<font color='green'>Очистка сделана верно! Мы оставили только символы Латинского алфавита и привели к нижнему регистру!</font>"
   ]
  },
  {
   "cell_type": "markdown",
   "metadata": {},
   "source": [
    "<font color='blue'><b>Комментарий ревьюера: </b></font> ❌\\\n",
    "<font color='red'> ~~Обрати внимание, pymystem работает только для русского языка, и здесь бесполезна.~~</font>"
   ]
  },
  {
   "cell_type": "markdown",
   "metadata": {},
   "source": [
    "Признаюсь честно эту идею подглядел в интернете очень классная мысль реализовать это через словарь, уверен, то в будущем буду часто пользоваться такой реализацией"
   ]
  },
  {
   "cell_type": "markdown",
   "metadata": {},
   "source": [
    "<span style=\"color: blue; font-weight: bold\">Комментарий ревьюера : </span> ⚠️\\\n",
    "<span style=\"color: darkorange\"> Лемматизровать два раза немного излишне. 😏</span>"
   ]
  },
  {
   "cell_type": "code",
   "execution_count": 10,
   "metadata": {
    "id": "TipjiwzCsEXm"
   },
   "outputs": [
    {
     "data": {
      "text/html": [
       "<div>\n",
       "<style scoped>\n",
       "    .dataframe tbody tr th:only-of-type {\n",
       "        vertical-align: middle;\n",
       "    }\n",
       "\n",
       "    .dataframe tbody tr th {\n",
       "        vertical-align: top;\n",
       "    }\n",
       "\n",
       "    .dataframe thead th {\n",
       "        text-align: right;\n",
       "    }\n",
       "</style>\n",
       "<table border=\"1\" class=\"dataframe\">\n",
       "  <thead>\n",
       "    <tr style=\"text-align: right;\">\n",
       "      <th></th>\n",
       "      <th>text</th>\n",
       "      <th>toxic</th>\n",
       "      <th>lemm_text</th>\n",
       "    </tr>\n",
       "  </thead>\n",
       "  <tbody>\n",
       "    <tr>\n",
       "      <th>0</th>\n",
       "      <td>Explanation\\nWhy the edits made under my username Hardcore Metallica Fan were reverted? They weren't vandalisms, just closure on some GAs after I voted at New York Dolls FAC. And please don't remove the template from the talk page since I'm retired now.89.205.38.27</td>\n",
       "      <td>0</td>\n",
       "      <td>Explanation Why the edits make under my username Hardcore Metallica Fan be revert They weren t vandalism just closure on some GAs after I vote at New York Dolls FAC And please don t remove the template from the talk page since I m retire now</td>\n",
       "    </tr>\n",
       "    <tr>\n",
       "      <th>1</th>\n",
       "      <td>D'aww! He matches this background colour I'm seemingly stuck with. Thanks.  (talk) 21:51, January 11, 2016 (UTC)</td>\n",
       "      <td>0</td>\n",
       "      <td>D aww He match this background colour I m seemingly stuck with Thanks talk January UTC</td>\n",
       "    </tr>\n",
       "    <tr>\n",
       "      <th>2</th>\n",
       "      <td>Hey man, I'm really not trying to edit war. It's just that this guy is constantly removing relevant information and talking to me through edits instead of my talk page. He seems to care more about the formatting than the actual info.</td>\n",
       "      <td>0</td>\n",
       "      <td>Hey man I m really not try to edit war It s just that this guy be constantly remove relevant information and talk to me through edits instead of my talk page He seem to care more about the format than the actual info</td>\n",
       "    </tr>\n",
       "    <tr>\n",
       "      <th>3</th>\n",
       "      <td>\"\\nMore\\nI can't make any real suggestions on improvement - I wondered if the section statistics should be later on, or a subsection of \"\"types of accidents\"\"  -I think the references may need tidying so that they are all in the exact same format ie date format etc. I can do that later on, if no-one else does first - if you have any preferences for formatting style on references or want to do it yourself please let me know.\\n\\nThere appears to be a backlog on articles for review so I guess there may be a delay until a reviewer turns up. It's listed in the relevant form eg Wikipedia:Good_article_nominations#Transport  \"</td>\n",
       "      <td>0</td>\n",
       "      <td>More I can t make any real suggestion on improvement I wonder if the section statistic should be later on or a subsection of type of accident I think the reference may need tidy so that they be all in the exact same format ie date format etc I can do that later on if no one else do first if you have any preference for format style on reference or want to do it yourself please let me know There appear to be a backlog on article for review so I guess there may be a delay until a reviewer turn up It s list in the relevant form eg Wikipedia Good article nomination Transport</td>\n",
       "    </tr>\n",
       "    <tr>\n",
       "      <th>4</th>\n",
       "      <td>You, sir, are my hero. Any chance you remember what page that's on?</td>\n",
       "      <td>0</td>\n",
       "      <td>You sir be my hero Any chance you remember what page that s on</td>\n",
       "    </tr>\n",
       "  </tbody>\n",
       "</table>\n",
       "</div>"
      ],
      "text/plain": [
       "                                                                                                                                                                                                                                                                                                                                                                                                                                                                                                                                                                                                                                                 text  \\\n",
       "0                                                                                                                                                                                                                                                                                                                                                                           Explanation\\nWhy the edits made under my username Hardcore Metallica Fan were reverted? They weren't vandalisms, just closure on some GAs after I voted at New York Dolls FAC. And please don't remove the template from the talk page since I'm retired now.89.205.38.27   \n",
       "1                                                                                                                                                                                                                                                                                                                                                                                                                                                                                                                                    D'aww! He matches this background colour I'm seemingly stuck with. Thanks.  (talk) 21:51, January 11, 2016 (UTC)   \n",
       "2                                                                                                                                                                                                                                                                                                                                                                                                           Hey man, I'm really not trying to edit war. It's just that this guy is constantly removing relevant information and talking to me through edits instead of my talk page. He seems to care more about the formatting than the actual info.   \n",
       "3  \"\\nMore\\nI can't make any real suggestions on improvement - I wondered if the section statistics should be later on, or a subsection of \"\"types of accidents\"\"  -I think the references may need tidying so that they are all in the exact same format ie date format etc. I can do that later on, if no-one else does first - if you have any preferences for formatting style on references or want to do it yourself please let me know.\\n\\nThere appears to be a backlog on articles for review so I guess there may be a delay until a reviewer turns up. It's listed in the relevant form eg Wikipedia:Good_article_nominations#Transport  \"   \n",
       "4                                                                                                                                                                                                                                                                                                                                                                                                                                                                                                                                                                                 You, sir, are my hero. Any chance you remember what page that's on?   \n",
       "\n",
       "   toxic  \\\n",
       "0      0   \n",
       "1      0   \n",
       "2      0   \n",
       "3      0   \n",
       "4      0   \n",
       "\n",
       "                                                                                                                                                                                                                                                                                                                                                                                                                                                                                                                                                                                          lemm_text  \n",
       "0                                                                                                                                                                                                                                                                                                                                                 Explanation Why the edits make under my username Hardcore Metallica Fan be revert They weren t vandalism just closure on some GAs after I vote at New York Dolls FAC And please don t remove the template from the talk page since I m retire now  \n",
       "1                                                                                                                                                                                                                                                                                                                                                                                                                                                                                                            D aww He match this background colour I m seemingly stuck with Thanks talk January UTC  \n",
       "2                                                                                                                                                                                                                                                                                                                                                                          Hey man I m really not try to edit war It s just that this guy be constantly remove relevant information and talk to me through edits instead of my talk page He seem to care more about the format than the actual info  \n",
       "3  More I can t make any real suggestion on improvement I wonder if the section statistic should be later on or a subsection of type of accident I think the reference may need tidy so that they be all in the exact same format ie date format etc I can do that later on if no one else do first if you have any preference for format style on reference or want to do it yourself please let me know There appear to be a backlog on article for review so I guess there may be a delay until a reviewer turn up It s list in the relevant form eg Wikipedia Good article nomination Transport  \n",
       "4                                                                                                                                                                                                                                                                                                                                                                                                                                                                                                                                    You sir be my hero Any chance you remember what page that s on  "
      ]
     },
     "execution_count": 10,
     "metadata": {},
     "output_type": "execute_result"
    }
   ],
   "source": [
    "df.head()"
   ]
  },
  {
   "cell_type": "markdown",
   "metadata": {},
   "source": [
    "<font color='blue'><b>Комментарий ревьюера 2: </b></font> ✔️\\\n",
    "<font color='green'> Отлично! Теперь видно, что слова в начальных формах.</font>"
   ]
  },
  {
   "cell_type": "code",
   "execution_count": 6,
   "metadata": {
    "colab": {
     "base_uri": "https://localhost:8080/",
     "height": 447
    },
    "id": "Ex6g-8GLOEzT",
    "outputId": "385530ef-f7a2-481e-8a08-f57d829e4954"
   },
   "outputs": [
    {
     "data": {
      "image/png": "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\n",
      "text/plain": [
       "<Figure size 432x288 with 1 Axes>"
      ]
     },
     "metadata": {
      "needs_background": "light"
     },
     "output_type": "display_data"
    }
   ],
   "source": [
    "df['toxic'].value_counts().plot.bar();\n",
    "plt.title('Распредление токсичных сообщений')\n",
    "plt.xlabel(None)\n",
    "plt.ylabel(\"Количество\")\n",
    "plt.show();"
   ]
  },
  {
   "cell_type": "markdown",
   "metadata": {},
   "source": [
    "<font color='blue'><b>Комментарий ревьюера: </b></font> ✔️\\\n",
    "<font color='green'> Мы обнаружили серьёзный дисбаланс при исследовании данных. Как дополнительные материалы, рекомендую статью <a href='https://dyakonov.org/2021/05/27/imbalance/'>Дисбаланс классов</a>, очень классная, как и весь блог Дьяконова. Ещё такой <a href='https://github.com/Dyakonov/ml_hacks/blob/master/book_disbalance_public_v1.ipynb'>ноутбук</a> есть.</font>"
   ]
  },
  {
   "cell_type": "markdown",
   "metadata": {
    "id": "a_lJJV-WPj4K"
   },
   "source": [
    "Заметен дисбаланс классов, токсичных сообщений в разы меньше, чем коммментариев без \"токсичности\""
   ]
  },
  {
   "cell_type": "code",
   "execution_count": 7,
   "metadata": {
    "colab": {
     "base_uri": "https://localhost:8080/"
    },
    "id": "vDneexpXOuxU",
    "outputId": "d9270dcf-043a-47a5-9993-c766122c624c"
   },
   "outputs": [
    {
     "name": "stderr",
     "output_type": "stream",
     "text": [
      "[nltk_data] Downloading package stopwords to /home/jovyan/nltk_data...\n",
      "[nltk_data]   Package stopwords is already up-to-date!\n"
     ]
    }
   ],
   "source": [
    "nltk.download('stopwords')\n",
    "stopwords = list(set(nltk_stopwords.words('english')))"
   ]
  },
  {
   "cell_type": "code",
   "execution_count": 8,
   "metadata": {
    "id": "PXbESH9LQqcD"
   },
   "outputs": [],
   "source": [
    "X = df.drop(['toxic'], axis=1)\n",
    "y = df['toxic']\n",
    "\n",
    "\n",
    "X_train, X_valid, y_train, y_valid = train_test_split(X, y, test_size=0.4, random_state=42, stratify=y)\n",
    "\n",
    "X_valid, X_test, y_valid, y_test = train_test_split(X_valid, y_valid, test_size=0.5, random_state=42, stratify=y_valid)"
   ]
  },
  {
   "cell_type": "markdown",
   "metadata": {},
   "source": [
    "<font color='blue'><b>Комментарий ревьюера : </b></font> ✔️\\\n",
    "<font color='green'> Здорово, что у нас есть три выборки!</font>"
   ]
  },
  {
   "cell_type": "code",
   "execution_count": 9,
   "metadata": {},
   "outputs": [],
   "source": [
    "pipeline_lr = Pipeline(\n",
    "    [\n",
    "        ('vect', CountVectorizer(stop_words=stopwords)),\n",
    "      ('tfidf', TfidfTransformer()),\n",
    "        (\"lr\", LogisticRegression()),\n",
    "    ]\n",
    ")"
   ]
  },
  {
   "cell_type": "markdown",
   "metadata": {},
   "source": [
    "<font color='blue'><b>Комментарий ревьюера 2: </b></font> ✔️\\\n",
    "<font color='green'>Классно, что используешь pipeline. Так можно избежать утечек даже при кроссвалидации моделей. \\\n",
    "С Pipeline можно подбирать гиперпараметры не только к классификатору, но и к предобработчикам.</font>"
   ]
  },
  {
   "cell_type": "markdown",
   "metadata": {},
   "source": [
    "<span style=\"color: blue; font-weight: bold\">Комментарий ревьюера 2: </span> ⚠️\\\n",
    "<span style=\"color: darkorange\"> Но применять два векторизатора последовательно, то же черезмерно.</span>"
   ]
  },
  {
   "cell_type": "markdown",
   "metadata": {},
   "source": [
    "<font color='blue'><b>Комментарий ревьюера: </b></font> ✔️\\\n",
    "<font color='green'> Классно, что векторизатор был обучен только на тренировочной части данных!</font>"
   ]
  },
  {
   "cell_type": "markdown",
   "metadata": {},
   "source": [
    "<font color='blue'><b>Комментарий ревьюера: </b></font> ⚠️\\\n",
    "<font color='darkorange'> Можно объединить Векторизатор с моделью через Pipeline. Так можно избежать утечек даже при кроссвалидации моделей.<br> Материалы по Pipeline:<br> [О Пайплайн](https://dzen.ru/a/YBBkKJBsUV9MPret)<br>\n",
    "\n",
    "[Примеры работы с текстами](https://scikit-learn.org/stable/auto_examples/model_selection/plot_grid_search_text_feature_extraction.html)</font>"
   ]
  },
  {
   "cell_type": "markdown",
   "metadata": {},
   "source": [
    "<font color='blue'><b>Комментарий ревьюера: </b></font> ❌\\\n",
    "<font color='red'> ~~Метод .astype('U') кодирует текст в максимально широкий Юникод U32, содержащий все возможные символы и эмоджи. Такое форматирование здесь не имеет смысла, так как после очистки останется только латинница (тексты, в основном, и так уже в Юникоде \"utf-8\"). Ни одна из используемых в проекте моделей не требует кодировки в Юникод. Можно обойтись и без него.~~</font>"
   ]
  },
  {
   "cell_type": "markdown",
   "metadata": {},
   "source": [
    "<font color='blue'><b>Комментарий Студента : </b></font> поправил"
   ]
  },
  {
   "cell_type": "markdown",
   "metadata": {},
   "source": [
    "<font color='blue'><b>Комментарий ревьюера 2: </b></font> ✔️\\\n",
    "<font color='green'>Класс! Убрали тяжёлый Юникод.</font>"
   ]
  },
  {
   "cell_type": "markdown",
   "metadata": {
    "id": "dkDa1_2Gy2DE"
   },
   "source": [
    "## Обучение"
   ]
  },
  {
   "cell_type": "markdown",
   "metadata": {
    "id": "Rb0i81w6y26E"
   },
   "source": [
    "### Логистическая регрессия без параметров"
   ]
  },
  {
   "cell_type": "code",
   "execution_count": 15,
   "metadata": {
    "id": "X3D4xLG1TnPb"
   },
   "outputs": [],
   "source": [
    "model_lr = LogisticRegression()\n",
    "\n",
    "model_lr.fit(X_train, y_train)\n",
    "\n",
    "y_pred = model_lr.predict(X_valid)"
   ]
  },
  {
   "cell_type": "code",
   "execution_count": 16,
   "metadata": {
    "colab": {
     "base_uri": "https://localhost:8080/"
    },
    "id": "TwPUcNwN69I7",
    "outputId": "58037c9e-b30a-47ce-892a-ce1f5fbb0f27"
   },
   "outputs": [
    {
     "name": "stdout",
     "output_type": "stream",
     "text": [
      "|---------------------------------------------------------------|\n",
      " f1 score на Валидациионной выборке 0.7228778073848496\n",
      "|---------------------------------------------------------------|\n",
      " precision score на Валидациионной выборке 0.9414972731779871\n",
      "|---------------------------------------------------------------|\n",
      " recall score на Валидациионной выборке 0.5866543095458758\n",
      "|---------------------------------------------------------------|\n",
      " accuracy score на Валидациионной выборке 0.9542971937974764\n",
      "|---------------------------------------------------------------|\n",
      " roc auc score на Валидациионной выборке 0.7912657313425896\n",
      "|---------------------------------------------------------------|\n"
     ]
    }
   ],
   "source": [
    "print('|---------------------------------------------------------------|')\n",
    "print(\" f1 score на Валидациионной выборке\",f1_score(y_valid, y_pred))\n",
    "print('|---------------------------------------------------------------|')\n",
    "print(\" precision score на Валидациионной выборке\",precision_score(y_valid, y_pred))\n",
    "print('|---------------------------------------------------------------|')\n",
    "print(\" recall score на Валидациионной выборке\",recall_score(y_valid, y_pred))\n",
    "print('|---------------------------------------------------------------|')\n",
    "print(\" accuracy score на Валидациионной выборке\",accuracy_score(y_valid, y_pred))\n",
    "print('|---------------------------------------------------------------|')\n",
    "print(\" roc auc score на Валидациионной выборке\",roc_auc_score(y_valid, y_pred))\n",
    "print('|---------------------------------------------------------------|')"
   ]
  },
  {
   "cell_type": "markdown",
   "metadata": {
    "id": "YImPWN6h8gQ0"
   },
   "source": [
    "### Логистическая регрессия с параметрами и кросс-валидацией"
   ]
  },
  {
   "cell_type": "code",
   "execution_count": 36,
   "metadata": {
    "id": "VI-n_xsV8Ofz"
   },
   "outputs": [],
   "source": [
    "lr_params = {\n",
    "    'vect__max_df': (0.5, 0.75, 1.0),\n",
    "    'vect__max_features': (None, 5000, 10000),\n",
    "    'vect__ngram_range': ((1, 1), (1, 2)), \n",
    "    'tfidf__use_idf': (True, False),\n",
    "    'tfidf__norm': ('l1', 'l2'),\n",
    "    'lr__C': [0.001, 0.01, 0.1, 1, 10, 100],\n",
    "    'lr__solver':[ 'lbfgs', 'liblinear']\n",
    "}"
   ]
  },
  {
   "cell_type": "markdown",
   "metadata": {
    "id": "rjN2gPK08yMX"
   },
   "source": [
    "С одной стороны,в данной задаче, на мой взгляд, важнее минимизировать ошибку второго рода, то есть нам важнее поймать все токсичные сообщения и воспринять нетоксичное сообщение не таким.\n",
    "\n",
    "С другой стороны может быть очень неприятно если мой комментарий удалят просто из-за ошибки, поэтому скорить стоит f1"
   ]
  },
  {
   "cell_type": "code",
   "execution_count": 52,
   "metadata": {
    "colab": {
     "base_uri": "https://localhost:8080/",
     "height": 164
    },
    "id": "S5RZOFA88fhr",
    "outputId": "7013fa45-f8a7-4cd4-b6a4-5fb9e51fef6c"
   },
   "outputs": [
    {
     "data": {
      "text/html": [
       "<style>#sk-container-id-6 {\n",
       "  /* Definition of color scheme common for light and dark mode */\n",
       "  --sklearn-color-text: #000;\n",
       "  --sklearn-color-text-muted: #666;\n",
       "  --sklearn-color-line: gray;\n",
       "  /* Definition of color scheme for unfitted estimators */\n",
       "  --sklearn-color-unfitted-level-0: #fff5e6;\n",
       "  --sklearn-color-unfitted-level-1: #f6e4d2;\n",
       "  --sklearn-color-unfitted-level-2: #ffe0b3;\n",
       "  --sklearn-color-unfitted-level-3: chocolate;\n",
       "  /* Definition of color scheme for fitted estimators */\n",
       "  --sklearn-color-fitted-level-0: #f0f8ff;\n",
       "  --sklearn-color-fitted-level-1: #d4ebff;\n",
       "  --sklearn-color-fitted-level-2: #b3dbfd;\n",
       "  --sklearn-color-fitted-level-3: cornflowerblue;\n",
       "\n",
       "  /* Specific color for light theme */\n",
       "  --sklearn-color-text-on-default-background: var(--sg-text-color, var(--theme-code-foreground, var(--jp-content-font-color1, black)));\n",
       "  --sklearn-color-background: var(--sg-background-color, var(--theme-background, var(--jp-layout-color0, white)));\n",
       "  --sklearn-color-border-box: var(--sg-text-color, var(--theme-code-foreground, var(--jp-content-font-color1, black)));\n",
       "  --sklearn-color-icon: #696969;\n",
       "\n",
       "  @media (prefers-color-scheme: dark) {\n",
       "    /* Redefinition of color scheme for dark theme */\n",
       "    --sklearn-color-text-on-default-background: var(--sg-text-color, var(--theme-code-foreground, var(--jp-content-font-color1, white)));\n",
       "    --sklearn-color-background: var(--sg-background-color, var(--theme-background, var(--jp-layout-color0, #111)));\n",
       "    --sklearn-color-border-box: var(--sg-text-color, var(--theme-code-foreground, var(--jp-content-font-color1, white)));\n",
       "    --sklearn-color-icon: #878787;\n",
       "  }\n",
       "}\n",
       "\n",
       "#sk-container-id-6 {\n",
       "  color: var(--sklearn-color-text);\n",
       "}\n",
       "\n",
       "#sk-container-id-6 pre {\n",
       "  padding: 0;\n",
       "}\n",
       "\n",
       "#sk-container-id-6 input.sk-hidden--visually {\n",
       "  border: 0;\n",
       "  clip: rect(1px 1px 1px 1px);\n",
       "  clip: rect(1px, 1px, 1px, 1px);\n",
       "  height: 1px;\n",
       "  margin: -1px;\n",
       "  overflow: hidden;\n",
       "  padding: 0;\n",
       "  position: absolute;\n",
       "  width: 1px;\n",
       "}\n",
       "\n",
       "#sk-container-id-6 div.sk-dashed-wrapped {\n",
       "  border: 1px dashed var(--sklearn-color-line);\n",
       "  margin: 0 0.4em 0.5em 0.4em;\n",
       "  box-sizing: border-box;\n",
       "  padding-bottom: 0.4em;\n",
       "  background-color: var(--sklearn-color-background);\n",
       "}\n",
       "\n",
       "#sk-container-id-6 div.sk-container {\n",
       "  /* jupyter's `normalize.less` sets `[hidden] { display: none; }`\n",
       "     but bootstrap.min.css set `[hidden] { display: none !important; }`\n",
       "     so we also need the `!important` here to be able to override the\n",
       "     default hidden behavior on the sphinx rendered scikit-learn.org.\n",
       "     See: https://github.com/scikit-learn/scikit-learn/issues/21755 */\n",
       "  display: inline-block !important;\n",
       "  position: relative;\n",
       "}\n",
       "\n",
       "#sk-container-id-6 div.sk-text-repr-fallback {\n",
       "  display: none;\n",
       "}\n",
       "\n",
       "div.sk-parallel-item,\n",
       "div.sk-serial,\n",
       "div.sk-item {\n",
       "  /* draw centered vertical line to link estimators */\n",
       "  background-image: linear-gradient(var(--sklearn-color-text-on-default-background), var(--sklearn-color-text-on-default-background));\n",
       "  background-size: 2px 100%;\n",
       "  background-repeat: no-repeat;\n",
       "  background-position: center center;\n",
       "}\n",
       "\n",
       "/* Parallel-specific style estimator block */\n",
       "\n",
       "#sk-container-id-6 div.sk-parallel-item::after {\n",
       "  content: \"\";\n",
       "  width: 100%;\n",
       "  border-bottom: 2px solid var(--sklearn-color-text-on-default-background);\n",
       "  flex-grow: 1;\n",
       "}\n",
       "\n",
       "#sk-container-id-6 div.sk-parallel {\n",
       "  display: flex;\n",
       "  align-items: stretch;\n",
       "  justify-content: center;\n",
       "  background-color: var(--sklearn-color-background);\n",
       "  position: relative;\n",
       "}\n",
       "\n",
       "#sk-container-id-6 div.sk-parallel-item {\n",
       "  display: flex;\n",
       "  flex-direction: column;\n",
       "}\n",
       "\n",
       "#sk-container-id-6 div.sk-parallel-item:first-child::after {\n",
       "  align-self: flex-end;\n",
       "  width: 50%;\n",
       "}\n",
       "\n",
       "#sk-container-id-6 div.sk-parallel-item:last-child::after {\n",
       "  align-self: flex-start;\n",
       "  width: 50%;\n",
       "}\n",
       "\n",
       "#sk-container-id-6 div.sk-parallel-item:only-child::after {\n",
       "  width: 0;\n",
       "}\n",
       "\n",
       "/* Serial-specific style estimator block */\n",
       "\n",
       "#sk-container-id-6 div.sk-serial {\n",
       "  display: flex;\n",
       "  flex-direction: column;\n",
       "  align-items: center;\n",
       "  background-color: var(--sklearn-color-background);\n",
       "  padding-right: 1em;\n",
       "  padding-left: 1em;\n",
       "}\n",
       "\n",
       "\n",
       "/* Toggleable style: style used for estimator/Pipeline/ColumnTransformer box that is\n",
       "clickable and can be expanded/collapsed.\n",
       "- Pipeline and ColumnTransformer use this feature and define the default style\n",
       "- Estimators will overwrite some part of the style using the `sk-estimator` class\n",
       "*/\n",
       "\n",
       "/* Pipeline and ColumnTransformer style (default) */\n",
       "\n",
       "#sk-container-id-6 div.sk-toggleable {\n",
       "  /* Default theme specific background. It is overwritten whether we have a\n",
       "  specific estimator or a Pipeline/ColumnTransformer */\n",
       "  background-color: var(--sklearn-color-background);\n",
       "}\n",
       "\n",
       "/* Toggleable label */\n",
       "#sk-container-id-6 label.sk-toggleable__label {\n",
       "  cursor: pointer;\n",
       "  display: flex;\n",
       "  width: 100%;\n",
       "  margin-bottom: 0;\n",
       "  padding: 0.5em;\n",
       "  box-sizing: border-box;\n",
       "  text-align: center;\n",
       "  align-items: start;\n",
       "  justify-content: space-between;\n",
       "  gap: 0.5em;\n",
       "}\n",
       "\n",
       "#sk-container-id-6 label.sk-toggleable__label .caption {\n",
       "  font-size: 0.6rem;\n",
       "  font-weight: lighter;\n",
       "  color: var(--sklearn-color-text-muted);\n",
       "}\n",
       "\n",
       "#sk-container-id-6 label.sk-toggleable__label-arrow:before {\n",
       "  /* Arrow on the left of the label */\n",
       "  content: \"▸\";\n",
       "  float: left;\n",
       "  margin-right: 0.25em;\n",
       "  color: var(--sklearn-color-icon);\n",
       "}\n",
       "\n",
       "#sk-container-id-6 label.sk-toggleable__label-arrow:hover:before {\n",
       "  color: var(--sklearn-color-text);\n",
       "}\n",
       "\n",
       "/* Toggleable content - dropdown */\n",
       "\n",
       "#sk-container-id-6 div.sk-toggleable__content {\n",
       "  max-height: 0;\n",
       "  max-width: 0;\n",
       "  overflow: hidden;\n",
       "  text-align: left;\n",
       "  /* unfitted */\n",
       "  background-color: var(--sklearn-color-unfitted-level-0);\n",
       "}\n",
       "\n",
       "#sk-container-id-6 div.sk-toggleable__content.fitted {\n",
       "  /* fitted */\n",
       "  background-color: var(--sklearn-color-fitted-level-0);\n",
       "}\n",
       "\n",
       "#sk-container-id-6 div.sk-toggleable__content pre {\n",
       "  margin: 0.2em;\n",
       "  border-radius: 0.25em;\n",
       "  color: var(--sklearn-color-text);\n",
       "  /* unfitted */\n",
       "  background-color: var(--sklearn-color-unfitted-level-0);\n",
       "}\n",
       "\n",
       "#sk-container-id-6 div.sk-toggleable__content.fitted pre {\n",
       "  /* unfitted */\n",
       "  background-color: var(--sklearn-color-fitted-level-0);\n",
       "}\n",
       "\n",
       "#sk-container-id-6 input.sk-toggleable__control:checked~div.sk-toggleable__content {\n",
       "  /* Expand drop-down */\n",
       "  max-height: 200px;\n",
       "  max-width: 100%;\n",
       "  overflow: auto;\n",
       "}\n",
       "\n",
       "#sk-container-id-6 input.sk-toggleable__control:checked~label.sk-toggleable__label-arrow:before {\n",
       "  content: \"▾\";\n",
       "}\n",
       "\n",
       "/* Pipeline/ColumnTransformer-specific style */\n",
       "\n",
       "#sk-container-id-6 div.sk-label input.sk-toggleable__control:checked~label.sk-toggleable__label {\n",
       "  color: var(--sklearn-color-text);\n",
       "  background-color: var(--sklearn-color-unfitted-level-2);\n",
       "}\n",
       "\n",
       "#sk-container-id-6 div.sk-label.fitted input.sk-toggleable__control:checked~label.sk-toggleable__label {\n",
       "  background-color: var(--sklearn-color-fitted-level-2);\n",
       "}\n",
       "\n",
       "/* Estimator-specific style */\n",
       "\n",
       "/* Colorize estimator box */\n",
       "#sk-container-id-6 div.sk-estimator input.sk-toggleable__control:checked~label.sk-toggleable__label {\n",
       "  /* unfitted */\n",
       "  background-color: var(--sklearn-color-unfitted-level-2);\n",
       "}\n",
       "\n",
       "#sk-container-id-6 div.sk-estimator.fitted input.sk-toggleable__control:checked~label.sk-toggleable__label {\n",
       "  /* fitted */\n",
       "  background-color: var(--sklearn-color-fitted-level-2);\n",
       "}\n",
       "\n",
       "#sk-container-id-6 div.sk-label label.sk-toggleable__label,\n",
       "#sk-container-id-6 div.sk-label label {\n",
       "  /* The background is the default theme color */\n",
       "  color: var(--sklearn-color-text-on-default-background);\n",
       "}\n",
       "\n",
       "/* On hover, darken the color of the background */\n",
       "#sk-container-id-6 div.sk-label:hover label.sk-toggleable__label {\n",
       "  color: var(--sklearn-color-text);\n",
       "  background-color: var(--sklearn-color-unfitted-level-2);\n",
       "}\n",
       "\n",
       "/* Label box, darken color on hover, fitted */\n",
       "#sk-container-id-6 div.sk-label.fitted:hover label.sk-toggleable__label.fitted {\n",
       "  color: var(--sklearn-color-text);\n",
       "  background-color: var(--sklearn-color-fitted-level-2);\n",
       "}\n",
       "\n",
       "/* Estimator label */\n",
       "\n",
       "#sk-container-id-6 div.sk-label label {\n",
       "  font-family: monospace;\n",
       "  font-weight: bold;\n",
       "  display: inline-block;\n",
       "  line-height: 1.2em;\n",
       "}\n",
       "\n",
       "#sk-container-id-6 div.sk-label-container {\n",
       "  text-align: center;\n",
       "}\n",
       "\n",
       "/* Estimator-specific */\n",
       "#sk-container-id-6 div.sk-estimator {\n",
       "  font-family: monospace;\n",
       "  border: 1px dotted var(--sklearn-color-border-box);\n",
       "  border-radius: 0.25em;\n",
       "  box-sizing: border-box;\n",
       "  margin-bottom: 0.5em;\n",
       "  /* unfitted */\n",
       "  background-color: var(--sklearn-color-unfitted-level-0);\n",
       "}\n",
       "\n",
       "#sk-container-id-6 div.sk-estimator.fitted {\n",
       "  /* fitted */\n",
       "  background-color: var(--sklearn-color-fitted-level-0);\n",
       "}\n",
       "\n",
       "/* on hover */\n",
       "#sk-container-id-6 div.sk-estimator:hover {\n",
       "  /* unfitted */\n",
       "  background-color: var(--sklearn-color-unfitted-level-2);\n",
       "}\n",
       "\n",
       "#sk-container-id-6 div.sk-estimator.fitted:hover {\n",
       "  /* fitted */\n",
       "  background-color: var(--sklearn-color-fitted-level-2);\n",
       "}\n",
       "\n",
       "/* Specification for estimator info (e.g. \"i\" and \"?\") */\n",
       "\n",
       "/* Common style for \"i\" and \"?\" */\n",
       "\n",
       ".sk-estimator-doc-link,\n",
       "a:link.sk-estimator-doc-link,\n",
       "a:visited.sk-estimator-doc-link {\n",
       "  float: right;\n",
       "  font-size: smaller;\n",
       "  line-height: 1em;\n",
       "  font-family: monospace;\n",
       "  background-color: var(--sklearn-color-background);\n",
       "  border-radius: 1em;\n",
       "  height: 1em;\n",
       "  width: 1em;\n",
       "  text-decoration: none !important;\n",
       "  margin-left: 0.5em;\n",
       "  text-align: center;\n",
       "  /* unfitted */\n",
       "  border: var(--sklearn-color-unfitted-level-1) 1pt solid;\n",
       "  color: var(--sklearn-color-unfitted-level-1);\n",
       "}\n",
       "\n",
       ".sk-estimator-doc-link.fitted,\n",
       "a:link.sk-estimator-doc-link.fitted,\n",
       "a:visited.sk-estimator-doc-link.fitted {\n",
       "  /* fitted */\n",
       "  border: var(--sklearn-color-fitted-level-1) 1pt solid;\n",
       "  color: var(--sklearn-color-fitted-level-1);\n",
       "}\n",
       "\n",
       "/* On hover */\n",
       "div.sk-estimator:hover .sk-estimator-doc-link:hover,\n",
       ".sk-estimator-doc-link:hover,\n",
       "div.sk-label-container:hover .sk-estimator-doc-link:hover,\n",
       ".sk-estimator-doc-link:hover {\n",
       "  /* unfitted */\n",
       "  background-color: var(--sklearn-color-unfitted-level-3);\n",
       "  color: var(--sklearn-color-background);\n",
       "  text-decoration: none;\n",
       "}\n",
       "\n",
       "div.sk-estimator.fitted:hover .sk-estimator-doc-link.fitted:hover,\n",
       ".sk-estimator-doc-link.fitted:hover,\n",
       "div.sk-label-container:hover .sk-estimator-doc-link.fitted:hover,\n",
       ".sk-estimator-doc-link.fitted:hover {\n",
       "  /* fitted */\n",
       "  background-color: var(--sklearn-color-fitted-level-3);\n",
       "  color: var(--sklearn-color-background);\n",
       "  text-decoration: none;\n",
       "}\n",
       "\n",
       "/* Span, style for the box shown on hovering the info icon */\n",
       ".sk-estimator-doc-link span {\n",
       "  display: none;\n",
       "  z-index: 9999;\n",
       "  position: relative;\n",
       "  font-weight: normal;\n",
       "  right: .2ex;\n",
       "  padding: .5ex;\n",
       "  margin: .5ex;\n",
       "  width: min-content;\n",
       "  min-width: 20ex;\n",
       "  max-width: 50ex;\n",
       "  color: var(--sklearn-color-text);\n",
       "  box-shadow: 2pt 2pt 4pt #999;\n",
       "  /* unfitted */\n",
       "  background: var(--sklearn-color-unfitted-level-0);\n",
       "  border: .5pt solid var(--sklearn-color-unfitted-level-3);\n",
       "}\n",
       "\n",
       ".sk-estimator-doc-link.fitted span {\n",
       "  /* fitted */\n",
       "  background: var(--sklearn-color-fitted-level-0);\n",
       "  border: var(--sklearn-color-fitted-level-3);\n",
       "}\n",
       "\n",
       ".sk-estimator-doc-link:hover span {\n",
       "  display: block;\n",
       "}\n",
       "\n",
       "/* \"?\"-specific style due to the `<a>` HTML tag */\n",
       "\n",
       "#sk-container-id-6 a.estimator_doc_link {\n",
       "  float: right;\n",
       "  font-size: 1rem;\n",
       "  line-height: 1em;\n",
       "  font-family: monospace;\n",
       "  background-color: var(--sklearn-color-background);\n",
       "  border-radius: 1rem;\n",
       "  height: 1rem;\n",
       "  width: 1rem;\n",
       "  text-decoration: none;\n",
       "  /* unfitted */\n",
       "  color: var(--sklearn-color-unfitted-level-1);\n",
       "  border: var(--sklearn-color-unfitted-level-1) 1pt solid;\n",
       "}\n",
       "\n",
       "#sk-container-id-6 a.estimator_doc_link.fitted {\n",
       "  /* fitted */\n",
       "  border: var(--sklearn-color-fitted-level-1) 1pt solid;\n",
       "  color: var(--sklearn-color-fitted-level-1);\n",
       "}\n",
       "\n",
       "/* On hover */\n",
       "#sk-container-id-6 a.estimator_doc_link:hover {\n",
       "  /* unfitted */\n",
       "  background-color: var(--sklearn-color-unfitted-level-3);\n",
       "  color: var(--sklearn-color-background);\n",
       "  text-decoration: none;\n",
       "}\n",
       "\n",
       "#sk-container-id-6 a.estimator_doc_link.fitted:hover {\n",
       "  /* fitted */\n",
       "  background-color: var(--sklearn-color-fitted-level-3);\n",
       "}\n",
       "</style><div id=\"sk-container-id-6\" class=\"sk-top-container\"><div class=\"sk-text-repr-fallback\"><pre>RandomizedSearchCV(cv=3, estimator=LogisticRegression(), n_jobs=-1,\n",
       "                   param_distributions={&#x27;C&#x27;: [0.001, 0.01, 0.1, 1, 10, 100],\n",
       "                                        &#x27;penalty&#x27;: [&#x27;l1&#x27;, &#x27;l2&#x27;],\n",
       "                                        &#x27;solver&#x27;: [&#x27;newton-cg&#x27;, &#x27;lbfgs&#x27;,\n",
       "                                                   &#x27;liblinear&#x27;]},\n",
       "                   scoring=&#x27;f1&#x27;)</pre><b>In a Jupyter environment, please rerun this cell to show the HTML representation or trust the notebook. <br />On GitHub, the HTML representation is unable to render, please try loading this page with nbviewer.org.</b></div><div class=\"sk-container\" hidden><div class=\"sk-item sk-dashed-wrapped\"><div class=\"sk-label-container\"><div class=\"sk-label fitted sk-toggleable\"><input class=\"sk-toggleable__control sk-hidden--visually\" id=\"sk-estimator-id-12\" type=\"checkbox\" ><label for=\"sk-estimator-id-12\" class=\"sk-toggleable__label fitted sk-toggleable__label-arrow\"><div><div>RandomizedSearchCV</div></div><div><a class=\"sk-estimator-doc-link fitted\" rel=\"noreferrer\" target=\"_blank\" href=\"https://scikit-learn.org/1.6/modules/generated/sklearn.model_selection.RandomizedSearchCV.html\">?<span>Documentation for RandomizedSearchCV</span></a><span class=\"sk-estimator-doc-link fitted\">i<span>Fitted</span></span></div></label><div class=\"sk-toggleable__content fitted\"><pre>RandomizedSearchCV(cv=3, estimator=LogisticRegression(), n_jobs=-1,\n",
       "                   param_distributions={&#x27;C&#x27;: [0.001, 0.01, 0.1, 1, 10, 100],\n",
       "                                        &#x27;penalty&#x27;: [&#x27;l1&#x27;, &#x27;l2&#x27;],\n",
       "                                        &#x27;solver&#x27;: [&#x27;newton-cg&#x27;, &#x27;lbfgs&#x27;,\n",
       "                                                   &#x27;liblinear&#x27;]},\n",
       "                   scoring=&#x27;f1&#x27;)</pre></div> </div></div><div class=\"sk-parallel\"><div class=\"sk-parallel-item\"><div class=\"sk-item\"><div class=\"sk-label-container\"><div class=\"sk-label fitted sk-toggleable\"><input class=\"sk-toggleable__control sk-hidden--visually\" id=\"sk-estimator-id-13\" type=\"checkbox\" ><label for=\"sk-estimator-id-13\" class=\"sk-toggleable__label fitted sk-toggleable__label-arrow\"><div><div>best_estimator_: LogisticRegression</div></div></label><div class=\"sk-toggleable__content fitted\"><pre>LogisticRegression(C=10)</pre></div> </div></div><div class=\"sk-serial\"><div class=\"sk-item\"><div class=\"sk-estimator fitted sk-toggleable\"><input class=\"sk-toggleable__control sk-hidden--visually\" id=\"sk-estimator-id-14\" type=\"checkbox\" ><label for=\"sk-estimator-id-14\" class=\"sk-toggleable__label fitted sk-toggleable__label-arrow\"><div><div>LogisticRegression</div></div><div><a class=\"sk-estimator-doc-link fitted\" rel=\"noreferrer\" target=\"_blank\" href=\"https://scikit-learn.org/1.6/modules/generated/sklearn.linear_model.LogisticRegression.html\">?<span>Documentation for LogisticRegression</span></a></div></label><div class=\"sk-toggleable__content fitted\"><pre>LogisticRegression(C=10)</pre></div> </div></div></div></div></div></div></div></div></div>"
      ],
      "text/plain": [
       "RandomizedSearchCV(cv=3, estimator=LogisticRegression(), n_jobs=-1,\n",
       "                   param_distributions={'C': [0.001, 0.01, 0.1, 1, 10, 100],\n",
       "                                        'penalty': ['l1', 'l2'],\n",
       "                                        'solver': ['newton-cg', 'lbfgs',\n",
       "                                                   'liblinear']},\n",
       "                   scoring='f1')"
      ]
     },
     "execution_count": 52,
     "metadata": {},
     "output_type": "execute_result"
    }
   ],
   "source": [
    "random_search = RandomizedSearchCV(pipeline_lr, \n",
    "                                   lr_params, \n",
    "                                   cv=StratifiedKFold(n_splits=3).split(X_train, y_train), \n",
    "                                   n_jobs=-1, \n",
    "                                   scoring='f1',\n",
    "                                   error_score='raise')\n",
    "\n",
    "random_search.fit(X_train['lemm_text'], y_train)"
   ]
  },
  {
   "cell_type": "markdown",
   "metadata": {},
   "source": [
    "<font color='blue'><b>Комментарий ревьюера: </b></font> ❌\\\n",
    "<font color='darkorange'> При кросс-валидации на данных участвовавших в обучении векторизатора, происходят утечки между обучающими и валидационными подвыборками.\\\n",
    "Нужна либо независимо трансформированная валидационная выборка,\\\n",
    "либо кросс-валидация с векторизатором объединённым с классификатором в Пайплайне.</font>"
   ]
  },
  {
   "cell_type": "markdown",
   "metadata": {},
   "source": [
    "<span style=\"color: blue; font-weight: bold\">Комментарий ревьюера 2: </span> ✔️\\\n",
    "<span style=\"color: green\"> 👍</span>"
   ]
  },
  {
   "cell_type": "code",
   "execution_count": 54,
   "metadata": {
    "colab": {
     "base_uri": "https://localhost:8080/"
    },
    "id": "Vc4FTzMnWCAF",
    "outputId": "1b6ba245-85e1-4255-8dae-339771f7a1e5"
   },
   "outputs": [
    {
     "name": "stdout",
     "output_type": "stream",
     "text": [
      "Результат на кросс валидации 0.7548093026979815\n"
     ]
    }
   ],
   "source": [
    "print(\"Результат на кросс валидации\" ,random_search.best_score_)"
   ]
  },
  {
   "cell_type": "code",
   "execution_count": 57,
   "metadata": {
    "id": "nYHyiK1sV5Ml"
   },
   "outputs": [],
   "source": [
    "model_lr_cv = random_search.best_estimator_"
   ]
  },
  {
   "cell_type": "code",
   "execution_count": 58,
   "metadata": {
    "colab": {
     "base_uri": "https://localhost:8080/",
     "height": 80
    },
    "id": "trKKpXQAZMWa",
    "outputId": "7a61214f-572c-4292-8d95-61ec9c255bf0"
   },
   "outputs": [
    {
     "data": {
      "text/html": [
       "<style>#sk-container-id-9 {\n",
       "  /* Definition of color scheme common for light and dark mode */\n",
       "  --sklearn-color-text: #000;\n",
       "  --sklearn-color-text-muted: #666;\n",
       "  --sklearn-color-line: gray;\n",
       "  /* Definition of color scheme for unfitted estimators */\n",
       "  --sklearn-color-unfitted-level-0: #fff5e6;\n",
       "  --sklearn-color-unfitted-level-1: #f6e4d2;\n",
       "  --sklearn-color-unfitted-level-2: #ffe0b3;\n",
       "  --sklearn-color-unfitted-level-3: chocolate;\n",
       "  /* Definition of color scheme for fitted estimators */\n",
       "  --sklearn-color-fitted-level-0: #f0f8ff;\n",
       "  --sklearn-color-fitted-level-1: #d4ebff;\n",
       "  --sklearn-color-fitted-level-2: #b3dbfd;\n",
       "  --sklearn-color-fitted-level-3: cornflowerblue;\n",
       "\n",
       "  /* Specific color for light theme */\n",
       "  --sklearn-color-text-on-default-background: var(--sg-text-color, var(--theme-code-foreground, var(--jp-content-font-color1, black)));\n",
       "  --sklearn-color-background: var(--sg-background-color, var(--theme-background, var(--jp-layout-color0, white)));\n",
       "  --sklearn-color-border-box: var(--sg-text-color, var(--theme-code-foreground, var(--jp-content-font-color1, black)));\n",
       "  --sklearn-color-icon: #696969;\n",
       "\n",
       "  @media (prefers-color-scheme: dark) {\n",
       "    /* Redefinition of color scheme for dark theme */\n",
       "    --sklearn-color-text-on-default-background: var(--sg-text-color, var(--theme-code-foreground, var(--jp-content-font-color1, white)));\n",
       "    --sklearn-color-background: var(--sg-background-color, var(--theme-background, var(--jp-layout-color0, #111)));\n",
       "    --sklearn-color-border-box: var(--sg-text-color, var(--theme-code-foreground, var(--jp-content-font-color1, white)));\n",
       "    --sklearn-color-icon: #878787;\n",
       "  }\n",
       "}\n",
       "\n",
       "#sk-container-id-9 {\n",
       "  color: var(--sklearn-color-text);\n",
       "}\n",
       "\n",
       "#sk-container-id-9 pre {\n",
       "  padding: 0;\n",
       "}\n",
       "\n",
       "#sk-container-id-9 input.sk-hidden--visually {\n",
       "  border: 0;\n",
       "  clip: rect(1px 1px 1px 1px);\n",
       "  clip: rect(1px, 1px, 1px, 1px);\n",
       "  height: 1px;\n",
       "  margin: -1px;\n",
       "  overflow: hidden;\n",
       "  padding: 0;\n",
       "  position: absolute;\n",
       "  width: 1px;\n",
       "}\n",
       "\n",
       "#sk-container-id-9 div.sk-dashed-wrapped {\n",
       "  border: 1px dashed var(--sklearn-color-line);\n",
       "  margin: 0 0.4em 0.5em 0.4em;\n",
       "  box-sizing: border-box;\n",
       "  padding-bottom: 0.4em;\n",
       "  background-color: var(--sklearn-color-background);\n",
       "}\n",
       "\n",
       "#sk-container-id-9 div.sk-container {\n",
       "  /* jupyter's `normalize.less` sets `[hidden] { display: none; }`\n",
       "     but bootstrap.min.css set `[hidden] { display: none !important; }`\n",
       "     so we also need the `!important` here to be able to override the\n",
       "     default hidden behavior on the sphinx rendered scikit-learn.org.\n",
       "     See: https://github.com/scikit-learn/scikit-learn/issues/21755 */\n",
       "  display: inline-block !important;\n",
       "  position: relative;\n",
       "}\n",
       "\n",
       "#sk-container-id-9 div.sk-text-repr-fallback {\n",
       "  display: none;\n",
       "}\n",
       "\n",
       "div.sk-parallel-item,\n",
       "div.sk-serial,\n",
       "div.sk-item {\n",
       "  /* draw centered vertical line to link estimators */\n",
       "  background-image: linear-gradient(var(--sklearn-color-text-on-default-background), var(--sklearn-color-text-on-default-background));\n",
       "  background-size: 2px 100%;\n",
       "  background-repeat: no-repeat;\n",
       "  background-position: center center;\n",
       "}\n",
       "\n",
       "/* Parallel-specific style estimator block */\n",
       "\n",
       "#sk-container-id-9 div.sk-parallel-item::after {\n",
       "  content: \"\";\n",
       "  width: 100%;\n",
       "  border-bottom: 2px solid var(--sklearn-color-text-on-default-background);\n",
       "  flex-grow: 1;\n",
       "}\n",
       "\n",
       "#sk-container-id-9 div.sk-parallel {\n",
       "  display: flex;\n",
       "  align-items: stretch;\n",
       "  justify-content: center;\n",
       "  background-color: var(--sklearn-color-background);\n",
       "  position: relative;\n",
       "}\n",
       "\n",
       "#sk-container-id-9 div.sk-parallel-item {\n",
       "  display: flex;\n",
       "  flex-direction: column;\n",
       "}\n",
       "\n",
       "#sk-container-id-9 div.sk-parallel-item:first-child::after {\n",
       "  align-self: flex-end;\n",
       "  width: 50%;\n",
       "}\n",
       "\n",
       "#sk-container-id-9 div.sk-parallel-item:last-child::after {\n",
       "  align-self: flex-start;\n",
       "  width: 50%;\n",
       "}\n",
       "\n",
       "#sk-container-id-9 div.sk-parallel-item:only-child::after {\n",
       "  width: 0;\n",
       "}\n",
       "\n",
       "/* Serial-specific style estimator block */\n",
       "\n",
       "#sk-container-id-9 div.sk-serial {\n",
       "  display: flex;\n",
       "  flex-direction: column;\n",
       "  align-items: center;\n",
       "  background-color: var(--sklearn-color-background);\n",
       "  padding-right: 1em;\n",
       "  padding-left: 1em;\n",
       "}\n",
       "\n",
       "\n",
       "/* Toggleable style: style used for estimator/Pipeline/ColumnTransformer box that is\n",
       "clickable and can be expanded/collapsed.\n",
       "- Pipeline and ColumnTransformer use this feature and define the default style\n",
       "- Estimators will overwrite some part of the style using the `sk-estimator` class\n",
       "*/\n",
       "\n",
       "/* Pipeline and ColumnTransformer style (default) */\n",
       "\n",
       "#sk-container-id-9 div.sk-toggleable {\n",
       "  /* Default theme specific background. It is overwritten whether we have a\n",
       "  specific estimator or a Pipeline/ColumnTransformer */\n",
       "  background-color: var(--sklearn-color-background);\n",
       "}\n",
       "\n",
       "/* Toggleable label */\n",
       "#sk-container-id-9 label.sk-toggleable__label {\n",
       "  cursor: pointer;\n",
       "  display: flex;\n",
       "  width: 100%;\n",
       "  margin-bottom: 0;\n",
       "  padding: 0.5em;\n",
       "  box-sizing: border-box;\n",
       "  text-align: center;\n",
       "  align-items: start;\n",
       "  justify-content: space-between;\n",
       "  gap: 0.5em;\n",
       "}\n",
       "\n",
       "#sk-container-id-9 label.sk-toggleable__label .caption {\n",
       "  font-size: 0.6rem;\n",
       "  font-weight: lighter;\n",
       "  color: var(--sklearn-color-text-muted);\n",
       "}\n",
       "\n",
       "#sk-container-id-9 label.sk-toggleable__label-arrow:before {\n",
       "  /* Arrow on the left of the label */\n",
       "  content: \"▸\";\n",
       "  float: left;\n",
       "  margin-right: 0.25em;\n",
       "  color: var(--sklearn-color-icon);\n",
       "}\n",
       "\n",
       "#sk-container-id-9 label.sk-toggleable__label-arrow:hover:before {\n",
       "  color: var(--sklearn-color-text);\n",
       "}\n",
       "\n",
       "/* Toggleable content - dropdown */\n",
       "\n",
       "#sk-container-id-9 div.sk-toggleable__content {\n",
       "  max-height: 0;\n",
       "  max-width: 0;\n",
       "  overflow: hidden;\n",
       "  text-align: left;\n",
       "  /* unfitted */\n",
       "  background-color: var(--sklearn-color-unfitted-level-0);\n",
       "}\n",
       "\n",
       "#sk-container-id-9 div.sk-toggleable__content.fitted {\n",
       "  /* fitted */\n",
       "  background-color: var(--sklearn-color-fitted-level-0);\n",
       "}\n",
       "\n",
       "#sk-container-id-9 div.sk-toggleable__content pre {\n",
       "  margin: 0.2em;\n",
       "  border-radius: 0.25em;\n",
       "  color: var(--sklearn-color-text);\n",
       "  /* unfitted */\n",
       "  background-color: var(--sklearn-color-unfitted-level-0);\n",
       "}\n",
       "\n",
       "#sk-container-id-9 div.sk-toggleable__content.fitted pre {\n",
       "  /* unfitted */\n",
       "  background-color: var(--sklearn-color-fitted-level-0);\n",
       "}\n",
       "\n",
       "#sk-container-id-9 input.sk-toggleable__control:checked~div.sk-toggleable__content {\n",
       "  /* Expand drop-down */\n",
       "  max-height: 200px;\n",
       "  max-width: 100%;\n",
       "  overflow: auto;\n",
       "}\n",
       "\n",
       "#sk-container-id-9 input.sk-toggleable__control:checked~label.sk-toggleable__label-arrow:before {\n",
       "  content: \"▾\";\n",
       "}\n",
       "\n",
       "/* Pipeline/ColumnTransformer-specific style */\n",
       "\n",
       "#sk-container-id-9 div.sk-label input.sk-toggleable__control:checked~label.sk-toggleable__label {\n",
       "  color: var(--sklearn-color-text);\n",
       "  background-color: var(--sklearn-color-unfitted-level-2);\n",
       "}\n",
       "\n",
       "#sk-container-id-9 div.sk-label.fitted input.sk-toggleable__control:checked~label.sk-toggleable__label {\n",
       "  background-color: var(--sklearn-color-fitted-level-2);\n",
       "}\n",
       "\n",
       "/* Estimator-specific style */\n",
       "\n",
       "/* Colorize estimator box */\n",
       "#sk-container-id-9 div.sk-estimator input.sk-toggleable__control:checked~label.sk-toggleable__label {\n",
       "  /* unfitted */\n",
       "  background-color: var(--sklearn-color-unfitted-level-2);\n",
       "}\n",
       "\n",
       "#sk-container-id-9 div.sk-estimator.fitted input.sk-toggleable__control:checked~label.sk-toggleable__label {\n",
       "  /* fitted */\n",
       "  background-color: var(--sklearn-color-fitted-level-2);\n",
       "}\n",
       "\n",
       "#sk-container-id-9 div.sk-label label.sk-toggleable__label,\n",
       "#sk-container-id-9 div.sk-label label {\n",
       "  /* The background is the default theme color */\n",
       "  color: var(--sklearn-color-text-on-default-background);\n",
       "}\n",
       "\n",
       "/* On hover, darken the color of the background */\n",
       "#sk-container-id-9 div.sk-label:hover label.sk-toggleable__label {\n",
       "  color: var(--sklearn-color-text);\n",
       "  background-color: var(--sklearn-color-unfitted-level-2);\n",
       "}\n",
       "\n",
       "/* Label box, darken color on hover, fitted */\n",
       "#sk-container-id-9 div.sk-label.fitted:hover label.sk-toggleable__label.fitted {\n",
       "  color: var(--sklearn-color-text);\n",
       "  background-color: var(--sklearn-color-fitted-level-2);\n",
       "}\n",
       "\n",
       "/* Estimator label */\n",
       "\n",
       "#sk-container-id-9 div.sk-label label {\n",
       "  font-family: monospace;\n",
       "  font-weight: bold;\n",
       "  display: inline-block;\n",
       "  line-height: 1.2em;\n",
       "}\n",
       "\n",
       "#sk-container-id-9 div.sk-label-container {\n",
       "  text-align: center;\n",
       "}\n",
       "\n",
       "/* Estimator-specific */\n",
       "#sk-container-id-9 div.sk-estimator {\n",
       "  font-family: monospace;\n",
       "  border: 1px dotted var(--sklearn-color-border-box);\n",
       "  border-radius: 0.25em;\n",
       "  box-sizing: border-box;\n",
       "  margin-bottom: 0.5em;\n",
       "  /* unfitted */\n",
       "  background-color: var(--sklearn-color-unfitted-level-0);\n",
       "}\n",
       "\n",
       "#sk-container-id-9 div.sk-estimator.fitted {\n",
       "  /* fitted */\n",
       "  background-color: var(--sklearn-color-fitted-level-0);\n",
       "}\n",
       "\n",
       "/* on hover */\n",
       "#sk-container-id-9 div.sk-estimator:hover {\n",
       "  /* unfitted */\n",
       "  background-color: var(--sklearn-color-unfitted-level-2);\n",
       "}\n",
       "\n",
       "#sk-container-id-9 div.sk-estimator.fitted:hover {\n",
       "  /* fitted */\n",
       "  background-color: var(--sklearn-color-fitted-level-2);\n",
       "}\n",
       "\n",
       "/* Specification for estimator info (e.g. \"i\" and \"?\") */\n",
       "\n",
       "/* Common style for \"i\" and \"?\" */\n",
       "\n",
       ".sk-estimator-doc-link,\n",
       "a:link.sk-estimator-doc-link,\n",
       "a:visited.sk-estimator-doc-link {\n",
       "  float: right;\n",
       "  font-size: smaller;\n",
       "  line-height: 1em;\n",
       "  font-family: monospace;\n",
       "  background-color: var(--sklearn-color-background);\n",
       "  border-radius: 1em;\n",
       "  height: 1em;\n",
       "  width: 1em;\n",
       "  text-decoration: none !important;\n",
       "  margin-left: 0.5em;\n",
       "  text-align: center;\n",
       "  /* unfitted */\n",
       "  border: var(--sklearn-color-unfitted-level-1) 1pt solid;\n",
       "  color: var(--sklearn-color-unfitted-level-1);\n",
       "}\n",
       "\n",
       ".sk-estimator-doc-link.fitted,\n",
       "a:link.sk-estimator-doc-link.fitted,\n",
       "a:visited.sk-estimator-doc-link.fitted {\n",
       "  /* fitted */\n",
       "  border: var(--sklearn-color-fitted-level-1) 1pt solid;\n",
       "  color: var(--sklearn-color-fitted-level-1);\n",
       "}\n",
       "\n",
       "/* On hover */\n",
       "div.sk-estimator:hover .sk-estimator-doc-link:hover,\n",
       ".sk-estimator-doc-link:hover,\n",
       "div.sk-label-container:hover .sk-estimator-doc-link:hover,\n",
       ".sk-estimator-doc-link:hover {\n",
       "  /* unfitted */\n",
       "  background-color: var(--sklearn-color-unfitted-level-3);\n",
       "  color: var(--sklearn-color-background);\n",
       "  text-decoration: none;\n",
       "}\n",
       "\n",
       "div.sk-estimator.fitted:hover .sk-estimator-doc-link.fitted:hover,\n",
       ".sk-estimator-doc-link.fitted:hover,\n",
       "div.sk-label-container:hover .sk-estimator-doc-link.fitted:hover,\n",
       ".sk-estimator-doc-link.fitted:hover {\n",
       "  /* fitted */\n",
       "  background-color: var(--sklearn-color-fitted-level-3);\n",
       "  color: var(--sklearn-color-background);\n",
       "  text-decoration: none;\n",
       "}\n",
       "\n",
       "/* Span, style for the box shown on hovering the info icon */\n",
       ".sk-estimator-doc-link span {\n",
       "  display: none;\n",
       "  z-index: 9999;\n",
       "  position: relative;\n",
       "  font-weight: normal;\n",
       "  right: .2ex;\n",
       "  padding: .5ex;\n",
       "  margin: .5ex;\n",
       "  width: min-content;\n",
       "  min-width: 20ex;\n",
       "  max-width: 50ex;\n",
       "  color: var(--sklearn-color-text);\n",
       "  box-shadow: 2pt 2pt 4pt #999;\n",
       "  /* unfitted */\n",
       "  background: var(--sklearn-color-unfitted-level-0);\n",
       "  border: .5pt solid var(--sklearn-color-unfitted-level-3);\n",
       "}\n",
       "\n",
       ".sk-estimator-doc-link.fitted span {\n",
       "  /* fitted */\n",
       "  background: var(--sklearn-color-fitted-level-0);\n",
       "  border: var(--sklearn-color-fitted-level-3);\n",
       "}\n",
       "\n",
       ".sk-estimator-doc-link:hover span {\n",
       "  display: block;\n",
       "}\n",
       "\n",
       "/* \"?\"-specific style due to the `<a>` HTML tag */\n",
       "\n",
       "#sk-container-id-9 a.estimator_doc_link {\n",
       "  float: right;\n",
       "  font-size: 1rem;\n",
       "  line-height: 1em;\n",
       "  font-family: monospace;\n",
       "  background-color: var(--sklearn-color-background);\n",
       "  border-radius: 1rem;\n",
       "  height: 1rem;\n",
       "  width: 1rem;\n",
       "  text-decoration: none;\n",
       "  /* unfitted */\n",
       "  color: var(--sklearn-color-unfitted-level-1);\n",
       "  border: var(--sklearn-color-unfitted-level-1) 1pt solid;\n",
       "}\n",
       "\n",
       "#sk-container-id-9 a.estimator_doc_link.fitted {\n",
       "  /* fitted */\n",
       "  border: var(--sklearn-color-fitted-level-1) 1pt solid;\n",
       "  color: var(--sklearn-color-fitted-level-1);\n",
       "}\n",
       "\n",
       "/* On hover */\n",
       "#sk-container-id-9 a.estimator_doc_link:hover {\n",
       "  /* unfitted */\n",
       "  background-color: var(--sklearn-color-unfitted-level-3);\n",
       "  color: var(--sklearn-color-background);\n",
       "  text-decoration: none;\n",
       "}\n",
       "\n",
       "#sk-container-id-9 a.estimator_doc_link.fitted:hover {\n",
       "  /* fitted */\n",
       "  background-color: var(--sklearn-color-fitted-level-3);\n",
       "}\n",
       "</style><div id=\"sk-container-id-9\" class=\"sk-top-container\"><div class=\"sk-text-repr-fallback\"><pre>LogisticRegression(C=10)</pre><b>In a Jupyter environment, please rerun this cell to show the HTML representation or trust the notebook. <br />On GitHub, the HTML representation is unable to render, please try loading this page with nbviewer.org.</b></div><div class=\"sk-container\" hidden><div class=\"sk-item\"><div class=\"sk-estimator fitted sk-toggleable\"><input class=\"sk-toggleable__control sk-hidden--visually\" id=\"sk-estimator-id-17\" type=\"checkbox\" checked><label for=\"sk-estimator-id-17\" class=\"sk-toggleable__label fitted sk-toggleable__label-arrow\"><div><div>LogisticRegression</div></div><div><a class=\"sk-estimator-doc-link fitted\" rel=\"noreferrer\" target=\"_blank\" href=\"https://scikit-learn.org/1.6/modules/generated/sklearn.linear_model.LogisticRegression.html\">?<span>Documentation for LogisticRegression</span></a><span class=\"sk-estimator-doc-link fitted\">i<span>Fitted</span></span></div></label><div class=\"sk-toggleable__content fitted\"><pre>LogisticRegression(C=10)</pre></div> </div></div></div></div>"
      ],
      "text/plain": [
       "LogisticRegression(C=10)"
      ]
     },
     "execution_count": 58,
     "metadata": {},
     "output_type": "execute_result"
    }
   ],
   "source": [
    "model_lr_cv.fit(X_train['lemm_text'], y_train)"
   ]
  },
  {
   "cell_type": "code",
   "execution_count": 59,
   "metadata": {
    "id": "sGaukkdDZMeU"
   },
   "outputs": [],
   "source": [
    "y_pred_lr_cv = model_lr_cv.predict(X_valid['lemm_text'])"
   ]
  },
  {
   "cell_type": "code",
   "execution_count": 92,
   "metadata": {
    "colab": {
     "base_uri": "https://localhost:8080/"
    },
    "id": "tzMeVPBoZjU6",
    "outputId": "a8a5ad78-3066-4994-ce71-b4d8f4ce61b7"
   },
   "outputs": [
    {
     "name": "stdout",
     "output_type": "stream",
     "text": [
      "|-------------------------------------------------------------------------------------|\n",
      " f1 score Логистичсекой регрессии на Валидациионной выборке 0.7767057201929704\n",
      "|-------------------------------------------------------------------------------------|\n",
      " precision score Логистичсекой регрессии на Валидациионной выборке 0.8780677834047527\n",
      "|-------------------------------------------------------------------------------------|\n",
      " recall score Логистичсекой регрессии на Валидациионной выборке 0.6963237565647205\n",
      "|-------------------------------------------------------------------------------------|\n",
      " accuracy score Логистичсекой регрессии на Валидациионной выборке 0.959319480193358\n",
      "|---------------------------------------------------------------|\n",
      " roc auc score Логистичсекой регрессии на Валидациионной выборке 0.8426938652849109\n",
      "|-------------------------------------------------------------------------------------|\n"
     ]
    }
   ],
   "source": [
    "lr_cv_f1 = f1_score(y_valid, y_pred_lr_cv)\n",
    "lr_cv_precision = precision_score(y_valid, y_pred_lr_cv)\n",
    "lr_cv_recall = recall_score(y_valid, y_pred_lr_cv)\n",
    "lr_cv_accuracy = accuracy_score(y_valid, y_pred_lr_cv)\n",
    "lr_cv_roc_auc = roc_auc_score(y_valid, y_pred_lr_cv)\n",
    "\n",
    "lr_list_scores = [lr_cv_f1, lr_cv_precision, lr_cv_recall, lr_cv_accuracy, lr_cv_roc_auc]\n",
    "\n",
    "\n",
    "print('|-------------------------------------------------------------------------------------|')\n",
    "print(\" f1 score Логистичсекой регрессии на Валидациионной выборке\",lr_cv_f1)\n",
    "print('|-------------------------------------------------------------------------------------|')\n",
    "print(\" precision score Логистичсекой регрессии на Валидациионной выборке\",lr_cv_precision)\n",
    "print('|-------------------------------------------------------------------------------------|')\n",
    "print(\" recall score Логистичсекой регрессии на Валидациионной выборке\",lr_cv_recall)\n",
    "print('|-------------------------------------------------------------------------------------|')\n",
    "print(\" accuracy score Логистичсекой регрессии на Валидациионной выборке\",lr_cv_accuracy)\n",
    "print('|---------------------------------------------------------------|')\n",
    "print(\" roc auc score Логистичсекой регрессии на Валидациионной выборке\",lr_cv_roc_auc)\n",
    "print('|-------------------------------------------------------------------------------------|')"
   ]
  },
  {
   "cell_type": "markdown",
   "metadata": {
    "id": "93Vr6i3JbCLg"
   },
   "source": [
    "### SGDC"
   ]
  },
  {
   "cell_type": "code",
   "execution_count": null,
   "metadata": {
    "colab": {
     "base_uri": "https://localhost:8080/",
     "height": 164
    },
    "id": "cpTFdy0u7v7c",
    "outputId": "fcae0275-ad5f-4ab2-f579-11640ac65a2c"
   },
   "outputs": [],
   "source": [
    "pipeline_sgdc = Pipeline(\n",
    "    [\n",
    "        ('vect', CountVectorizer(stop_words=stopwords)),\n",
    "      ('tfidf', TfidfTransformer()),\n",
    "        (\"sgdc\", SGDClassifier(random_state=42)),\n",
    "    ]\n",
    ")\n",
    "\n",
    "\n",
    "params_sgdc = [{'sgdc__loss':['hinge', 'log', 'modified_huber'],\n",
    "                'sgdc__learning_rate':['constant', 'optimal', 'invscaling', 'adaptive'],\n",
    "                'sgdc__eta0':[0.01, 0.05, 0.1, 0.2, 0.3, 0.5]}]\n",
    "\n",
    "\n",
    "random_search_sgdc = RandomizedSearchCV(pipeline_sgdc, \n",
    "                                        params_sgdc, \n",
    "                                        scoring='f1',\n",
    "                                        cv=StratifiedKFold(n_splits=3).split(X_train, y_train),\n",
    "                                        n_jobs=-1\n",
    "                                        )\n",
    "random_search_sgdc.fit(X_train['lemm_text'], y_train)"
   ]
  },
  {
   "cell_type": "markdown",
   "metadata": {},
   "source": [
    "<span style=\"color: blue; font-weight: bold\">Комментарий ревьюера : </span>  ❌\\\n",
    "<span style=\"color: red\"> ~~Ошибка исполнения кода.~~ </span>"
   ]
  },
  {
   "cell_type": "markdown",
   "metadata": {},
   "source": [
    "<span style=\"color: blue; font-weight: bold\">Комментарий ревьюера 2: </span> ✔️\\\n",
    "<span style=\"color: green\"> 👍</span>"
   ]
  },
  {
   "cell_type": "code",
   "execution_count": 85,
   "metadata": {
    "id": "41yOAgmt5dd8"
   },
   "outputs": [],
   "source": [
    "y_pred_sgdc_cv = random_search_sgdc.predict(X_valid['lemm_text'])"
   ]
  },
  {
   "cell_type": "code",
   "execution_count": 94,
   "metadata": {
    "colab": {
     "base_uri": "https://localhost:8080/"
    },
    "id": "GDSeR0Vu5jpZ",
    "outputId": "9234c749-6e24-4f65-cf79-0380775b4aa0"
   },
   "outputs": [
    {
     "name": "stdout",
     "output_type": "stream",
     "text": [
      "|---------------------------------------------------------------|\n",
      " f1 score на Валидациионной выборке 0.6338820587622421\n",
      "|---------------------------------------------------------------|\n",
      " precision score на Валидациионной выборке 0.9737516005121639\n",
      "|---------------------------------------------------------------|\n",
      " recall score на Валидациионной выборке 0.46987951807228917\n",
      "|---------------------------------------------------------------|\n",
      " accuracy score на Валидациионной выборке 0.9448490175152238\n",
      "|---------------------------------------------------------------|\n",
      " roc auc score на Валидациионной выборке 0.734223501742549\n",
      "|---------------------------------------------------------------|\n"
     ]
    }
   ],
   "source": [
    "sgdc_cv_f1 = f1_score(y_valid, y_pred_sgdc_cv)\n",
    "sgdc_cv_precision = precision_score(y_valid, y_pred_sgdc_cv)\n",
    "sgdc_cv_recall = recall_score(y_valid, y_pred_sgdc_cv)\n",
    "sgdc_cv_accuracy = accuracy_score(y_valid, y_pred_sgdc_cv)\n",
    "sgdc_cv_roc_auc = roc_auc_score(y_valid, y_pred_sgdc_cv)\n",
    "\n",
    "sgdc_list_scores = [sgdc_cv_f1, sgdc_cv_precision, sgdc_cv_recall, sgdc_cv_accuracy, sgdc_cv_roc_auc]\n",
    "\n",
    "print('|---------------------------------------------------------------|')\n",
    "print(\" f1 score на Валидациионной выборке\",sgdc_cv_f1)\n",
    "print('|---------------------------------------------------------------|')\n",
    "print(\" precision score на Валидациионной выборке\",sgdc_cv_precision)\n",
    "print('|---------------------------------------------------------------|')\n",
    "print(\" recall score на Валидациионной выборке\",sgdc_cv_recall)\n",
    "print('|---------------------------------------------------------------|')\n",
    "print(\" accuracy score на Валидациионной выборке\",sgdc_cv_accuracy)\n",
    "print('|---------------------------------------------------------------|')\n",
    "print(\" roc auc score на Валидациионной выборке\",sgdc_cv_roc_auc)\n",
    "print('|---------------------------------------------------------------|')"
   ]
  },
  {
   "cell_type": "markdown",
   "metadata": {
    "id": "4HWHu9fEj_0m"
   },
   "source": [
    "### CatBoost Classifier"
   ]
  },
  {
   "cell_type": "code",
   "execution_count": 88,
   "metadata": {
    "id": "n6mr8N7Sedxv"
   },
   "outputs": [],
   "source": [
    "model_cat = CatBoostClassifier(verbose=False, iterations=500, text_features=[\"lemm_text\"])\n",
    "\n",
    "model_cat.fit(X_train, y_train)\n",
    "y_pred_cat = model_cat.predict(X_valid)"
   ]
  },
  {
   "cell_type": "markdown",
   "metadata": {},
   "source": [
    "<font color='blue'><b>Комментарий ревьюера: </b></font> ✔️\\\n",
    "<font color='green'>CatBoost может сам векторизовать текст. Для этого указываем в класс модели текстовые данные. `text_features=[\"text_lemm\"]`</font>"
   ]
  },
  {
   "cell_type": "code",
   "execution_count": 96,
   "metadata": {
    "colab": {
     "base_uri": "https://localhost:8080/"
    },
    "id": "mSkWFwMcj-NK",
    "outputId": "cf5d736b-6125-4b79-9646-d2a34c62d99e"
   },
   "outputs": [
    {
     "name": "stdout",
     "output_type": "stream",
     "text": [
      "|---------------------------------------------------------------|\n",
      " f1 score на Валидациионной выборке 0.7516245487364621\n",
      "|---------------------------------------------------------------|\n",
      " precision score на Валидациионной выборке 0.9040382110290925\n",
      "|---------------------------------------------------------------|\n",
      " recall score на Валидациионной выборке 0.6431881371640408\n",
      "|---------------------------------------------------------------|\n",
      " accuracy score на Валидациионной выборке 0.9568083369954171\n",
      "|---------------------------------------------------------------|\n",
      " roc auc score на Валидациионной выборке 0.8177332670726392\n",
      "|---------------------------------------------------------------|\n"
     ]
    }
   ],
   "source": [
    "cat_f1 = f1_score(y_valid, y_pred_cat)\n",
    "сat_precision = precision_score(y_valid, y_pred_cat)\n",
    "cat_recall = recall_score(y_valid, y_pred_cat)\n",
    "cat_accuracy = accuracy_score(y_valid, y_pred_cat)\n",
    "cat_roc_auc = roc_auc_score(y_valid, y_pred_cat)\n",
    "\n",
    "cat_list_scores = [cat_f1, сat_precision, cat_recall, cat_accuracy, cat_roc_auc]\n",
    "\n",
    "\n",
    "print('|---------------------------------------------------------------|')\n",
    "print(\" f1 score на Валидациионной выборке\",cat_f1)\n",
    "print('|---------------------------------------------------------------|')\n",
    "print(\" precision score на Валидациионной выборке\",сat_precision)\n",
    "print('|---------------------------------------------------------------|')\n",
    "print(\" recall score на Валидациионной выборке\",cat_recall)\n",
    "print('|---------------------------------------------------------------|')\n",
    "print(\" accuracy score на Валидациионной выборке\",cat_accuracy)\n",
    "print('|---------------------------------------------------------------|')\n",
    "print(\" roc auc score на Валидациионной выборке\",cat_roc_auc)\n",
    "print('|---------------------------------------------------------------|')"
   ]
  },
  {
   "cell_type": "code",
   "execution_count": 103,
   "metadata": {
    "colab": {
     "base_uri": "https://localhost:8080/",
     "height": 237
    },
    "id": "Lkb6CShOJPcN",
    "outputId": "678230a9-2471-4249-ac1c-ff59978d797b"
   },
   "outputs": [
    {
     "data": {
      "application/vnd.google.colaboratory.intrinsic+json": {
       "summary": "{\n  \"name\": \"score_frame\",\n  \"rows\": 5,\n  \"fields\": [\n    {\n      \"column\": \"metric\",\n      \"properties\": {\n        \"dtype\": \"string\",\n        \"num_unique_values\": 5,\n        \"samples\": [\n          \"precision\",\n          \"roc-auc\",\n          \"recall\"\n        ],\n        \"semantic_type\": \"\",\n        \"description\": \"\"\n      }\n    },\n    {\n      \"column\": \"lr_list_scores\",\n      \"properties\": {\n        \"dtype\": \"number\",\n        \"std\": 0.09987849758634948,\n        \"min\": 0.6963237565647205,\n        \"max\": 0.959319480193358,\n        \"num_unique_values\": 5,\n        \"samples\": [\n          0.8780677834047527,\n          0.8426938652849109,\n          0.6963237565647205\n        ],\n        \"semantic_type\": \"\",\n        \"description\": \"\"\n      }\n    },\n    {\n      \"column\": \"sgdc_list_scores\",\n      \"properties\": {\n        \"dtype\": \"number\",\n        \"std\": 0.21226281036042646,\n        \"min\": 0.46987951807228917,\n        \"max\": 0.9737516005121639,\n        \"num_unique_values\": 5,\n        \"samples\": [\n          0.9737516005121639,\n          0.734223501742549,\n          0.46987951807228917\n        ],\n        \"semantic_type\": \"\",\n        \"description\": \"\"\n      }\n    },\n    {\n      \"column\": \"cat_list_scores\",\n      \"properties\": {\n        \"dtype\": \"number\",\n        \"std\": 0.12407671562078883,\n        \"min\": 0.6431881371640408,\n        \"max\": 0.9568083369954171,\n        \"num_unique_values\": 5,\n        \"samples\": [\n          0.9040382110290925,\n          0.8177332670726392,\n          0.6431881371640408\n        ],\n        \"semantic_type\": \"\",\n        \"description\": \"\"\n      }\n    }\n  ]\n}",
       "type": "dataframe",
       "variable_name": "score_frame"
      },
      "text/html": [
       "\n",
       "  <div id=\"df-6ad04d46-b7ce-4752-a136-ab1786de64e0\" class=\"colab-df-container\">\n",
       "    <div>\n",
       "<style scoped>\n",
       "    .dataframe tbody tr th:only-of-type {\n",
       "        vertical-align: middle;\n",
       "    }\n",
       "\n",
       "    .dataframe tbody tr th {\n",
       "        vertical-align: top;\n",
       "    }\n",
       "\n",
       "    .dataframe thead th {\n",
       "        text-align: right;\n",
       "    }\n",
       "</style>\n",
       "<table border=\"1\" class=\"dataframe\">\n",
       "  <thead>\n",
       "    <tr style=\"text-align: right;\">\n",
       "      <th></th>\n",
       "      <th>lr_list_scores</th>\n",
       "      <th>sgdc_list_scores</th>\n",
       "      <th>cat_list_scores</th>\n",
       "    </tr>\n",
       "    <tr>\n",
       "      <th>metric</th>\n",
       "      <th></th>\n",
       "      <th></th>\n",
       "      <th></th>\n",
       "    </tr>\n",
       "  </thead>\n",
       "  <tbody>\n",
       "    <tr>\n",
       "      <th>f1_score</th>\n",
       "      <td>0.776706</td>\n",
       "      <td>0.633882</td>\n",
       "      <td>0.751625</td>\n",
       "    </tr>\n",
       "    <tr>\n",
       "      <th>precision</th>\n",
       "      <td>0.878068</td>\n",
       "      <td>0.973752</td>\n",
       "      <td>0.904038</td>\n",
       "    </tr>\n",
       "    <tr>\n",
       "      <th>recall</th>\n",
       "      <td>0.696324</td>\n",
       "      <td>0.469880</td>\n",
       "      <td>0.643188</td>\n",
       "    </tr>\n",
       "    <tr>\n",
       "      <th>accuracy</th>\n",
       "      <td>0.959319</td>\n",
       "      <td>0.944849</td>\n",
       "      <td>0.956808</td>\n",
       "    </tr>\n",
       "    <tr>\n",
       "      <th>roc-auc</th>\n",
       "      <td>0.842694</td>\n",
       "      <td>0.734224</td>\n",
       "      <td>0.817733</td>\n",
       "    </tr>\n",
       "  </tbody>\n",
       "</table>\n",
       "</div>\n",
       "    <div class=\"colab-df-buttons\">\n",
       "\n",
       "  <div class=\"colab-df-container\">\n",
       "    <button class=\"colab-df-convert\" onclick=\"convertToInteractive('df-6ad04d46-b7ce-4752-a136-ab1786de64e0')\"\n",
       "            title=\"Convert this dataframe to an interactive table.\"\n",
       "            style=\"display:none;\">\n",
       "\n",
       "  <svg xmlns=\"http://www.w3.org/2000/svg\" height=\"24px\" viewBox=\"0 -960 960 960\">\n",
       "    <path d=\"M120-120v-720h720v720H120Zm60-500h600v-160H180v160Zm220 220h160v-160H400v160Zm0 220h160v-160H400v160ZM180-400h160v-160H180v160Zm440 0h160v-160H620v160ZM180-180h160v-160H180v160Zm440 0h160v-160H620v160Z\"/>\n",
       "  </svg>\n",
       "    </button>\n",
       "\n",
       "  <style>\n",
       "    .colab-df-container {\n",
       "      display:flex;\n",
       "      gap: 12px;\n",
       "    }\n",
       "\n",
       "    .colab-df-convert {\n",
       "      background-color: #E8F0FE;\n",
       "      border: none;\n",
       "      border-radius: 50%;\n",
       "      cursor: pointer;\n",
       "      display: none;\n",
       "      fill: #1967D2;\n",
       "      height: 32px;\n",
       "      padding: 0 0 0 0;\n",
       "      width: 32px;\n",
       "    }\n",
       "\n",
       "    .colab-df-convert:hover {\n",
       "      background-color: #E2EBFA;\n",
       "      box-shadow: 0px 1px 2px rgba(60, 64, 67, 0.3), 0px 1px 3px 1px rgba(60, 64, 67, 0.15);\n",
       "      fill: #174EA6;\n",
       "    }\n",
       "\n",
       "    .colab-df-buttons div {\n",
       "      margin-bottom: 4px;\n",
       "    }\n",
       "\n",
       "    [theme=dark] .colab-df-convert {\n",
       "      background-color: #3B4455;\n",
       "      fill: #D2E3FC;\n",
       "    }\n",
       "\n",
       "    [theme=dark] .colab-df-convert:hover {\n",
       "      background-color: #434B5C;\n",
       "      box-shadow: 0px 1px 3px 1px rgba(0, 0, 0, 0.15);\n",
       "      filter: drop-shadow(0px 1px 2px rgba(0, 0, 0, 0.3));\n",
       "      fill: #FFFFFF;\n",
       "    }\n",
       "  </style>\n",
       "\n",
       "    <script>\n",
       "      const buttonEl =\n",
       "        document.querySelector('#df-6ad04d46-b7ce-4752-a136-ab1786de64e0 button.colab-df-convert');\n",
       "      buttonEl.style.display =\n",
       "        google.colab.kernel.accessAllowed ? 'block' : 'none';\n",
       "\n",
       "      async function convertToInteractive(key) {\n",
       "        const element = document.querySelector('#df-6ad04d46-b7ce-4752-a136-ab1786de64e0');\n",
       "        const dataTable =\n",
       "          await google.colab.kernel.invokeFunction('convertToInteractive',\n",
       "                                                    [key], {});\n",
       "        if (!dataTable) return;\n",
       "\n",
       "        const docLinkHtml = 'Like what you see? Visit the ' +\n",
       "          '<a target=\"_blank\" href=https://colab.research.google.com/notebooks/data_table.ipynb>data table notebook</a>'\n",
       "          + ' to learn more about interactive tables.';\n",
       "        element.innerHTML = '';\n",
       "        dataTable['output_type'] = 'display_data';\n",
       "        await google.colab.output.renderOutput(dataTable, element);\n",
       "        const docLink = document.createElement('div');\n",
       "        docLink.innerHTML = docLinkHtml;\n",
       "        element.appendChild(docLink);\n",
       "      }\n",
       "    </script>\n",
       "  </div>\n",
       "\n",
       "\n",
       "<div id=\"df-d3143c3e-052a-42c5-989d-1f23c2dc9c39\">\n",
       "  <button class=\"colab-df-quickchart\" onclick=\"quickchart('df-d3143c3e-052a-42c5-989d-1f23c2dc9c39')\"\n",
       "            title=\"Suggest charts\"\n",
       "            style=\"display:none;\">\n",
       "\n",
       "<svg xmlns=\"http://www.w3.org/2000/svg\" height=\"24px\"viewBox=\"0 0 24 24\"\n",
       "     width=\"24px\">\n",
       "    <g>\n",
       "        <path d=\"M19 3H5c-1.1 0-2 .9-2 2v14c0 1.1.9 2 2 2h14c1.1 0 2-.9 2-2V5c0-1.1-.9-2-2-2zM9 17H7v-7h2v7zm4 0h-2V7h2v10zm4 0h-2v-4h2v4z\"/>\n",
       "    </g>\n",
       "</svg>\n",
       "  </button>\n",
       "\n",
       "<style>\n",
       "  .colab-df-quickchart {\n",
       "      --bg-color: #E8F0FE;\n",
       "      --fill-color: #1967D2;\n",
       "      --hover-bg-color: #E2EBFA;\n",
       "      --hover-fill-color: #174EA6;\n",
       "      --disabled-fill-color: #AAA;\n",
       "      --disabled-bg-color: #DDD;\n",
       "  }\n",
       "\n",
       "  [theme=dark] .colab-df-quickchart {\n",
       "      --bg-color: #3B4455;\n",
       "      --fill-color: #D2E3FC;\n",
       "      --hover-bg-color: #434B5C;\n",
       "      --hover-fill-color: #FFFFFF;\n",
       "      --disabled-bg-color: #3B4455;\n",
       "      --disabled-fill-color: #666;\n",
       "  }\n",
       "\n",
       "  .colab-df-quickchart {\n",
       "    background-color: var(--bg-color);\n",
       "    border: none;\n",
       "    border-radius: 50%;\n",
       "    cursor: pointer;\n",
       "    display: none;\n",
       "    fill: var(--fill-color);\n",
       "    height: 32px;\n",
       "    padding: 0;\n",
       "    width: 32px;\n",
       "  }\n",
       "\n",
       "  .colab-df-quickchart:hover {\n",
       "    background-color: var(--hover-bg-color);\n",
       "    box-shadow: 0 1px 2px rgba(60, 64, 67, 0.3), 0 1px 3px 1px rgba(60, 64, 67, 0.15);\n",
       "    fill: var(--button-hover-fill-color);\n",
       "  }\n",
       "\n",
       "  .colab-df-quickchart-complete:disabled,\n",
       "  .colab-df-quickchart-complete:disabled:hover {\n",
       "    background-color: var(--disabled-bg-color);\n",
       "    fill: var(--disabled-fill-color);\n",
       "    box-shadow: none;\n",
       "  }\n",
       "\n",
       "  .colab-df-spinner {\n",
       "    border: 2px solid var(--fill-color);\n",
       "    border-color: transparent;\n",
       "    border-bottom-color: var(--fill-color);\n",
       "    animation:\n",
       "      spin 1s steps(1) infinite;\n",
       "  }\n",
       "\n",
       "  @keyframes spin {\n",
       "    0% {\n",
       "      border-color: transparent;\n",
       "      border-bottom-color: var(--fill-color);\n",
       "      border-left-color: var(--fill-color);\n",
       "    }\n",
       "    20% {\n",
       "      border-color: transparent;\n",
       "      border-left-color: var(--fill-color);\n",
       "      border-top-color: var(--fill-color);\n",
       "    }\n",
       "    30% {\n",
       "      border-color: transparent;\n",
       "      border-left-color: var(--fill-color);\n",
       "      border-top-color: var(--fill-color);\n",
       "      border-right-color: var(--fill-color);\n",
       "    }\n",
       "    40% {\n",
       "      border-color: transparent;\n",
       "      border-right-color: var(--fill-color);\n",
       "      border-top-color: var(--fill-color);\n",
       "    }\n",
       "    60% {\n",
       "      border-color: transparent;\n",
       "      border-right-color: var(--fill-color);\n",
       "    }\n",
       "    80% {\n",
       "      border-color: transparent;\n",
       "      border-right-color: var(--fill-color);\n",
       "      border-bottom-color: var(--fill-color);\n",
       "    }\n",
       "    90% {\n",
       "      border-color: transparent;\n",
       "      border-bottom-color: var(--fill-color);\n",
       "    }\n",
       "  }\n",
       "</style>\n",
       "\n",
       "  <script>\n",
       "    async function quickchart(key) {\n",
       "      const quickchartButtonEl =\n",
       "        document.querySelector('#' + key + ' button');\n",
       "      quickchartButtonEl.disabled = true;  // To prevent multiple clicks.\n",
       "      quickchartButtonEl.classList.add('colab-df-spinner');\n",
       "      try {\n",
       "        const charts = await google.colab.kernel.invokeFunction(\n",
       "            'suggestCharts', [key], {});\n",
       "      } catch (error) {\n",
       "        console.error('Error during call to suggestCharts:', error);\n",
       "      }\n",
       "      quickchartButtonEl.classList.remove('colab-df-spinner');\n",
       "      quickchartButtonEl.classList.add('colab-df-quickchart-complete');\n",
       "    }\n",
       "    (() => {\n",
       "      let quickchartButtonEl =\n",
       "        document.querySelector('#df-d3143c3e-052a-42c5-989d-1f23c2dc9c39 button');\n",
       "      quickchartButtonEl.style.display =\n",
       "        google.colab.kernel.accessAllowed ? 'block' : 'none';\n",
       "    })();\n",
       "  </script>\n",
       "</div>\n",
       "    </div>\n",
       "  </div>\n"
      ],
      "text/plain": [
       "           lr_list_scores  sgdc_list_scores  cat_list_scores\n",
       "metric                                                      \n",
       "f1_score         0.776706          0.633882         0.751625\n",
       "precision        0.878068          0.973752         0.904038\n",
       "recall           0.696324          0.469880         0.643188\n",
       "accuracy         0.959319          0.944849         0.956808\n",
       "roc-auc          0.842694          0.734224         0.817733"
      ]
     },
     "execution_count": 103,
     "metadata": {},
     "output_type": "execute_result"
    }
   ],
   "source": [
    "score_frame = pd.concat([pd.Series(lr_list_scores), pd.Series(sgdc_list_scores), pd.Series(cat_list_scores)], keys=['lr_list_scores', 'sgdc_list_scores', 'cat_list_scores'], axis=1)\n",
    "score_frame['metric'] = ['f1_score', 'precision', 'recall', 'accuracy', 'roc-auc']\n",
    "score_frame = score_frame.set_index('metric')\n",
    "\n",
    "score_frame"
   ]
  },
  {
   "cell_type": "markdown",
   "metadata": {},
   "source": [
    "<font color='blue'><b>Комментарий ревьюера: </b></font> ✔️\\\n",
    "<font color='green'> Отлично, что есть табличка результатов для сравнения.</font>"
   ]
  },
  {
   "cell_type": "markdown",
   "metadata": {
    "id": "BD2u1uwyCWsP"
   },
   "source": [
    "## Выводы"
   ]
  },
  {
   "cell_type": "markdown",
   "metadata": {
    "id": "iLR1Ux1xIoxJ"
   },
   "source": [
    "Значение метрики f1 больше 0.75 на модели логистической регрессии и catboost, проверим значения метрик на тестовых выборках"
   ]
  },
  {
   "cell_type": "code",
   "execution_count": 90,
   "metadata": {
    "id": "Kh2Y8qo4m3MY"
   },
   "outputs": [],
   "source": [
    "y_pred_test_lr = model_lr_cv.predict(X_test)\n",
    "\n",
    "y_pred_test_cat = model_cat.predict(X_test)"
   ]
  },
  {
   "cell_type": "code",
   "execution_count": 105,
   "metadata": {
    "id": "pSrqGTp6JKuM"
   },
   "outputs": [],
   "source": [
    "lr_test_f1 = f1_score(y_test, y_pred_test_lr)\n",
    "lr_test_precision = precision_score(y_test, y_pred_test_lr)\n",
    "lr_test_recall = recall_score(y_test, y_pred_test_lr)\n",
    "lr_test_accuracy = accuracy_score(y_test, y_pred_test_lr)\n",
    "lr_test_roc_auc = roc_auc_score(y_test, y_pred_test_lr)\n",
    "\n",
    "lr_test_list_scores = [lr_test_f1, lr_test_precision, lr_test_recall, lr_test_accuracy, lr_test_roc_auc]\n",
    "\n",
    "\n",
    "cat_test_f1 = f1_score(y_test, y_pred_test_cat)\n",
    "сat_test_precision = precision_score(y_test, y_pred_test_cat)\n",
    "cat_test_recall = recall_score(y_test, y_pred_test_cat)\n",
    "cat_test_accuracy = accuracy_score(y_test, y_pred_test_cat)\n",
    "cat_test_roc_auc = roc_auc_score(y_test, y_pred_test_cat)\n",
    "\n",
    "cat_list_scores = [cat_test_f1, сat_test_precision, cat_test_recall, cat_test_accuracy, cat_test_roc_auc]"
   ]
  },
  {
   "cell_type": "markdown",
   "metadata": {},
   "source": [
    "<font color='blue'><b>Комментарий ревьюера: </b></font> ✔️\\\n",
    "<font color='green'>Тестирование проведено верно.</font>"
   ]
  },
  {
   "cell_type": "code",
   "execution_count": 106,
   "metadata": {
    "colab": {
     "base_uri": "https://localhost:8080/",
     "height": 237
    },
    "id": "Ajb3qf06MEA0",
    "outputId": "6cdb9eb0-ca98-48c3-fd21-f99f9537ef69"
   },
   "outputs": [
    {
     "data": {
      "application/vnd.google.colaboratory.intrinsic+json": {
       "summary": "{\n  \"name\": \"score_frame_test\",\n  \"rows\": 5,\n  \"fields\": [\n    {\n      \"column\": \"metric\",\n      \"properties\": {\n        \"dtype\": \"string\",\n        \"num_unique_values\": 5,\n        \"samples\": [\n          \"precision\",\n          \"roc-auc\",\n          \"recall\"\n        ],\n        \"semantic_type\": \"\",\n        \"description\": \"\"\n      }\n    },\n    {\n      \"column\": \"lr_test_list_scores\",\n      \"properties\": {\n        \"dtype\": \"number\",\n        \"std\": 0.10871856039720754,\n        \"min\": 0.6753166512202656,\n        \"max\": 0.9581280015066386,\n        \"num_unique_values\": 5,\n        \"samples\": [\n          0.8853786958282706,\n          0.8327145760468598,\n          0.6753166512202656\n        ],\n        \"semantic_type\": \"\",\n        \"description\": \"\"\n      }\n    },\n    {\n      \"column\": \"cat_test_list_scores\",\n      \"properties\": {\n        \"dtype\": \"number\",\n        \"std\": 0.13347802324654234,\n        \"min\": 0.6212542477602718,\n        \"max\": 0.9550519476443078,\n        \"num_unique_values\": 5,\n        \"samples\": [\n          0.9070816418583671,\n          0.8070284934559867,\n          0.6212542477602718\n        ],\n        \"semantic_type\": \"\",\n        \"description\": \"\"\n      }\n    }\n  ]\n}",
       "type": "dataframe",
       "variable_name": "score_frame_test"
      },
      "text/html": [
       "\n",
       "  <div id=\"df-fbf1e891-50a0-446f-a49a-ce0e7154c117\" class=\"colab-df-container\">\n",
       "    <div>\n",
       "<style scoped>\n",
       "    .dataframe tbody tr th:only-of-type {\n",
       "        vertical-align: middle;\n",
       "    }\n",
       "\n",
       "    .dataframe tbody tr th {\n",
       "        vertical-align: top;\n",
       "    }\n",
       "\n",
       "    .dataframe thead th {\n",
       "        text-align: right;\n",
       "    }\n",
       "</style>\n",
       "<table border=\"1\" class=\"dataframe\">\n",
       "  <thead>\n",
       "    <tr style=\"text-align: right;\">\n",
       "      <th></th>\n",
       "      <th>lr_test_list_scores</th>\n",
       "      <th>cat_test_list_scores</th>\n",
       "    </tr>\n",
       "    <tr>\n",
       "      <th>metric</th>\n",
       "      <th></th>\n",
       "      <th></th>\n",
       "    </tr>\n",
       "  </thead>\n",
       "  <tbody>\n",
       "    <tr>\n",
       "      <th>f1_score</th>\n",
       "      <td>0.766211</td>\n",
       "      <td>0.737440</td>\n",
       "    </tr>\n",
       "    <tr>\n",
       "      <th>precision</th>\n",
       "      <td>0.885379</td>\n",
       "      <td>0.907082</td>\n",
       "    </tr>\n",
       "    <tr>\n",
       "      <th>recall</th>\n",
       "      <td>0.675317</td>\n",
       "      <td>0.621254</td>\n",
       "    </tr>\n",
       "    <tr>\n",
       "      <th>accuracy</th>\n",
       "      <td>0.958128</td>\n",
       "      <td>0.955052</td>\n",
       "    </tr>\n",
       "    <tr>\n",
       "      <th>roc-auc</th>\n",
       "      <td>0.832715</td>\n",
       "      <td>0.807028</td>\n",
       "    </tr>\n",
       "  </tbody>\n",
       "</table>\n",
       "</div>\n",
       "    <div class=\"colab-df-buttons\">\n",
       "\n",
       "  <div class=\"colab-df-container\">\n",
       "    <button class=\"colab-df-convert\" onclick=\"convertToInteractive('df-fbf1e891-50a0-446f-a49a-ce0e7154c117')\"\n",
       "            title=\"Convert this dataframe to an interactive table.\"\n",
       "            style=\"display:none;\">\n",
       "\n",
       "  <svg xmlns=\"http://www.w3.org/2000/svg\" height=\"24px\" viewBox=\"0 -960 960 960\">\n",
       "    <path d=\"M120-120v-720h720v720H120Zm60-500h600v-160H180v160Zm220 220h160v-160H400v160Zm0 220h160v-160H400v160ZM180-400h160v-160H180v160Zm440 0h160v-160H620v160ZM180-180h160v-160H180v160Zm440 0h160v-160H620v160Z\"/>\n",
       "  </svg>\n",
       "    </button>\n",
       "\n",
       "  <style>\n",
       "    .colab-df-container {\n",
       "      display:flex;\n",
       "      gap: 12px;\n",
       "    }\n",
       "\n",
       "    .colab-df-convert {\n",
       "      background-color: #E8F0FE;\n",
       "      border: none;\n",
       "      border-radius: 50%;\n",
       "      cursor: pointer;\n",
       "      display: none;\n",
       "      fill: #1967D2;\n",
       "      height: 32px;\n",
       "      padding: 0 0 0 0;\n",
       "      width: 32px;\n",
       "    }\n",
       "\n",
       "    .colab-df-convert:hover {\n",
       "      background-color: #E2EBFA;\n",
       "      box-shadow: 0px 1px 2px rgba(60, 64, 67, 0.3), 0px 1px 3px 1px rgba(60, 64, 67, 0.15);\n",
       "      fill: #174EA6;\n",
       "    }\n",
       "\n",
       "    .colab-df-buttons div {\n",
       "      margin-bottom: 4px;\n",
       "    }\n",
       "\n",
       "    [theme=dark] .colab-df-convert {\n",
       "      background-color: #3B4455;\n",
       "      fill: #D2E3FC;\n",
       "    }\n",
       "\n",
       "    [theme=dark] .colab-df-convert:hover {\n",
       "      background-color: #434B5C;\n",
       "      box-shadow: 0px 1px 3px 1px rgba(0, 0, 0, 0.15);\n",
       "      filter: drop-shadow(0px 1px 2px rgba(0, 0, 0, 0.3));\n",
       "      fill: #FFFFFF;\n",
       "    }\n",
       "  </style>\n",
       "\n",
       "    <script>\n",
       "      const buttonEl =\n",
       "        document.querySelector('#df-fbf1e891-50a0-446f-a49a-ce0e7154c117 button.colab-df-convert');\n",
       "      buttonEl.style.display =\n",
       "        google.colab.kernel.accessAllowed ? 'block' : 'none';\n",
       "\n",
       "      async function convertToInteractive(key) {\n",
       "        const element = document.querySelector('#df-fbf1e891-50a0-446f-a49a-ce0e7154c117');\n",
       "        const dataTable =\n",
       "          await google.colab.kernel.invokeFunction('convertToInteractive',\n",
       "                                                    [key], {});\n",
       "        if (!dataTable) return;\n",
       "\n",
       "        const docLinkHtml = 'Like what you see? Visit the ' +\n",
       "          '<a target=\"_blank\" href=https://colab.research.google.com/notebooks/data_table.ipynb>data table notebook</a>'\n",
       "          + ' to learn more about interactive tables.';\n",
       "        element.innerHTML = '';\n",
       "        dataTable['output_type'] = 'display_data';\n",
       "        await google.colab.output.renderOutput(dataTable, element);\n",
       "        const docLink = document.createElement('div');\n",
       "        docLink.innerHTML = docLinkHtml;\n",
       "        element.appendChild(docLink);\n",
       "      }\n",
       "    </script>\n",
       "  </div>\n",
       "\n",
       "\n",
       "<div id=\"df-73596c6d-1e6b-44b6-a717-5260dff4f8a8\">\n",
       "  <button class=\"colab-df-quickchart\" onclick=\"quickchart('df-73596c6d-1e6b-44b6-a717-5260dff4f8a8')\"\n",
       "            title=\"Suggest charts\"\n",
       "            style=\"display:none;\">\n",
       "\n",
       "<svg xmlns=\"http://www.w3.org/2000/svg\" height=\"24px\"viewBox=\"0 0 24 24\"\n",
       "     width=\"24px\">\n",
       "    <g>\n",
       "        <path d=\"M19 3H5c-1.1 0-2 .9-2 2v14c0 1.1.9 2 2 2h14c1.1 0 2-.9 2-2V5c0-1.1-.9-2-2-2zM9 17H7v-7h2v7zm4 0h-2V7h2v10zm4 0h-2v-4h2v4z\"/>\n",
       "    </g>\n",
       "</svg>\n",
       "  </button>\n",
       "\n",
       "<style>\n",
       "  .colab-df-quickchart {\n",
       "      --bg-color: #E8F0FE;\n",
       "      --fill-color: #1967D2;\n",
       "      --hover-bg-color: #E2EBFA;\n",
       "      --hover-fill-color: #174EA6;\n",
       "      --disabled-fill-color: #AAA;\n",
       "      --disabled-bg-color: #DDD;\n",
       "  }\n",
       "\n",
       "  [theme=dark] .colab-df-quickchart {\n",
       "      --bg-color: #3B4455;\n",
       "      --fill-color: #D2E3FC;\n",
       "      --hover-bg-color: #434B5C;\n",
       "      --hover-fill-color: #FFFFFF;\n",
       "      --disabled-bg-color: #3B4455;\n",
       "      --disabled-fill-color: #666;\n",
       "  }\n",
       "\n",
       "  .colab-df-quickchart {\n",
       "    background-color: var(--bg-color);\n",
       "    border: none;\n",
       "    border-radius: 50%;\n",
       "    cursor: pointer;\n",
       "    display: none;\n",
       "    fill: var(--fill-color);\n",
       "    height: 32px;\n",
       "    padding: 0;\n",
       "    width: 32px;\n",
       "  }\n",
       "\n",
       "  .colab-df-quickchart:hover {\n",
       "    background-color: var(--hover-bg-color);\n",
       "    box-shadow: 0 1px 2px rgba(60, 64, 67, 0.3), 0 1px 3px 1px rgba(60, 64, 67, 0.15);\n",
       "    fill: var(--button-hover-fill-color);\n",
       "  }\n",
       "\n",
       "  .colab-df-quickchart-complete:disabled,\n",
       "  .colab-df-quickchart-complete:disabled:hover {\n",
       "    background-color: var(--disabled-bg-color);\n",
       "    fill: var(--disabled-fill-color);\n",
       "    box-shadow: none;\n",
       "  }\n",
       "\n",
       "  .colab-df-spinner {\n",
       "    border: 2px solid var(--fill-color);\n",
       "    border-color: transparent;\n",
       "    border-bottom-color: var(--fill-color);\n",
       "    animation:\n",
       "      spin 1s steps(1) infinite;\n",
       "  }\n",
       "\n",
       "  @keyframes spin {\n",
       "    0% {\n",
       "      border-color: transparent;\n",
       "      border-bottom-color: var(--fill-color);\n",
       "      border-left-color: var(--fill-color);\n",
       "    }\n",
       "    20% {\n",
       "      border-color: transparent;\n",
       "      border-left-color: var(--fill-color);\n",
       "      border-top-color: var(--fill-color);\n",
       "    }\n",
       "    30% {\n",
       "      border-color: transparent;\n",
       "      border-left-color: var(--fill-color);\n",
       "      border-top-color: var(--fill-color);\n",
       "      border-right-color: var(--fill-color);\n",
       "    }\n",
       "    40% {\n",
       "      border-color: transparent;\n",
       "      border-right-color: var(--fill-color);\n",
       "      border-top-color: var(--fill-color);\n",
       "    }\n",
       "    60% {\n",
       "      border-color: transparent;\n",
       "      border-right-color: var(--fill-color);\n",
       "    }\n",
       "    80% {\n",
       "      border-color: transparent;\n",
       "      border-right-color: var(--fill-color);\n",
       "      border-bottom-color: var(--fill-color);\n",
       "    }\n",
       "    90% {\n",
       "      border-color: transparent;\n",
       "      border-bottom-color: var(--fill-color);\n",
       "    }\n",
       "  }\n",
       "</style>\n",
       "\n",
       "  <script>\n",
       "    async function quickchart(key) {\n",
       "      const quickchartButtonEl =\n",
       "        document.querySelector('#' + key + ' button');\n",
       "      quickchartButtonEl.disabled = true;  // To prevent multiple clicks.\n",
       "      quickchartButtonEl.classList.add('colab-df-spinner');\n",
       "      try {\n",
       "        const charts = await google.colab.kernel.invokeFunction(\n",
       "            'suggestCharts', [key], {});\n",
       "      } catch (error) {\n",
       "        console.error('Error during call to suggestCharts:', error);\n",
       "      }\n",
       "      quickchartButtonEl.classList.remove('colab-df-spinner');\n",
       "      quickchartButtonEl.classList.add('colab-df-quickchart-complete');\n",
       "    }\n",
       "    (() => {\n",
       "      let quickchartButtonEl =\n",
       "        document.querySelector('#df-73596c6d-1e6b-44b6-a717-5260dff4f8a8 button');\n",
       "      quickchartButtonEl.style.display =\n",
       "        google.colab.kernel.accessAllowed ? 'block' : 'none';\n",
       "    })();\n",
       "  </script>\n",
       "</div>\n",
       "    </div>\n",
       "  </div>\n"
      ],
      "text/plain": [
       "           lr_test_list_scores  cat_test_list_scores\n",
       "metric                                              \n",
       "f1_score              0.766211              0.737440\n",
       "precision             0.885379              0.907082\n",
       "recall                0.675317              0.621254\n",
       "accuracy              0.958128              0.955052\n",
       "roc-auc               0.832715              0.807028"
      ]
     },
     "execution_count": 106,
     "metadata": {},
     "output_type": "execute_result"
    }
   ],
   "source": [
    "score_frame_test = pd.concat([pd.Series(lr_test_list_scores), pd.Series(cat_list_scores)], keys=['lr_test_list_scores',  'cat_test_list_scores'], axis=1)\n",
    "score_frame_test['metric'] = ['f1_score', 'precision', 'recall', 'accuracy', 'roc-auc']\n",
    "score_frame_test = score_frame_test.set_index('metric')\n",
    "\n",
    "score_frame_test"
   ]
  },
  {
   "cell_type": "markdown",
   "metadata": {
    "id": "DhnxYnedMWNp"
   },
   "source": [
    "В конце концов модель Логистической регрессии закрепила свои позиции и показала метрику f1 на 0.03 лучше, чем модель catboost.\n",
    "\n",
    "Дело также могло быть в кол-ве итераций и в целом в гиперпараметрах catboost, однако данная модель существенно прибавляла во времени обучения, и даже если бы и выдала значения метрик похожими на метрики Логистической регрессии, то сильно бы проигрывала по времени."
   ]
  },
  {
   "cell_type": "markdown",
   "metadata": {
    "id": "fwsJobgTMSbi"
   },
   "source": [
    "<font color='blue'><b>Комментарий ревьюера: </b></font> ✔️\\\n",
    "<font color='green'>Очень приятно видеть вывод в конце проекта! В выводах можно приводить полученные ранее значения. Также можно расписать все, что было сделано в ходе проведения работы. Представь, что тебе заплатят исходя из объёма сделанных тобой выводов )).</font>"
   ]
  },
  {
   "cell_type": "markdown",
   "metadata": {},
   "source": [
    "<font color='blue'><b>Итоговый комментарий ревьюера</b></font>\\\n",
    "<font color='green'>Иван, хороший проект получился!\n",
    "Большое спасибо за проделанную работу. Видно, что приложено много усилий.\n",
    "</font>\n",
    "\n",
    "<font color='blue'>Что нужно исправить:</font>\n",
    "<ul><font color='red'>Поправь загрузку данных.</font></ul>\n",
    "<ul><font color='red'>Не применяй метод .astype('U') для текстов на латинице.</font></ul>\n",
    "<ul><font color='red'>Не применяй pymystem для текстов на Английском языке.</font></ul>\n",
    "\n",
    "<font color='blue'>Что можно сделать лучше:</font>\n",
    "<font color='orange'>В работе я оставил несколько советов. Буду рад, если ты учтешь их.</font></ul>\n",
    "\n",
    "<font color='blue'><b>Жду новую версию проекта :)</b></font>"
   ]
  },
  {
   "cell_type": "markdown",
   "metadata": {},
   "source": [
    "<font color='blue'><b>Итоговый комментарий ревьюера 2</b></font>\\\n",
    "<font color='green'> Иван, проект принят! \\\n",
    "Все этапы пройдены. Все рекомендации учтены.\\\n",
    "Надеюсь, тебе понравился процесс выполнения и результат.</font> \\\n",
    "<font color='blue'><b>Спасибо, удачи в освоении профессии!</b></font>"
   ]
  },
  {
   "cell_type": "markdown",
   "metadata": {},
   "source": [
    "<font color='green'><b>Полезные (и просто интересные) материалы:</b> \\\n",
    "Для работы с текстами используют и другие подходы. Например, сейчас активно используются RNN (LSTM) и трансформеры (BERT и другие с улицы Сезам, например, ELMO). НО! Они не являются панацеей, не всегда они нужны, так как и TF-IDF или Word2Vec + модели из классического ML тоже могут справляться. \\\n",
    "BERT тяжелый, существует много его вариаций для разных задач, есть готовые модели, есть надстройки над библиотекой transformers. Если, обучать BERT на GPU (можно в Google Colab или Kaggle), то должно быть побыстрее.\\\n",
    "https://huggingface.co/transformers/model_doc/bert.html \\\n",
    "https://colah.github.io/posts/2015-08-Understanding-LSTMs/ - Про LSTM \\\n",
    "https://web.stanford.edu/~jurafsky/slp3/10.pdf - про энкодер-декодер модели, этеншены\\\n",
    "https://pytorch.org/tutorials/beginner/transformer_tutorial.html - официальный гайд\n",
    "по трансформеру от создателей pytorch\\\n",
    "Библиотеки: allennlp, fairseq, transformers, tensorflow-text — множествореализованных\n",
    "методов для трансформеров методов NLP \\\n",
    "Word2Vec https://radimrehurek.com/gensim/models/word2vec.html\n",
    "\n",
    "<font color='green'>Пример BERT с GPU:\n",
    "```python\n",
    "%%time\n",
    "from tqdm import notebook\n",
    "batch_size = 2 # для примера возьмем такой батч, где будет всего две строки датасета\n",
    "embeddings = []\n",
    "model.cuda()   # закидываем модель на GPU\n",
    "for i in notebook.tqdm(range(input_ids.shape[0] // batch_size)):\n",
    "        batch = torch.LongTensor(input_ids[batch_size*i:batch_size*(i+1)]).cuda() # закидываем тензор на GPU\n",
    "        attention_mask_batch = torch.LongTensor(attention_mask[batch_size*i:batch_size*(i+1)]).cuda()\n",
    "\n",
    "        with torch.no_grad():\n",
    "            batch_embeddings = model(batch, attention_mask=attention_mask_batch)\n",
    "\n",
    "        embeddings.append(batch_embeddings[0][:,0,:].cpu().numpy()) # перевод обратно на проц, чтобы в нумпай кинуть\n",
    "        del batch\n",
    "        del attention_mask_batch\n",
    "        del batch_embeddings\n",
    "\n",
    "features = np.concatenate(embeddings)\n",
    "```\n",
    "Можно сделать предварительную проверку на наличие GPU.\\\n",
    "Например, так: ```device = torch.device(\"cuda:0\") if torch.cuda.is_available() else torch.device(\"cpu\")```\\\n",
    "Тогда вместо .cuda() нужно писать .to(device)\n",
    "\n",
    "Если понравилась работа с текстами, то можешь посмотреть очень интересный (но очень-очень сложный) курс лекций: https://github.com/yandexdataschool/nlp_course .\n",
    "\n",
    "\n",
    "NLP от Samsung https://stepik.org/course/54098/promo \\\n",
    "NLP от Huawei https://ods.ai/tracks/nlp-course-spring-2025 \\\n",
    "Transformers от Hugging Face https://huggingface.co/learn/nlp-course/ru/chapter1/1\n",
    "</font>"
   ]
  }
 ],
 "metadata": {
  "ExecuteTimeLog": [
   {
    "duration": 4198,
    "start_time": "2025-02-23T10:03:29.308Z"
   },
   {
    "duration": 1382,
    "start_time": "2025-02-23T10:03:33.508Z"
   },
   {
    "duration": 69,
    "start_time": "2025-02-23T10:03:34.891Z"
   },
   {
    "duration": 2,
    "start_time": "2025-02-23T10:03:34.962Z"
   },
   {
    "duration": 144,
    "start_time": "2025-02-23T10:03:34.966Z"
   },
   {
    "duration": 787,
    "start_time": "2025-02-23T10:04:44.077Z"
   },
   {
    "duration": 17,
    "start_time": "2025-02-23T10:06:09.416Z"
   },
   {
    "duration": 4583,
    "start_time": "2025-02-24T04:50:47.565Z"
   },
   {
    "duration": 1705,
    "start_time": "2025-02-24T04:50:52.150Z"
   },
   {
    "duration": 232,
    "start_time": "2025-02-24T04:50:53.857Z"
   },
   {
    "duration": 13,
    "start_time": "2025-02-24T04:51:10.966Z"
   },
   {
    "duration": 3,
    "start_time": "2025-02-24T04:51:34.321Z"
   },
   {
    "duration": 2918,
    "start_time": "2025-02-24T04:51:43.168Z"
   },
   {
    "duration": 5,
    "start_time": "2025-02-24T04:52:13.749Z"
   },
   {
    "duration": 4,
    "start_time": "2025-02-24T04:52:16.931Z"
   },
   {
    "duration": 12,
    "start_time": "2025-02-24T04:59:33.689Z"
   },
   {
    "duration": 95871,
    "start_time": "2025-02-24T04:59:38.016Z"
   },
   {
    "duration": 14,
    "start_time": "2025-02-24T05:27:27.165Z"
   },
   {
    "duration": 146,
    "start_time": "2025-02-24T05:28:23.060Z"
   },
   {
    "duration": 443,
    "start_time": "2025-02-24T05:28:26.559Z"
   },
   {
    "duration": 7946,
    "start_time": "2025-02-24T05:28:27.185Z"
   },
   {
    "duration": 49287,
    "start_time": "2025-02-24T05:28:50.717Z"
   },
   {
    "duration": 46,
    "start_time": "2025-02-24T05:29:40.007Z"
   },
   {
    "duration": 18,
    "start_time": "2025-02-24T05:30:10.145Z"
   },
   {
    "duration": 16,
    "start_time": "2025-02-24T05:30:38.468Z"
   },
   {
    "duration": 22,
    "start_time": "2025-02-24T05:30:56.791Z"
   },
   {
    "duration": 19,
    "start_time": "2025-02-24T05:32:09.200Z"
   },
   {
    "duration": 7,
    "start_time": "2025-02-24T05:32:14.462Z"
   },
   {
    "duration": 5,
    "start_time": "2025-02-24T05:32:19.808Z"
   },
   {
    "duration": 6,
    "start_time": "2025-02-24T05:33:16.918Z"
   },
   {
    "duration": 4,
    "start_time": "2025-02-24T05:33:17.342Z"
   },
   {
    "duration": 9,
    "start_time": "2025-02-24T15:44:52.701Z"
   },
   {
    "duration": 2876,
    "start_time": "2025-02-24T15:46:33.936Z"
   },
   {
    "duration": 1778,
    "start_time": "2025-02-24T15:46:36.814Z"
   },
   {
    "duration": 65,
    "start_time": "2025-02-24T15:46:38.594Z"
   },
   {
    "duration": 829,
    "start_time": "2025-02-24T15:46:38.661Z"
   },
   {
    "duration": 3084,
    "start_time": "2025-02-24T15:46:39.492Z"
   },
   {
    "duration": 11,
    "start_time": "2025-02-24T15:46:42.578Z"
   },
   {
    "duration": 4,
    "start_time": "2025-02-24T15:46:42.591Z"
   },
   {
    "duration": 154,
    "start_time": "2025-02-24T15:46:42.596Z"
   },
   {
    "duration": 5,
    "start_time": "2025-02-24T15:47:09.607Z"
   },
   {
    "duration": 4,
    "start_time": "2025-02-24T15:47:12.991Z"
   },
   {
    "duration": 369,
    "start_time": "2025-02-24T15:47:20.132Z"
   },
   {
    "duration": 5797,
    "start_time": "2025-02-24T15:48:25.962Z"
   },
   {
    "duration": 321,
    "start_time": "2025-02-24T15:48:41.448Z"
   },
   {
    "duration": 3316,
    "start_time": "2025-02-24T15:48:50.935Z"
   },
   {
    "duration": 413,
    "start_time": "2025-02-24T15:48:58.338Z"
   },
   {
    "duration": 3,
    "start_time": "2025-02-24T15:50:19.276Z"
   },
   {
    "duration": 4,
    "start_time": "2025-02-24T15:50:19.819Z"
   },
   {
    "duration": 296,
    "start_time": "2025-02-24T15:50:22.295Z"
   },
   {
    "duration": 2697,
    "start_time": "2025-02-25T07:24:25.110Z"
   },
   {
    "duration": 4820,
    "start_time": "2025-02-25T07:24:27.810Z"
   },
   {
    "duration": 128,
    "start_time": "2025-02-25T07:24:32.631Z"
   },
   {
    "duration": 816,
    "start_time": "2025-02-25T07:24:32.761Z"
   },
   {
    "duration": 3023,
    "start_time": "2025-02-25T07:24:33.579Z"
   },
   {
    "duration": 14,
    "start_time": "2025-02-25T07:24:36.603Z"
   },
   {
    "duration": 8,
    "start_time": "2025-02-25T07:24:36.619Z"
   },
   {
    "duration": 1326,
    "start_time": "2025-02-25T07:24:36.628Z"
   },
   {
    "duration": 28,
    "start_time": "2025-02-25T07:24:37.956Z"
   },
   {
    "duration": 6,
    "start_time": "2025-02-25T07:24:37.987Z"
   },
   {
    "duration": 3374,
    "start_time": "2025-02-25T07:30:54.237Z"
   },
   {
    "duration": 138,
    "start_time": "2025-02-25T07:30:57.613Z"
   },
   {
    "duration": 2107,
    "start_time": "2025-02-25T07:31:03.610Z"
   },
   {
    "duration": 11,
    "start_time": "2025-02-25T07:31:15.816Z"
   },
   {
    "duration": 4,
    "start_time": "2025-02-25T07:31:29.878Z"
   },
   {
    "duration": 151,
    "start_time": "2025-02-25T07:31:38.762Z"
   },
   {
    "duration": 6,
    "start_time": "2025-02-25T07:31:42.171Z"
   },
   {
    "duration": 90,
    "start_time": "2025-02-25T07:31:42.658Z"
   },
   {
    "duration": 3,
    "start_time": "2025-02-25T07:31:44.681Z"
   },
   {
    "duration": 1778,
    "start_time": "2025-02-25T07:31:54.848Z"
   },
   {
    "duration": 153555,
    "start_time": "2025-02-25T07:32:14.271Z"
   }
  ],
  "colab": {
   "provenance": []
  },
  "kernelspec": {
   "display_name": "Python 3 (ipykernel)",
   "language": "python",
   "name": "python3"
  },
  "language_info": {
   "codemirror_mode": {
    "name": "ipython",
    "version": 3
   },
   "file_extension": ".py",
   "mimetype": "text/x-python",
   "name": "python",
   "nbconvert_exporter": "python",
   "pygments_lexer": "ipython3",
   "version": "3.9.5"
  },
  "toc": {
   "base_numbering": 1,
   "nav_menu": {},
   "number_sections": true,
   "sideBar": true,
   "skip_h1_title": true,
   "title_cell": "Table of Contents",
   "title_sidebar": "Contents",
   "toc_cell": false,
   "toc_position": {},
   "toc_section_display": true,
   "toc_window_display": true
  }
 },
 "nbformat": 4,
 "nbformat_minor": 1
}
